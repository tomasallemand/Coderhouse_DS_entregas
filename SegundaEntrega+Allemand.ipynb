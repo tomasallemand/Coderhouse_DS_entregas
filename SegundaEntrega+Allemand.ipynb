{
  "nbformat": 4,
  "nbformat_minor": 0,
  "metadata": {
    "colab": {
      "provenance": [],
      "authorship_tag": "ABX9TyPxiEjdHrKzCCxyri9alfO7",
      "include_colab_link": true
    },
    "kernelspec": {
      "name": "python3",
      "display_name": "Python 3"
    },
    "language_info": {
      "name": "python"
    }
  },
  "cells": [
    {
      "cell_type": "markdown",
      "metadata": {
        "id": "view-in-github",
        "colab_type": "text"
      },
      "source": [
        "<a href=\"https://colab.research.google.com/github/tomasallemand/Coderhouse_DS_entregas/blob/main/SegundaEntrega%2BAllemand.ipynb\" target=\"_parent\"><img src=\"https://colab.research.google.com/assets/colab-badge.svg\" alt=\"Open In Colab\"/></a>"
      ]
    },
    {
      "cell_type": "markdown",
      "metadata": {
        "id": "_1-xHDIHzIN5"
      },
      "source": [
        "#ABSTRACT\n",
        "\n",
        "El estudio de la democracia como sistema de gobierno es fundamental para comprender y mejorar el desempeño de nuestras sociedades modernas, al menos en las sociedades que comparten los valores occidentales.\n",
        "\n",
        "En este sentido intentaremos comprender qué fundamentos hay por detras de las percepciones que cada uno de los ciudadanos tiene sobre la democracia, intentando realizar un modelo que nos permita predecir cuando un ciudadano podría tener una percepción negativa de este sistema de gobierno.\n",
        "\n",
        "**Motivación**: Es sumamente relevante conocer también la perspectiva y conformidad de los usuarios de este sistema: la ciudadanía. Esto adquiere aún más relevancia a la luz de las experiencias antidemocrácticas vividas en el siglo XX (al menos en Europa y Sudamérica) que dieron lugar a regímenes autoritarios y violentos, con consecuencias trágicas, y conocer qué indicadores pueden ser indicio de tendencias similares.\n",
        "\n",
        "**Audiencia**: Este trabajo intenta dar cuenta de qué variables influyen en la percepción que tiene una persona de la democracia, por lo cual está orientada a cualquier persona que quiera comprender esta forma de gobierno."
      ]
    },
    {
      "cell_type": "markdown",
      "metadata": {
        "id": "870mPrGrbWbH"
      },
      "source": [
        "#OBJETIVO\n",
        "Teniendo en cuenta el contexto mencionado previamente, se intentará descubrir qué variables hay por detrás de la percepción que tienen las personas acerca de la democracia, para así hacer una estimación de las percepciones que distintas personas tienen acerca del sistema, aún sin tener el dato de su percepción de la democracia específicamente.\n",
        "\n",
        "En términos concretos, se intentará encontrar qué variables explican la variable \"Q250: Importance of democracy\"."
      ]
    },
    {
      "cell_type": "markdown",
      "metadata": {
        "id": "0XTD8Bk2bL9P"
      },
      "source": [
        "#HIPÓTESIS PRINCIPAL:\n",
        "La valoración que una persona le asigna a la democracia como sistema de gobierno (variable dependiente) está influenciada por su percepción sobre el ordenamiento social, político y económico de su entorno. Específicamente, factores como los niveles de corrupción percibidos, los resultados económicos obtenidos bajo este sistema de gobierno en su país, y la valoración personal de otras instituciones alternativas, como el ejército, afectan su opinión sobre la democracia (variables independientes)."
      ]
    },
    {
      "cell_type": "markdown",
      "metadata": {
        "id": "Eq_lcB6Ifn9T"
      },
      "source": [
        "#CONTEXTO COMERCIAL\n",
        "Una consultora quiere conocer el porcentaje de población que comparte ideas poco democráticas o autoritarias en una sociedad, independientemente de variaciones contextuales que favorezcan la proliferación temporal de este tipo de ideas.\n",
        "\n",
        "Si bien las ideas antidemocráticas tienden a proliferar en contextos adversos de recesión económica o desaceleración del crecimiento (como cuestionamiento de la capacidad de este sistema de arrojar resultados), ello se trata de un patrón a nivel macro y puramente coyuntural.\n",
        "\n",
        "En este sentido, se busca analizar qué variables micro tienden a fundamentar posturas autoritarias en los individuos, que puedan persistir independientemente de las variaciones contextuales y el devenir económico de una sociedad."
      ]
    },
    {
      "cell_type": "markdown",
      "metadata": {
        "id": "18hXqvHnc54O"
      },
      "source": [
        "#PROBLEMA COMERCIAL\n",
        "\n",
        "¿De qué depende que una persona valore positivamente la democracia como sistema de gobierno?\n",
        "\n",
        "¿Cuales son los factores más importantes que explican que una persona esté disconforme con este régimen?"
      ]
    },
    {
      "cell_type": "markdown",
      "metadata": {
        "id": "onwJ7kcIjJQY"
      },
      "source": [
        "#CONTEXTO ANALÍTICO\n",
        "El dataset a utilizar se llama \"World Value Surveys. Wave 7. v5.0\" y tal como su nombre lo indica, trata de una encuesta de más de 200 preguntas sobre la percepción de diferentes temas sociopolíticos y económicos de las personas entrevistadas, tanto en términos objetivos (por ejemplo edad o ingresos) o bien subjetivos (por ejemplo, percepción de inseguridad). Se trata de variables cualitativas que han sido codificadas en el dataset como cuantitativas discretas.\n",
        "\n",
        "A su vez, cada columna fue codificada como Q (question) y un número que representa el orden de esa pregunta.\n",
        "\n",
        "Posee 295 columnas y han respondido 1003 personas en total"
      ]
    },
    {
      "cell_type": "code",
      "execution_count": null,
      "metadata": {
        "id": "jaL4ST-JZRU-"
      },
      "outputs": [],
      "source": [
        "import numpy as np\n",
        "import pandas as pd\n",
        "import matplotlib.pyplot as plt\n",
        "import seaborn as sns\n",
        "from scipy.stats import spearmanr\n",
        "from sklearn.model_selection import train_test_split\n",
        "import plotly.express as px"
      ]
    },
    {
      "cell_type": "code",
      "execution_count": null,
      "metadata": {
        "id": "IGQKwkRja83b"
      },
      "outputs": [],
      "source": [
        "df=pd.read_csv('/content/WVS_FINAL_LIMPIO_7_v5.0.csv',delimiter=\";\")"
      ]
    },
    {
      "cell_type": "code",
      "execution_count": null,
      "metadata": {
        "colab": {
          "base_uri": "https://localhost:8080/",
          "height": 424
        },
        "id": "rLpyVCqebBVi",
        "outputId": "a5596d92-4f53-47ac-b459-00a3cba8a664"
      },
      "outputs": [
        {
          "output_type": "execute_result",
          "data": {
            "text/plain": [
              "      Q1  Q2  Q3  Q4  Q5  Q6  Q7  Q8  Q9  Q10  ...  Q282  Q283  Q284  Q285  \\\n",
              "0      1   2   4   4   1   4   1   2   1    1  ...    -3    -5     1     1   \n",
              "1      1   2   1   2   2   4   2   1   2    1  ...    -3     4     2     1   \n",
              "2      1   1   1   2   1   1   1   2   2    2  ...    -3     7     2     1   \n",
              "3      1   1   1   2   2   1   1   2   2    1  ...     3     4     2     2   \n",
              "4      1   1   1   3   1   3   1   2   2    1  ...    -3     4     2     1   \n",
              "...   ..  ..  ..  ..  ..  ..  ..  ..  ..  ...  ...   ...   ...   ...   ...   \n",
              "998    1   1   3   3   2   2   1   1   2    1  ...     7     4     2     2   \n",
              "999    1   1   3   3   2   2   1   1   1    1  ...     0     4     2     1   \n",
              "1000   1   2   3   2   2   4   1   1   1    1  ...    -5    -5     2     2   \n",
              "1001   2   1   3   3   1   3   2   1   2    1  ...    -5    -5     1     1   \n",
              "1002   1   2   1   3   2   3   2   1   2    1  ...    -3    -5     2     1   \n",
              "\n",
              "      Q286  Q287  Q288  Q288R  Q289   Q290  \n",
              "0        2     3     5      2     1  32001  \n",
              "1       -2     3     3      1     0  32001  \n",
              "2       -2     3     5      2     1  32001  \n",
              "3       -2     3     7      2     1  32001  \n",
              "4        4     3     4      2     1  32001  \n",
              "...    ...   ...   ...    ...   ...    ...  \n",
              "998      2     3     5      2     1  32001  \n",
              "999      4     4     5      2     1  32002  \n",
              "1000    -2     3     7      2     1  32001  \n",
              "1001     2     3     5      2     1  32001  \n",
              "1002     4     3     4      2     1  32001  \n",
              "\n",
              "[1003 rows x 295 columns]"
            ],
            "text/html": [
              "\n",
              "  <div id=\"df-213da9f3-17d3-489a-a684-b7cd54f79f38\" class=\"colab-df-container\">\n",
              "    <div>\n",
              "<style scoped>\n",
              "    .dataframe tbody tr th:only-of-type {\n",
              "        vertical-align: middle;\n",
              "    }\n",
              "\n",
              "    .dataframe tbody tr th {\n",
              "        vertical-align: top;\n",
              "    }\n",
              "\n",
              "    .dataframe thead th {\n",
              "        text-align: right;\n",
              "    }\n",
              "</style>\n",
              "<table border=\"1\" class=\"dataframe\">\n",
              "  <thead>\n",
              "    <tr style=\"text-align: right;\">\n",
              "      <th></th>\n",
              "      <th>Q1</th>\n",
              "      <th>Q2</th>\n",
              "      <th>Q3</th>\n",
              "      <th>Q4</th>\n",
              "      <th>Q5</th>\n",
              "      <th>Q6</th>\n",
              "      <th>Q7</th>\n",
              "      <th>Q8</th>\n",
              "      <th>Q9</th>\n",
              "      <th>Q10</th>\n",
              "      <th>...</th>\n",
              "      <th>Q282</th>\n",
              "      <th>Q283</th>\n",
              "      <th>Q284</th>\n",
              "      <th>Q285</th>\n",
              "      <th>Q286</th>\n",
              "      <th>Q287</th>\n",
              "      <th>Q288</th>\n",
              "      <th>Q288R</th>\n",
              "      <th>Q289</th>\n",
              "      <th>Q290</th>\n",
              "    </tr>\n",
              "  </thead>\n",
              "  <tbody>\n",
              "    <tr>\n",
              "      <th>0</th>\n",
              "      <td>1</td>\n",
              "      <td>2</td>\n",
              "      <td>4</td>\n",
              "      <td>4</td>\n",
              "      <td>1</td>\n",
              "      <td>4</td>\n",
              "      <td>1</td>\n",
              "      <td>2</td>\n",
              "      <td>1</td>\n",
              "      <td>1</td>\n",
              "      <td>...</td>\n",
              "      <td>-3</td>\n",
              "      <td>-5</td>\n",
              "      <td>1</td>\n",
              "      <td>1</td>\n",
              "      <td>2</td>\n",
              "      <td>3</td>\n",
              "      <td>5</td>\n",
              "      <td>2</td>\n",
              "      <td>1</td>\n",
              "      <td>32001</td>\n",
              "    </tr>\n",
              "    <tr>\n",
              "      <th>1</th>\n",
              "      <td>1</td>\n",
              "      <td>2</td>\n",
              "      <td>1</td>\n",
              "      <td>2</td>\n",
              "      <td>2</td>\n",
              "      <td>4</td>\n",
              "      <td>2</td>\n",
              "      <td>1</td>\n",
              "      <td>2</td>\n",
              "      <td>1</td>\n",
              "      <td>...</td>\n",
              "      <td>-3</td>\n",
              "      <td>4</td>\n",
              "      <td>2</td>\n",
              "      <td>1</td>\n",
              "      <td>-2</td>\n",
              "      <td>3</td>\n",
              "      <td>3</td>\n",
              "      <td>1</td>\n",
              "      <td>0</td>\n",
              "      <td>32001</td>\n",
              "    </tr>\n",
              "    <tr>\n",
              "      <th>2</th>\n",
              "      <td>1</td>\n",
              "      <td>1</td>\n",
              "      <td>1</td>\n",
              "      <td>2</td>\n",
              "      <td>1</td>\n",
              "      <td>1</td>\n",
              "      <td>1</td>\n",
              "      <td>2</td>\n",
              "      <td>2</td>\n",
              "      <td>2</td>\n",
              "      <td>...</td>\n",
              "      <td>-3</td>\n",
              "      <td>7</td>\n",
              "      <td>2</td>\n",
              "      <td>1</td>\n",
              "      <td>-2</td>\n",
              "      <td>3</td>\n",
              "      <td>5</td>\n",
              "      <td>2</td>\n",
              "      <td>1</td>\n",
              "      <td>32001</td>\n",
              "    </tr>\n",
              "    <tr>\n",
              "      <th>3</th>\n",
              "      <td>1</td>\n",
              "      <td>1</td>\n",
              "      <td>1</td>\n",
              "      <td>2</td>\n",
              "      <td>2</td>\n",
              "      <td>1</td>\n",
              "      <td>1</td>\n",
              "      <td>2</td>\n",
              "      <td>2</td>\n",
              "      <td>1</td>\n",
              "      <td>...</td>\n",
              "      <td>3</td>\n",
              "      <td>4</td>\n",
              "      <td>2</td>\n",
              "      <td>2</td>\n",
              "      <td>-2</td>\n",
              "      <td>3</td>\n",
              "      <td>7</td>\n",
              "      <td>2</td>\n",
              "      <td>1</td>\n",
              "      <td>32001</td>\n",
              "    </tr>\n",
              "    <tr>\n",
              "      <th>4</th>\n",
              "      <td>1</td>\n",
              "      <td>1</td>\n",
              "      <td>1</td>\n",
              "      <td>3</td>\n",
              "      <td>1</td>\n",
              "      <td>3</td>\n",
              "      <td>1</td>\n",
              "      <td>2</td>\n",
              "      <td>2</td>\n",
              "      <td>1</td>\n",
              "      <td>...</td>\n",
              "      <td>-3</td>\n",
              "      <td>4</td>\n",
              "      <td>2</td>\n",
              "      <td>1</td>\n",
              "      <td>4</td>\n",
              "      <td>3</td>\n",
              "      <td>4</td>\n",
              "      <td>2</td>\n",
              "      <td>1</td>\n",
              "      <td>32001</td>\n",
              "    </tr>\n",
              "    <tr>\n",
              "      <th>...</th>\n",
              "      <td>...</td>\n",
              "      <td>...</td>\n",
              "      <td>...</td>\n",
              "      <td>...</td>\n",
              "      <td>...</td>\n",
              "      <td>...</td>\n",
              "      <td>...</td>\n",
              "      <td>...</td>\n",
              "      <td>...</td>\n",
              "      <td>...</td>\n",
              "      <td>...</td>\n",
              "      <td>...</td>\n",
              "      <td>...</td>\n",
              "      <td>...</td>\n",
              "      <td>...</td>\n",
              "      <td>...</td>\n",
              "      <td>...</td>\n",
              "      <td>...</td>\n",
              "      <td>...</td>\n",
              "      <td>...</td>\n",
              "      <td>...</td>\n",
              "    </tr>\n",
              "    <tr>\n",
              "      <th>998</th>\n",
              "      <td>1</td>\n",
              "      <td>1</td>\n",
              "      <td>3</td>\n",
              "      <td>3</td>\n",
              "      <td>2</td>\n",
              "      <td>2</td>\n",
              "      <td>1</td>\n",
              "      <td>1</td>\n",
              "      <td>2</td>\n",
              "      <td>1</td>\n",
              "      <td>...</td>\n",
              "      <td>7</td>\n",
              "      <td>4</td>\n",
              "      <td>2</td>\n",
              "      <td>2</td>\n",
              "      <td>2</td>\n",
              "      <td>3</td>\n",
              "      <td>5</td>\n",
              "      <td>2</td>\n",
              "      <td>1</td>\n",
              "      <td>32001</td>\n",
              "    </tr>\n",
              "    <tr>\n",
              "      <th>999</th>\n",
              "      <td>1</td>\n",
              "      <td>1</td>\n",
              "      <td>3</td>\n",
              "      <td>3</td>\n",
              "      <td>2</td>\n",
              "      <td>2</td>\n",
              "      <td>1</td>\n",
              "      <td>1</td>\n",
              "      <td>1</td>\n",
              "      <td>1</td>\n",
              "      <td>...</td>\n",
              "      <td>0</td>\n",
              "      <td>4</td>\n",
              "      <td>2</td>\n",
              "      <td>1</td>\n",
              "      <td>4</td>\n",
              "      <td>4</td>\n",
              "      <td>5</td>\n",
              "      <td>2</td>\n",
              "      <td>1</td>\n",
              "      <td>32002</td>\n",
              "    </tr>\n",
              "    <tr>\n",
              "      <th>1000</th>\n",
              "      <td>1</td>\n",
              "      <td>2</td>\n",
              "      <td>3</td>\n",
              "      <td>2</td>\n",
              "      <td>2</td>\n",
              "      <td>4</td>\n",
              "      <td>1</td>\n",
              "      <td>1</td>\n",
              "      <td>1</td>\n",
              "      <td>1</td>\n",
              "      <td>...</td>\n",
              "      <td>-5</td>\n",
              "      <td>-5</td>\n",
              "      <td>2</td>\n",
              "      <td>2</td>\n",
              "      <td>-2</td>\n",
              "      <td>3</td>\n",
              "      <td>7</td>\n",
              "      <td>2</td>\n",
              "      <td>1</td>\n",
              "      <td>32001</td>\n",
              "    </tr>\n",
              "    <tr>\n",
              "      <th>1001</th>\n",
              "      <td>2</td>\n",
              "      <td>1</td>\n",
              "      <td>3</td>\n",
              "      <td>3</td>\n",
              "      <td>1</td>\n",
              "      <td>3</td>\n",
              "      <td>2</td>\n",
              "      <td>1</td>\n",
              "      <td>2</td>\n",
              "      <td>1</td>\n",
              "      <td>...</td>\n",
              "      <td>-5</td>\n",
              "      <td>-5</td>\n",
              "      <td>1</td>\n",
              "      <td>1</td>\n",
              "      <td>2</td>\n",
              "      <td>3</td>\n",
              "      <td>5</td>\n",
              "      <td>2</td>\n",
              "      <td>1</td>\n",
              "      <td>32001</td>\n",
              "    </tr>\n",
              "    <tr>\n",
              "      <th>1002</th>\n",
              "      <td>1</td>\n",
              "      <td>2</td>\n",
              "      <td>1</td>\n",
              "      <td>3</td>\n",
              "      <td>2</td>\n",
              "      <td>3</td>\n",
              "      <td>2</td>\n",
              "      <td>1</td>\n",
              "      <td>2</td>\n",
              "      <td>1</td>\n",
              "      <td>...</td>\n",
              "      <td>-3</td>\n",
              "      <td>-5</td>\n",
              "      <td>2</td>\n",
              "      <td>1</td>\n",
              "      <td>4</td>\n",
              "      <td>3</td>\n",
              "      <td>4</td>\n",
              "      <td>2</td>\n",
              "      <td>1</td>\n",
              "      <td>32001</td>\n",
              "    </tr>\n",
              "  </tbody>\n",
              "</table>\n",
              "<p>1003 rows × 295 columns</p>\n",
              "</div>\n",
              "    <div class=\"colab-df-buttons\">\n",
              "\n",
              "  <div class=\"colab-df-container\">\n",
              "    <button class=\"colab-df-convert\" onclick=\"convertToInteractive('df-213da9f3-17d3-489a-a684-b7cd54f79f38')\"\n",
              "            title=\"Convert this dataframe to an interactive table.\"\n",
              "            style=\"display:none;\">\n",
              "\n",
              "  <svg xmlns=\"http://www.w3.org/2000/svg\" height=\"24px\" viewBox=\"0 -960 960 960\">\n",
              "    <path d=\"M120-120v-720h720v720H120Zm60-500h600v-160H180v160Zm220 220h160v-160H400v160Zm0 220h160v-160H400v160ZM180-400h160v-160H180v160Zm440 0h160v-160H620v160ZM180-180h160v-160H180v160Zm440 0h160v-160H620v160Z\"/>\n",
              "  </svg>\n",
              "    </button>\n",
              "\n",
              "  <style>\n",
              "    .colab-df-container {\n",
              "      display:flex;\n",
              "      gap: 12px;\n",
              "    }\n",
              "\n",
              "    .colab-df-convert {\n",
              "      background-color: #E8F0FE;\n",
              "      border: none;\n",
              "      border-radius: 50%;\n",
              "      cursor: pointer;\n",
              "      display: none;\n",
              "      fill: #1967D2;\n",
              "      height: 32px;\n",
              "      padding: 0 0 0 0;\n",
              "      width: 32px;\n",
              "    }\n",
              "\n",
              "    .colab-df-convert:hover {\n",
              "      background-color: #E2EBFA;\n",
              "      box-shadow: 0px 1px 2px rgba(60, 64, 67, 0.3), 0px 1px 3px 1px rgba(60, 64, 67, 0.15);\n",
              "      fill: #174EA6;\n",
              "    }\n",
              "\n",
              "    .colab-df-buttons div {\n",
              "      margin-bottom: 4px;\n",
              "    }\n",
              "\n",
              "    [theme=dark] .colab-df-convert {\n",
              "      background-color: #3B4455;\n",
              "      fill: #D2E3FC;\n",
              "    }\n",
              "\n",
              "    [theme=dark] .colab-df-convert:hover {\n",
              "      background-color: #434B5C;\n",
              "      box-shadow: 0px 1px 3px 1px rgba(0, 0, 0, 0.15);\n",
              "      filter: drop-shadow(0px 1px 2px rgba(0, 0, 0, 0.3));\n",
              "      fill: #FFFFFF;\n",
              "    }\n",
              "  </style>\n",
              "\n",
              "    <script>\n",
              "      const buttonEl =\n",
              "        document.querySelector('#df-213da9f3-17d3-489a-a684-b7cd54f79f38 button.colab-df-convert');\n",
              "      buttonEl.style.display =\n",
              "        google.colab.kernel.accessAllowed ? 'block' : 'none';\n",
              "\n",
              "      async function convertToInteractive(key) {\n",
              "        const element = document.querySelector('#df-213da9f3-17d3-489a-a684-b7cd54f79f38');\n",
              "        const dataTable =\n",
              "          await google.colab.kernel.invokeFunction('convertToInteractive',\n",
              "                                                    [key], {});\n",
              "        if (!dataTable) return;\n",
              "\n",
              "        const docLinkHtml = 'Like what you see? Visit the ' +\n",
              "          '<a target=\"_blank\" href=https://colab.research.google.com/notebooks/data_table.ipynb>data table notebook</a>'\n",
              "          + ' to learn more about interactive tables.';\n",
              "        element.innerHTML = '';\n",
              "        dataTable['output_type'] = 'display_data';\n",
              "        await google.colab.output.renderOutput(dataTable, element);\n",
              "        const docLink = document.createElement('div');\n",
              "        docLink.innerHTML = docLinkHtml;\n",
              "        element.appendChild(docLink);\n",
              "      }\n",
              "    </script>\n",
              "  </div>\n",
              "\n",
              "\n",
              "<div id=\"df-b0b7732d-6c76-4b14-bbdb-08a6942170c9\">\n",
              "  <button class=\"colab-df-quickchart\" onclick=\"quickchart('df-b0b7732d-6c76-4b14-bbdb-08a6942170c9')\"\n",
              "            title=\"Suggest charts\"\n",
              "            style=\"display:none;\">\n",
              "\n",
              "<svg xmlns=\"http://www.w3.org/2000/svg\" height=\"24px\"viewBox=\"0 0 24 24\"\n",
              "     width=\"24px\">\n",
              "    <g>\n",
              "        <path d=\"M19 3H5c-1.1 0-2 .9-2 2v14c0 1.1.9 2 2 2h14c1.1 0 2-.9 2-2V5c0-1.1-.9-2-2-2zM9 17H7v-7h2v7zm4 0h-2V7h2v10zm4 0h-2v-4h2v4z\"/>\n",
              "    </g>\n",
              "</svg>\n",
              "  </button>\n",
              "\n",
              "<style>\n",
              "  .colab-df-quickchart {\n",
              "      --bg-color: #E8F0FE;\n",
              "      --fill-color: #1967D2;\n",
              "      --hover-bg-color: #E2EBFA;\n",
              "      --hover-fill-color: #174EA6;\n",
              "      --disabled-fill-color: #AAA;\n",
              "      --disabled-bg-color: #DDD;\n",
              "  }\n",
              "\n",
              "  [theme=dark] .colab-df-quickchart {\n",
              "      --bg-color: #3B4455;\n",
              "      --fill-color: #D2E3FC;\n",
              "      --hover-bg-color: #434B5C;\n",
              "      --hover-fill-color: #FFFFFF;\n",
              "      --disabled-bg-color: #3B4455;\n",
              "      --disabled-fill-color: #666;\n",
              "  }\n",
              "\n",
              "  .colab-df-quickchart {\n",
              "    background-color: var(--bg-color);\n",
              "    border: none;\n",
              "    border-radius: 50%;\n",
              "    cursor: pointer;\n",
              "    display: none;\n",
              "    fill: var(--fill-color);\n",
              "    height: 32px;\n",
              "    padding: 0;\n",
              "    width: 32px;\n",
              "  }\n",
              "\n",
              "  .colab-df-quickchart:hover {\n",
              "    background-color: var(--hover-bg-color);\n",
              "    box-shadow: 0 1px 2px rgba(60, 64, 67, 0.3), 0 1px 3px 1px rgba(60, 64, 67, 0.15);\n",
              "    fill: var(--button-hover-fill-color);\n",
              "  }\n",
              "\n",
              "  .colab-df-quickchart-complete:disabled,\n",
              "  .colab-df-quickchart-complete:disabled:hover {\n",
              "    background-color: var(--disabled-bg-color);\n",
              "    fill: var(--disabled-fill-color);\n",
              "    box-shadow: none;\n",
              "  }\n",
              "\n",
              "  .colab-df-spinner {\n",
              "    border: 2px solid var(--fill-color);\n",
              "    border-color: transparent;\n",
              "    border-bottom-color: var(--fill-color);\n",
              "    animation:\n",
              "      spin 1s steps(1) infinite;\n",
              "  }\n",
              "\n",
              "  @keyframes spin {\n",
              "    0% {\n",
              "      border-color: transparent;\n",
              "      border-bottom-color: var(--fill-color);\n",
              "      border-left-color: var(--fill-color);\n",
              "    }\n",
              "    20% {\n",
              "      border-color: transparent;\n",
              "      border-left-color: var(--fill-color);\n",
              "      border-top-color: var(--fill-color);\n",
              "    }\n",
              "    30% {\n",
              "      border-color: transparent;\n",
              "      border-left-color: var(--fill-color);\n",
              "      border-top-color: var(--fill-color);\n",
              "      border-right-color: var(--fill-color);\n",
              "    }\n",
              "    40% {\n",
              "      border-color: transparent;\n",
              "      border-right-color: var(--fill-color);\n",
              "      border-top-color: var(--fill-color);\n",
              "    }\n",
              "    60% {\n",
              "      border-color: transparent;\n",
              "      border-right-color: var(--fill-color);\n",
              "    }\n",
              "    80% {\n",
              "      border-color: transparent;\n",
              "      border-right-color: var(--fill-color);\n",
              "      border-bottom-color: var(--fill-color);\n",
              "    }\n",
              "    90% {\n",
              "      border-color: transparent;\n",
              "      border-bottom-color: var(--fill-color);\n",
              "    }\n",
              "  }\n",
              "</style>\n",
              "\n",
              "  <script>\n",
              "    async function quickchart(key) {\n",
              "      const quickchartButtonEl =\n",
              "        document.querySelector('#' + key + ' button');\n",
              "      quickchartButtonEl.disabled = true;  // To prevent multiple clicks.\n",
              "      quickchartButtonEl.classList.add('colab-df-spinner');\n",
              "      try {\n",
              "        const charts = await google.colab.kernel.invokeFunction(\n",
              "            'suggestCharts', [key], {});\n",
              "      } catch (error) {\n",
              "        console.error('Error during call to suggestCharts:', error);\n",
              "      }\n",
              "      quickchartButtonEl.classList.remove('colab-df-spinner');\n",
              "      quickchartButtonEl.classList.add('colab-df-quickchart-complete');\n",
              "    }\n",
              "    (() => {\n",
              "      let quickchartButtonEl =\n",
              "        document.querySelector('#df-b0b7732d-6c76-4b14-bbdb-08a6942170c9 button');\n",
              "      quickchartButtonEl.style.display =\n",
              "        google.colab.kernel.accessAllowed ? 'block' : 'none';\n",
              "    })();\n",
              "  </script>\n",
              "</div>\n",
              "\n",
              "  <div id=\"id_b08558a6-7de8-48f9-bb4a-e5420cb0e370\">\n",
              "    <style>\n",
              "      .colab-df-generate {\n",
              "        background-color: #E8F0FE;\n",
              "        border: none;\n",
              "        border-radius: 50%;\n",
              "        cursor: pointer;\n",
              "        display: none;\n",
              "        fill: #1967D2;\n",
              "        height: 32px;\n",
              "        padding: 0 0 0 0;\n",
              "        width: 32px;\n",
              "      }\n",
              "\n",
              "      .colab-df-generate:hover {\n",
              "        background-color: #E2EBFA;\n",
              "        box-shadow: 0px 1px 2px rgba(60, 64, 67, 0.3), 0px 1px 3px 1px rgba(60, 64, 67, 0.15);\n",
              "        fill: #174EA6;\n",
              "      }\n",
              "\n",
              "      [theme=dark] .colab-df-generate {\n",
              "        background-color: #3B4455;\n",
              "        fill: #D2E3FC;\n",
              "      }\n",
              "\n",
              "      [theme=dark] .colab-df-generate:hover {\n",
              "        background-color: #434B5C;\n",
              "        box-shadow: 0px 1px 3px 1px rgba(0, 0, 0, 0.15);\n",
              "        filter: drop-shadow(0px 1px 2px rgba(0, 0, 0, 0.3));\n",
              "        fill: #FFFFFF;\n",
              "      }\n",
              "    </style>\n",
              "    <button class=\"colab-df-generate\" onclick=\"generateWithVariable('df')\"\n",
              "            title=\"Generate code using this dataframe.\"\n",
              "            style=\"display:none;\">\n",
              "\n",
              "  <svg xmlns=\"http://www.w3.org/2000/svg\" height=\"24px\"viewBox=\"0 0 24 24\"\n",
              "       width=\"24px\">\n",
              "    <path d=\"M7,19H8.4L18.45,9,17,7.55,7,17.6ZM5,21V16.75L18.45,3.32a2,2,0,0,1,2.83,0l1.4,1.43a1.91,1.91,0,0,1,.58,1.4,1.91,1.91,0,0,1-.58,1.4L9.25,21ZM18.45,9,17,7.55Zm-12,3A5.31,5.31,0,0,0,4.9,8.1,5.31,5.31,0,0,0,1,6.5,5.31,5.31,0,0,0,4.9,4.9,5.31,5.31,0,0,0,6.5,1,5.31,5.31,0,0,0,8.1,4.9,5.31,5.31,0,0,0,12,6.5,5.46,5.46,0,0,0,6.5,12Z\"/>\n",
              "  </svg>\n",
              "    </button>\n",
              "    <script>\n",
              "      (() => {\n",
              "      const buttonEl =\n",
              "        document.querySelector('#id_b08558a6-7de8-48f9-bb4a-e5420cb0e370 button.colab-df-generate');\n",
              "      buttonEl.style.display =\n",
              "        google.colab.kernel.accessAllowed ? 'block' : 'none';\n",
              "\n",
              "      buttonEl.onclick = () => {\n",
              "        google.colab.notebook.generateWithVariable('df');\n",
              "      }\n",
              "      })();\n",
              "    </script>\n",
              "  </div>\n",
              "\n",
              "    </div>\n",
              "  </div>\n"
            ],
            "application/vnd.google.colaboratory.intrinsic+json": {
              "type": "dataframe",
              "variable_name": "df"
            }
          },
          "metadata": {},
          "execution_count": 5
        }
      ],
      "source": [
        "df"
      ]
    },
    {
      "cell_type": "code",
      "execution_count": null,
      "metadata": {
        "id": "8v-kPal-BjTU"
      },
      "outputs": [],
      "source": [
        "# Lista de columnas repetidas\n",
        "columns_to_drop = ['Q34_3','Q33_3','Q35_3',]\n",
        "\n",
        "# Eliminar las columnas\n",
        "df = df.drop(columns=columns_to_drop)"
      ]
    },
    {
      "cell_type": "markdown",
      "metadata": {
        "id": "wBjxdUqRLlex"
      },
      "source": [
        "# Remocion de nulos"
      ]
    },
    {
      "cell_type": "markdown",
      "metadata": {
        "id": "9ufHkXBTkoRQ"
      },
      "source": [
        "Al ser una encuesta, los valores nulos están cargados como valores negativos. Por ende, para remover los nulos, debemos tratar a los valores negativos.\n",
        "\n",
        "La opción de eliminar todos los negativos del DataFrame nos deja únicamente con 23 filas de las 1003 del dataset original, lo cual nos lleva a descartar esa opción.\n",
        "\n",
        "Sin embargo, al reducir la dimensionalidad del dataset, podremos contar con la posibilidad de dejar únicamente las variables relevantes para la explicación de \"Y\" (Q250 = Importance of Democracy). Así podremos eliminar los nulos del dataset sin perder demasiada información.\n",
        "\n",
        "Para saber con cuáles variables quedarnos para nuestro modelo, haremos en primer lugar un análisis de correlación para saber qué variables explican mejor el comportamiento de \"Y\"."
      ]
    },
    {
      "cell_type": "code",
      "source": [
        "# Calcular la matriz de correlación\n",
        "corr_matrix = df.corr()\n",
        "\n",
        "# Mostrar la correlación de todas las variables con respecto a 'Q250'\n",
        "correlacion_q250 = corr_matrix['Q250'].sort_values(ascending=False)\n",
        "\n",
        "# Mostrar las 10 variables más correlacionadas con 'Q250'\n",
        "top_10_correlacion = correlacion_q250.head(11)  # Incluyendo 'Q250' en sí mismo\n",
        "print(top_10_correlacion)\n",
        "\n",
        "# Visualizar la matriz de correlación de las variables más correlacionadas\n",
        "plt.figure(figsize=(10, 8))\n",
        "sns.heatmap(df[top_10_correlacion.index].corr(), annot=True, cmap='coolwarm', vmin=-1, vmax=1)\n",
        "plt.title('Matriz de Correlación de las Variables más Correlacionadas con Q250')\n",
        "plt.show()"
      ],
      "metadata": {
        "colab": {
          "base_uri": "https://localhost:8080/",
          "height": 907
        },
        "id": "R6ia_cnx3uwt",
        "outputId": "1fab5c6d-98b2-4a5e-ee10-2f36bb49882f"
      },
      "execution_count": null,
      "outputs": [
        {
          "output_type": "stream",
          "name": "stdout",
          "text": [
            "Q250    1.000000\n",
            "Q251    0.356080\n",
            "Q243    0.309428\n",
            "Q249    0.262976\n",
            "Q112    0.232325\n",
            "Q237    0.226643\n",
            "Q197    0.211022\n",
            "Q244    0.200042\n",
            "Q127    0.170030\n",
            "Q31     0.169400\n",
            "Q77     0.157424\n",
            "Name: Q250, dtype: float64\n"
          ]
        },
        {
          "output_type": "display_data",
          "data": {
            "text/plain": [
              "<Figure size 1000x800 with 2 Axes>"
            ],
            "image/png": "[encoded data removed]"
          },
          "metadata": {}
        }
      ]
    },
    {
      "cell_type": "markdown",
      "source": [
        "De las 10 variables con mayor nivel de correlación respecto de \"Y\", las que poseen una correlación lógica esperada a la hora de explicar la importancia que las personas dan a la democracia (para evitar caer en correlaciones espurias) son:\n",
        "\n",
        "- Q243: Democracy: People choose their leaders in free elections\n",
        "- Q249: Democracy: Women have the same rights as men\n",
        "- Q237: Political system: Having the army rule (relación inversa).\n",
        "- Q197: Government has the right: Monitor all e-mails and any other information exchanged on the Internet\n",
        "- Q127: Immigration in your country: Helps poor people establish new lives\n",
        "- Q112: Perceptions of corruption in the country"
      ],
      "metadata": {
        "id": "H2wMkurs5b63"
      }
    },
    {
      "cell_type": "code",
      "execution_count": null,
      "metadata": {
        "colab": {
          "base_uri": "https://localhost:8080/"
        },
        "id": "LdcxZS75iasb",
        "outputId": "6ea71bac-c774-4fad-af21-a09bd51981ae"
      },
      "outputs": [
        {
          "output_type": "execute_result",
          "data": {
            "text/plain": [
              "(1003, 292)"
            ]
          },
          "metadata": {},
          "execution_count": 8
        }
      ],
      "source": [
        "df.shape"
      ]
    },
    {
      "cell_type": "code",
      "source": [
        "# Lista de las columnas más correlacionadas con Q250\n",
        "columnas_correlacionadas = ['Q250', 'Q243', 'Q249', 'Q112', 'Q237', 'Q197', 'Q127','Q262']\n",
        "\n",
        "# Dejamos otras variables relevantes para revisar en el EDA (Q262 = Edad, Q240 = autopercepción izquierda-derecha, )\n",
        "\n",
        "# Crear un nuevo dataframe con sólo estas columnas\n",
        "df_reducido = df[columnas_correlacionadas]\n",
        "\n",
        "# Mostrar las primeras filas del nuevo dataframe\n",
        "df_reducido.head()"
      ],
      "metadata": {
        "colab": {
          "base_uri": "https://localhost:8080/",
          "height": 206
        },
        "id": "lM13YJ1s73LL",
        "outputId": "8a0d6794-859d-4e17-b18b-aa92beb6bec6"
      },
      "execution_count": null,
      "outputs": [
        {
          "output_type": "execute_result",
          "data": {
            "text/plain": [
              "   Q250  Q243  Q249  Q112  Q237  Q197  Q127  Q262\n",
              "0    10    10    10    10     4     4     1    50\n",
              "1    10    10    10    10     4     3     2    34\n",
              "2    10    10    10    10     4     4     2    35\n",
              "3    10    10    10    10     4    -1     2    71\n",
              "4    10    10    10    10     4     4     2    37"
            ],
            "text/html": [
              "\n",
              "  <div id=\"df-23fd70a3-3b25-4847-8cff-b5aff3b929f9\" class=\"colab-df-container\">\n",
              "    <div>\n",
              "<style scoped>\n",
              "    .dataframe tbody tr th:only-of-type {\n",
              "        vertical-align: middle;\n",
              "    }\n",
              "\n",
              "    .dataframe tbody tr th {\n",
              "        vertical-align: top;\n",
              "    }\n",
              "\n",
              "    .dataframe thead th {\n",
              "        text-align: right;\n",
              "    }\n",
              "</style>\n",
              "<table border=\"1\" class=\"dataframe\">\n",
              "  <thead>\n",
              "    <tr style=\"text-align: right;\">\n",
              "      <th></th>\n",
              "      <th>Q250</th>\n",
              "      <th>Q243</th>\n",
              "      <th>Q249</th>\n",
              "      <th>Q112</th>\n",
              "      <th>Q237</th>\n",
              "      <th>Q197</th>\n",
              "      <th>Q127</th>\n",
              "      <th>Q262</th>\n",
              "    </tr>\n",
              "  </thead>\n",
              "  <tbody>\n",
              "    <tr>\n",
              "      <th>0</th>\n",
              "      <td>10</td>\n",
              "      <td>10</td>\n",
              "      <td>10</td>\n",
              "      <td>10</td>\n",
              "      <td>4</td>\n",
              "      <td>4</td>\n",
              "      <td>1</td>\n",
              "      <td>50</td>\n",
              "    </tr>\n",
              "    <tr>\n",
              "      <th>1</th>\n",
              "      <td>10</td>\n",
              "      <td>10</td>\n",
              "      <td>10</td>\n",
              "      <td>10</td>\n",
              "      <td>4</td>\n",
              "      <td>3</td>\n",
              "      <td>2</td>\n",
              "      <td>34</td>\n",
              "    </tr>\n",
              "    <tr>\n",
              "      <th>2</th>\n",
              "      <td>10</td>\n",
              "      <td>10</td>\n",
              "      <td>10</td>\n",
              "      <td>10</td>\n",
              "      <td>4</td>\n",
              "      <td>4</td>\n",
              "      <td>2</td>\n",
              "      <td>35</td>\n",
              "    </tr>\n",
              "    <tr>\n",
              "      <th>3</th>\n",
              "      <td>10</td>\n",
              "      <td>10</td>\n",
              "      <td>10</td>\n",
              "      <td>10</td>\n",
              "      <td>4</td>\n",
              "      <td>-1</td>\n",
              "      <td>2</td>\n",
              "      <td>71</td>\n",
              "    </tr>\n",
              "    <tr>\n",
              "      <th>4</th>\n",
              "      <td>10</td>\n",
              "      <td>10</td>\n",
              "      <td>10</td>\n",
              "      <td>10</td>\n",
              "      <td>4</td>\n",
              "      <td>4</td>\n",
              "      <td>2</td>\n",
              "      <td>37</td>\n",
              "    </tr>\n",
              "  </tbody>\n",
              "</table>\n",
              "</div>\n",
              "    <div class=\"colab-df-buttons\">\n",
              "\n",
              "  <div class=\"colab-df-container\">\n",
              "    <button class=\"colab-df-convert\" onclick=\"convertToInteractive('df-23fd70a3-3b25-4847-8cff-b5aff3b929f9')\"\n",
              "            title=\"Convert this dataframe to an interactive table.\"\n",
              "            style=\"display:none;\">\n",
              "\n",
              "  <svg xmlns=\"http://www.w3.org/2000/svg\" height=\"24px\" viewBox=\"0 -960 960 960\">\n",
              "    <path d=\"M120-120v-720h720v720H120Zm60-500h600v-160H180v160Zm220 220h160v-160H400v160Zm0 220h160v-160H400v160ZM180-400h160v-160H180v160Zm440 0h160v-160H620v160ZM180-180h160v-160H180v160Zm440 0h160v-160H620v160Z\"/>\n",
              "  </svg>\n",
              "    </button>\n",
              "\n",
              "  <style>\n",
              "    .colab-df-container {\n",
              "      display:flex;\n",
              "      gap: 12px;\n",
              "    }\n",
              "\n",
              "    .colab-df-convert {\n",
              "      background-color: #E8F0FE;\n",
              "      border: none;\n",
              "      border-radius: 50%;\n",
              "      cursor: pointer;\n",
              "      display: none;\n",
              "      fill: #1967D2;\n",
              "      height: 32px;\n",
              "      padding: 0 0 0 0;\n",
              "      width: 32px;\n",
              "    }\n",
              "\n",
              "    .colab-df-convert:hover {\n",
              "      background-color: #E2EBFA;\n",
              "      box-shadow: 0px 1px 2px rgba(60, 64, 67, 0.3), 0px 1px 3px 1px rgba(60, 64, 67, 0.15);\n",
              "      fill: #174EA6;\n",
              "    }\n",
              "\n",
              "    .colab-df-buttons div {\n",
              "      margin-bottom: 4px;\n",
              "    }\n",
              "\n",
              "    [theme=dark] .colab-df-convert {\n",
              "      background-color: #3B4455;\n",
              "      fill: #D2E3FC;\n",
              "    }\n",
              "\n",
              "    [theme=dark] .colab-df-convert:hover {\n",
              "      background-color: #434B5C;\n",
              "      box-shadow: 0px 1px 3px 1px rgba(0, 0, 0, 0.15);\n",
              "      filter: drop-shadow(0px 1px 2px rgba(0, 0, 0, 0.3));\n",
              "      fill: #FFFFFF;\n",
              "    }\n",
              "  </style>\n",
              "\n",
              "    <script>\n",
              "      const buttonEl =\n",
              "        document.querySelector('#df-23fd70a3-3b25-4847-8cff-b5aff3b929f9 button.colab-df-convert');\n",
              "      buttonEl.style.display =\n",
              "        google.colab.kernel.accessAllowed ? 'block' : 'none';\n",
              "\n",
              "      async function convertToInteractive(key) {\n",
              "        const element = document.querySelector('#df-23fd70a3-3b25-4847-8cff-b5aff3b929f9');\n",
              "        const dataTable =\n",
              "          await google.colab.kernel.invokeFunction('convertToInteractive',\n",
              "                                                    [key], {});\n",
              "        if (!dataTable) return;\n",
              "\n",
              "        const docLinkHtml = 'Like what you see? Visit the ' +\n",
              "          '<a target=\"_blank\" href=https://colab.research.google.com/notebooks/data_table.ipynb>data table notebook</a>'\n",
              "          + ' to learn more about interactive tables.';\n",
              "        element.innerHTML = '';\n",
              "        dataTable['output_type'] = 'display_data';\n",
              "        await google.colab.output.renderOutput(dataTable, element);\n",
              "        const docLink = document.createElement('div');\n",
              "        docLink.innerHTML = docLinkHtml;\n",
              "        element.appendChild(docLink);\n",
              "      }\n",
              "    </script>\n",
              "  </div>\n",
              "\n",
              "\n",
              "<div id=\"df-7f9a337c-0c1c-42df-a690-20d44be69b6a\">\n",
              "  <button class=\"colab-df-quickchart\" onclick=\"quickchart('df-7f9a337c-0c1c-42df-a690-20d44be69b6a')\"\n",
              "            title=\"Suggest charts\"\n",
              "            style=\"display:none;\">\n",
              "\n",
              "<svg xmlns=\"http://www.w3.org/2000/svg\" height=\"24px\"viewBox=\"0 0 24 24\"\n",
              "     width=\"24px\">\n",
              "    <g>\n",
              "        <path d=\"M19 3H5c-1.1 0-2 .9-2 2v14c0 1.1.9 2 2 2h14c1.1 0 2-.9 2-2V5c0-1.1-.9-2-2-2zM9 17H7v-7h2v7zm4 0h-2V7h2v10zm4 0h-2v-4h2v4z\"/>\n",
              "    </g>\n",
              "</svg>\n",
              "  </button>\n",
              "\n",
              "<style>\n",
              "  .colab-df-quickchart {\n",
              "      --bg-color: #E8F0FE;\n",
              "      --fill-color: #1967D2;\n",
              "      --hover-bg-color: #E2EBFA;\n",
              "      --hover-fill-color: #174EA6;\n",
              "      --disabled-fill-color: #AAA;\n",
              "      --disabled-bg-color: #DDD;\n",
              "  }\n",
              "\n",
              "  [theme=dark] .colab-df-quickchart {\n",
              "      --bg-color: #3B4455;\n",
              "      --fill-color: #D2E3FC;\n",
              "      --hover-bg-color: #434B5C;\n",
              "      --hover-fill-color: #FFFFFF;\n",
              "      --disabled-bg-color: #3B4455;\n",
              "      --disabled-fill-color: #666;\n",
              "  }\n",
              "\n",
              "  .colab-df-quickchart {\n",
              "    background-color: var(--bg-color);\n",
              "    border: none;\n",
              "    border-radius: 50%;\n",
              "    cursor: pointer;\n",
              "    display: none;\n",
              "    fill: var(--fill-color);\n",
              "    height: 32px;\n",
              "    padding: 0;\n",
              "    width: 32px;\n",
              "  }\n",
              "\n",
              "  .colab-df-quickchart:hover {\n",
              "    background-color: var(--hover-bg-color);\n",
              "    box-shadow: 0 1px 2px rgba(60, 64, 67, 0.3), 0 1px 3px 1px rgba(60, 64, 67, 0.15);\n",
              "    fill: var(--button-hover-fill-color);\n",
              "  }\n",
              "\n",
              "  .colab-df-quickchart-complete:disabled,\n",
              "  .colab-df-quickchart-complete:disabled:hover {\n",
              "    background-color: var(--disabled-bg-color);\n",
              "    fill: var(--disabled-fill-color);\n",
              "    box-shadow: none;\n",
              "  }\n",
              "\n",
              "  .colab-df-spinner {\n",
              "    border: 2px solid var(--fill-color);\n",
              "    border-color: transparent;\n",
              "    border-bottom-color: var(--fill-color);\n",
              "    animation:\n",
              "      spin 1s steps(1) infinite;\n",
              "  }\n",
              "\n",
              "  @keyframes spin {\n",
              "    0% {\n",
              "      border-color: transparent;\n",
              "      border-bottom-color: var(--fill-color);\n",
              "      border-left-color: var(--fill-color);\n",
              "    }\n",
              "    20% {\n",
              "      border-color: transparent;\n",
              "      border-left-color: var(--fill-color);\n",
              "      border-top-color: var(--fill-color);\n",
              "    }\n",
              "    30% {\n",
              "      border-color: transparent;\n",
              "      border-left-color: var(--fill-color);\n",
              "      border-top-color: var(--fill-color);\n",
              "      border-right-color: var(--fill-color);\n",
              "    }\n",
              "    40% {\n",
              "      border-color: transparent;\n",
              "      border-right-color: var(--fill-color);\n",
              "      border-top-color: var(--fill-color);\n",
              "    }\n",
              "    60% {\n",
              "      border-color: transparent;\n",
              "      border-right-color: var(--fill-color);\n",
              "    }\n",
              "    80% {\n",
              "      border-color: transparent;\n",
              "      border-right-color: var(--fill-color);\n",
              "      border-bottom-color: var(--fill-color);\n",
              "    }\n",
              "    90% {\n",
              "      border-color: transparent;\n",
              "      border-bottom-color: var(--fill-color);\n",
              "    }\n",
              "  }\n",
              "</style>\n",
              "\n",
              "  <script>\n",
              "    async function quickchart(key) {\n",
              "      const quickchartButtonEl =\n",
              "        document.querySelector('#' + key + ' button');\n",
              "      quickchartButtonEl.disabled = true;  // To prevent multiple clicks.\n",
              "      quickchartButtonEl.classList.add('colab-df-spinner');\n",
              "      try {\n",
              "        const charts = await google.colab.kernel.invokeFunction(\n",
              "            'suggestCharts', [key], {});\n",
              "      } catch (error) {\n",
              "        console.error('Error during call to suggestCharts:', error);\n",
              "      }\n",
              "      quickchartButtonEl.classList.remove('colab-df-spinner');\n",
              "      quickchartButtonEl.classList.add('colab-df-quickchart-complete');\n",
              "    }\n",
              "    (() => {\n",
              "      let quickchartButtonEl =\n",
              "        document.querySelector('#df-7f9a337c-0c1c-42df-a690-20d44be69b6a button');\n",
              "      quickchartButtonEl.style.display =\n",
              "        google.colab.kernel.accessAllowed ? 'block' : 'none';\n",
              "    })();\n",
              "  </script>\n",
              "</div>\n",
              "\n",
              "    </div>\n",
              "  </div>\n"
            ],
            "application/vnd.google.colaboratory.intrinsic+json": {
              "type": "dataframe",
              "variable_name": "df_reducido",
              "summary": "{\n  \"name\": \"df_reducido\",\n  \"rows\": 1003,\n  \"fields\": [\n    {\n      \"column\": \"Q250\",\n      \"properties\": {\n        \"dtype\": \"number\",\n        \"std\": 1,\n        \"min\": -2,\n        \"max\": 10,\n        \"num_unique_values\": 12,\n        \"samples\": [\n          3,\n          -1,\n          10\n        ],\n        \"semantic_type\": \"\",\n        \"description\": \"\"\n      }\n    },\n    {\n      \"column\": \"Q243\",\n      \"properties\": {\n        \"dtype\": \"number\",\n        \"std\": 2,\n        \"min\": -2,\n        \"max\": 10,\n        \"num_unique_values\": 12,\n        \"samples\": [\n          3,\n          2,\n          10\n        ],\n        \"semantic_type\": \"\",\n        \"description\": \"\"\n      }\n    },\n    {\n      \"column\": \"Q249\",\n      \"properties\": {\n        \"dtype\": \"number\",\n        \"std\": 2,\n        \"min\": -2,\n        \"max\": 10,\n        \"num_unique_values\": 12,\n        \"samples\": [\n          3,\n          1,\n          10\n        ],\n        \"semantic_type\": \"\",\n        \"description\": \"\"\n      }\n    },\n    {\n      \"column\": \"Q112\",\n      \"properties\": {\n        \"dtype\": \"number\",\n        \"std\": 1,\n        \"min\": -2,\n        \"max\": 10,\n        \"num_unique_values\": 12,\n        \"samples\": [\n          -1,\n          3,\n          10\n        ],\n        \"semantic_type\": \"\",\n        \"description\": \"\"\n      }\n    },\n    {\n      \"column\": \"Q237\",\n      \"properties\": {\n        \"dtype\": \"number\",\n        \"std\": 1,\n        \"min\": -2,\n        \"max\": 4,\n        \"num_unique_values\": 6,\n        \"samples\": [\n          4,\n          3,\n          -2\n        ],\n        \"semantic_type\": \"\",\n        \"description\": \"\"\n      }\n    },\n    {\n      \"column\": \"Q197\",\n      \"properties\": {\n        \"dtype\": \"number\",\n        \"std\": 1,\n        \"min\": -2,\n        \"max\": 4,\n        \"num_unique_values\": 6,\n        \"samples\": [\n          4,\n          3,\n          -2\n        ],\n        \"semantic_type\": \"\",\n        \"description\": \"\"\n      }\n    },\n    {\n      \"column\": \"Q127\",\n      \"properties\": {\n        \"dtype\": \"number\",\n        \"std\": 0,\n        \"min\": -2,\n        \"max\": 2,\n        \"num_unique_values\": 5,\n        \"samples\": [\n          2,\n          -2,\n          0\n        ],\n        \"semantic_type\": \"\",\n        \"description\": \"\"\n      }\n    },\n    {\n      \"column\": \"Q262\",\n      \"properties\": {\n        \"dtype\": \"number\",\n        \"std\": 17,\n        \"min\": 18,\n        \"max\": 93,\n        \"num_unique_values\": 71,\n        \"samples\": [\n          55,\n          50,\n          62\n        ],\n        \"semantic_type\": \"\",\n        \"description\": \"\"\n      }\n    }\n  ]\n}"
            }
          },
          "metadata": {},
          "execution_count": 9
        }
      ]
    },
    {
      "cell_type": "code",
      "execution_count": null,
      "metadata": {
        "colab": {
          "base_uri": "https://localhost:8080/"
        },
        "id": "OR-AQLz3idxm",
        "outputId": "ecaacf92-2af9-4f6e-9a86-c83986bab497"
      },
      "outputs": [
        {
          "output_type": "execute_result",
          "data": {
            "text/plain": [
              "Index(['Q250', 'Q243', 'Q249', 'Q112', 'Q237', 'Q197', 'Q127', 'Q262'], dtype='object')"
            ]
          },
          "metadata": {},
          "execution_count": 10
        }
      ],
      "source": [
        "df_reducido.columns"
      ]
    },
    {
      "cell_type": "code",
      "execution_count": null,
      "metadata": {
        "colab": {
          "base_uri": "https://localhost:8080/"
        },
        "id": "1mj5Lyc5ijye",
        "outputId": "e1fc34e4-769c-42cd-ebb3-da16f44dc67c"
      },
      "outputs": [
        {
          "output_type": "execute_result",
          "data": {
            "text/plain": [
              "(1003, 8)"
            ]
          },
          "metadata": {},
          "execution_count": 11
        }
      ],
      "source": [
        "df_reducido.shape"
      ]
    },
    {
      "cell_type": "code",
      "execution_count": null,
      "metadata": {
        "colab": {
          "base_uri": "https://localhost:8080/"
        },
        "id": "PnyT-d7livSr",
        "outputId": "39f7cda7-e74a-4890-b197-95c5a8be7efa"
      },
      "outputs": [
        {
          "output_type": "stream",
          "name": "stdout",
          "text": [
            "Porcentaje de valores negativos por columna:\n",
            "Q250    1.395813\n",
            "Q243    1.395813\n",
            "Q249    1.994018\n",
            "Q112    0.598205\n",
            "Q237    6.181456\n",
            "Q197    4.386839\n",
            "Q127    4.087737\n",
            "Q262    0.000000\n",
            "dtype: float64\n"
          ]
        }
      ],
      "source": [
        "# Calcula la proporción de valores negativos en términos porcentuales por columna\n",
        "negatives_percentage = df_reducido.apply(lambda x: (x < 0).sum() / len(x) * 100)\n",
        "\n",
        "# Muestra el porcentaje de valores negativos por columna\n",
        "print(\"Porcentaje de valores negativos por columna:\")\n",
        "print(negatives_percentage)"
      ]
    },
    {
      "cell_type": "code",
      "source": [
        "# Reemplazar valores negativos con NaN\n",
        "df_reducido = df_reducido.applymap(lambda x: np.nan if isinstance(x, (int, float)) and x < 0 else x)\n",
        "\n",
        "# Eliminar filas con valores nulos\n",
        "df_reducido = df_reducido.dropna()\n",
        "\n",
        "# Verificar que no hay valores negativos ni nulos\n",
        "print(df_reducido.isnull().sum().sum())  # Debe ser 0\n",
        "print((df_reducido.select_dtypes(include=[np.number]) < 0).sum().sum())  # Debe ser 0"
      ],
      "metadata": {
        "colab": {
          "base_uri": "https://localhost:8080/"
        },
        "id": "flbkAfi38bA5",
        "outputId": "7fe1168e-14e2-4ea1-9c76-729d8ec9eafd"
      },
      "execution_count": null,
      "outputs": [
        {
          "output_type": "stream",
          "name": "stdout",
          "text": [
            "0\n",
            "0\n"
          ]
        }
      ]
    },
    {
      "cell_type": "code",
      "source": [
        "df_reducido.shape"
      ],
      "metadata": {
        "colab": {
          "base_uri": "https://localhost:8080/"
        },
        "id": "R42j2CJm8tDc",
        "outputId": "e1bfb972-0898-48f2-c159-d04b5e6acd0f"
      },
      "execution_count": null,
      "outputs": [
        {
          "output_type": "execute_result",
          "data": {
            "text/plain": [
              "(849, 8)"
            ]
          },
          "metadata": {},
          "execution_count": 14
        }
      ]
    },
    {
      "cell_type": "markdown",
      "source": [
        "#**Exploratory Data Analysis**"
      ],
      "metadata": {
        "id": "Aa2Gy9MVuziV"
      }
    },
    {
      "cell_type": "markdown",
      "source": [
        "# **Q262: Edad**"
      ],
      "metadata": {
        "id": "4I0fc3bJ_IjI"
      }
    },
    {
      "cell_type": "code",
      "source": [
        "px.histogram(df_reducido,x='Q262',title='Edad')"
      ],
      "metadata": {
        "colab": {
          "base_uri": "https://localhost:8080/",
          "height": 542
        },
        "id": "zgTyjK9Xu4DF",
        "outputId": "cfac291b-46be-4ccb-971d-c8d5a793d5c6"
      },
      "execution_count": null,
      "outputs": [
        {
          "output_type": "display_data",
          "data": {
            "text/html": [
              "<html>\n",
              "<head><meta charset=\"utf-8\" /></head>\n",
              "<body>\n",
              "    <div>            <script src=\"https://cdnjs.cloudflare.com/ajax/libs/mathjax/2.7.5/MathJax.js?config=TeX-AMS-MML_SVG\"></script><script type=\"text/javascript\">if (window.MathJax && window.MathJax.Hub && window.MathJax.Hub.Config) {window.MathJax.Hub.Config({SVG: {font: \"STIX-Web\"}});}</script>                <script type=\"text/javascript\">window.PlotlyConfig = {MathJaxConfig: 'local'};</script>\n",
              "        <script charset=\"utf-8\" src=\"https://cdn.plot.ly/plotly-2.24.1.min.js\"></script>                <div id=\"285d1040-4249-48af-85b9-6929501b9512\" class=\"plotly-graph-div\" style=\"height:525px; width:100%;\"></div>            <script type=\"text/javascript\">                                    window.PLOTLYENV=window.PLOTLYENV || {};                                    if (document.getElementById(\"285d1040-4249-48af-85b9-6929501b9512\")) {                    Plotly.newPlot(                        \"285d1040-4249-48af-85b9-6929501b9512\",                        [{\"alignmentgroup\":\"True\",\"bingroup\":\"x\",\"hovertemplate\":\"Q262=%{x}\\u003cbr\\u003ecount=%{y}\\u003cextra\\u003e\\u003c\\u002fextra\\u003e\",\"legendgroup\":\"\",\"marker\":{\"color\":\"#636efa\",\"pattern\":{\"shape\":\"\"}},\"name\":\"\",\"offsetgroup\":\"\",\"orientation\":\"v\",\"showlegend\":false,\"x\":[50,34,35,37,58,32,34,65,27,40,44,21,21,71,33,61,41,64,30,69,87,31,51,31,33,55,42,52,27,21,21,43,47,70,35,24,19,35,61,81,57,72,21,27,48,48,40,54,42,18,36,34,55,24,40,24,92,19,35,67,93,26,50,20,50,59,30,66,47,82,18,40,47,49,57,21,30,45,62,24,24,49,63,19,69,37,29,60,59,56,27,33,44,22,67,40,18,62,60,65,21,65,25,75,26,34,67,37,28,36,48,24,45,40,60,23,63,34,49,31,28,45,73,42,42,35,45,85,34,84,18,66,19,46,65,39,50,40,36,28,44,61,62,40,50,70,58,29,56,49,48,63,21,45,19,24,60,65,30,69,66,66,25,28,65,56,51,25,65,31,40,64,20,20,46,39,70,44,21,34,47,50,42,44,18,21,60,22,29,37,24,70,24,51,47,30,64,27,35,60,18,34,50,41,25,73,53,65,27,39,36,28,44,72,30,65,62,33,56,29,70,42,31,52,61,19,25,54,18,22,48,64,30,33,33,27,39,68,62,49,36,49,34,45,20,24,69,21,52,46,38,19,35,42,43,42,55,65,18,22,24,18,33,24,30,53,53,39,60,35,38,65,66,52,24,78,39,24,60,34,60,33,53,41,30,65,20,31,35,68,59,42,72,21,58,40,21,56,79,54,30,18,33,49,34,41,43,45,52,62,30,56,24,45,25,67,19,37,59,34,26,65,49,31,25,49,30,31,19,18,46,32,60,32,36,49,22,24,42,63,45,55,20,21,79,73,46,65,39,19,46,64,72,38,36,75,22,49,21,66,45,22,40,47,18,34,22,47,67,64,34,30,66,34,30,50,30,31,65,37,22,24,38,58,34,64,19,33,62,29,70,61,31,39,30,63,64,29,28,65,65,24,60,45,34,52,36,22,49,21,51,45,36,38,23,19,24,35,70,32,56,45,28,31,65,65,46,32,29,45,61,18,65,22,32,74,53,26,50,38,36,49,36,66,61,25,23,49,25,22,44,54,79,21,20,71,50,45,52,25,35,42,21,70,19,43,50,57,34,34,73,24,50,46,65,26,29,31,79,57,48,21,40,80,18,35,26,29,63,19,35,61,67,38,27,55,54,41,26,37,24,67,39,20,64,34,52,65,28,28,59,36,64,65,69,44,40,23,31,40,72,40,19,61,34,30,43,58,20,69,49,42,21,80,28,28,62,36,50,24,18,19,25,33,46,66,49,73,24,40,25,35,27,37,68,25,62,23,25,39,18,27,37,19,27,32,50,62,29,78,41,19,23,65,65,32,29,21,23,35,38,73,34,25,33,47,45,34,70,50,34,63,36,21,25,53,30,67,37,18,18,65,55,27,49,56,29,41,39,28,36,39,54,56,43,24,43,24,74,70,26,18,50,26,18,70,29,58,26,48,46,52,71,42,40,27,22,26,37,74,21,51,45,51,65,22,24,49,57,64,40,31,25,20,25,35,43,23,59,32,52,31,67,41,22,19,45,25,42,29,52,62,61,32,48,18,55,65,43,49,76,21,23,26,41,64,52,34,37,23,43,81,22,56,33,77,27,35,55,34,25,51,44,22,40,54,26,68,24,39,29,66,53,22,22,43,25,19,34,54,38,68,22,50,44,58,33,22,60,20,55,19,37,32,70,46,56,26,21,24,39,91,60,29,59,36,43,19,39,40,73,24,27,49,61,27,73,35,23,67,42,22,50,77,39,25,63,71,72,36,25,50,23,72,38,35,25,25,18,53,27,18,24,23,45,65,43,34,34,63,18,48,48,34,71,64,39,63,24,36,58,50,45,52,65,25,58,65,35,26,33,52,71,55,23,60,44,32,31,40,21,66,21,63,25,30,19,62,50,21,49,24,69,40,38,34,62,60,25,20,40,22,42,26,66,55,54,48,38],\"xaxis\":\"x\",\"yaxis\":\"y\",\"type\":\"histogram\"}],                        {\"template\":{\"data\":{\"histogram2dcontour\":[{\"type\":\"histogram2dcontour\",\"colorbar\":{\"outlinewidth\":0,\"ticks\":\"\"},\"colorscale\":[[0.0,\"#0d0887\"],[0.1111111111111111,\"#46039f\"],[0.2222222222222222,\"#7201a8\"],[0.3333333333333333,\"#9c179e\"],[0.4444444444444444,\"#bd3786\"],[0.5555555555555556,\"#d8576b\"],[0.6666666666666666,\"#ed7953\"],[0.7777777777777778,\"#fb9f3a\"],[0.8888888888888888,\"#fdca26\"],[1.0,\"#f0f921\"]]}],\"choropleth\":[{\"type\":\"choropleth\",\"colorbar\":{\"outlinewidth\":0,\"ticks\":\"\"}}],\"histogram2d\":[{\"type\":\"histogram2d\",\"colorbar\":{\"outlinewidth\":0,\"ticks\":\"\"},\"colorscale\":[[0.0,\"#0d0887\"],[0.1111111111111111,\"#46039f\"],[0.2222222222222222,\"#7201a8\"],[0.3333333333333333,\"#9c179e\"],[0.4444444444444444,\"#bd3786\"],[0.5555555555555556,\"#d8576b\"],[0.6666666666666666,\"#ed7953\"],[0.7777777777777778,\"#fb9f3a\"],[0.8888888888888888,\"#fdca26\"],[1.0,\"#f0f921\"]]}],\"heatmap\":[{\"type\":\"heatmap\",\"colorbar\":{\"outlinewidth\":0,\"ticks\":\"\"},\"colorscale\":[[0.0,\"#0d0887\"],[0.1111111111111111,\"#46039f\"],[0.2222222222222222,\"#7201a8\"],[0.3333333333333333,\"#9c179e\"],[0.4444444444444444,\"#bd3786\"],[0.5555555555555556,\"#d8576b\"],[0.6666666666666666,\"#ed7953\"],[0.7777777777777778,\"#fb9f3a\"],[0.8888888888888888,\"#fdca26\"],[1.0,\"#f0f921\"]]}],\"heatmapgl\":[{\"type\":\"heatmapgl\",\"colorbar\":{\"outlinewidth\":0,\"ticks\":\"\"},\"colorscale\":[[0.0,\"#0d0887\"],[0.1111111111111111,\"#46039f\"],[0.2222222222222222,\"#7201a8\"],[0.3333333333333333,\"#9c179e\"],[0.4444444444444444,\"#bd3786\"],[0.5555555555555556,\"#d8576b\"],[0.6666666666666666,\"#ed7953\"],[0.7777777777777778,\"#fb9f3a\"],[0.8888888888888888,\"#fdca26\"],[1.0,\"#f0f921\"]]}],\"contourcarpet\":[{\"type\":\"contourcarpet\",\"colorbar\":{\"outlinewidth\":0,\"ticks\":\"\"}}],\"contour\":[{\"type\":\"contour\",\"colorbar\":{\"outlinewidth\":0,\"ticks\":\"\"},\"colorscale\":[[0.0,\"#0d0887\"],[0.1111111111111111,\"#46039f\"],[0.2222222222222222,\"#7201a8\"],[0.3333333333333333,\"#9c179e\"],[0.4444444444444444,\"#bd3786\"],[0.5555555555555556,\"#d8576b\"],[0.6666666666666666,\"#ed7953\"],[0.7777777777777778,\"#fb9f3a\"],[0.8888888888888888,\"#fdca26\"],[1.0,\"#f0f921\"]]}],\"surface\":[{\"type\":\"surface\",\"colorbar\":{\"outlinewidth\":0,\"ticks\":\"\"},\"colorscale\":[[0.0,\"#0d0887\"],[0.1111111111111111,\"#46039f\"],[0.2222222222222222,\"#7201a8\"],[0.3333333333333333,\"#9c179e\"],[0.4444444444444444,\"#bd3786\"],[0.5555555555555556,\"#d8576b\"],[0.6666666666666666,\"#ed7953\"],[0.7777777777777778,\"#fb9f3a\"],[0.8888888888888888,\"#fdca26\"],[1.0,\"#f0f921\"]]}],\"mesh3d\":[{\"type\":\"mesh3d\",\"colorbar\":{\"outlinewidth\":0,\"ticks\":\"\"}}],\"scatter\":[{\"fillpattern\":{\"fillmode\":\"overlay\",\"size\":10,\"solidity\":0.2},\"type\":\"scatter\"}],\"parcoords\":[{\"type\":\"parcoords\",\"line\":{\"colorbar\":{\"outlinewidth\":0,\"ticks\":\"\"}}}],\"scatterpolargl\":[{\"type\":\"scatterpolargl\",\"marker\":{\"colorbar\":{\"outlinewidth\":0,\"ticks\":\"\"}}}],\"bar\":[{\"error_x\":{\"color\":\"#2a3f5f\"},\"error_y\":{\"color\":\"#2a3f5f\"},\"marker\":{\"line\":{\"color\":\"#E5ECF6\",\"width\":0.5},\"pattern\":{\"fillmode\":\"overlay\",\"size\":10,\"solidity\":0.2}},\"type\":\"bar\"}],\"scattergeo\":[{\"type\":\"scattergeo\",\"marker\":{\"colorbar\":{\"outlinewidth\":0,\"ticks\":\"\"}}}],\"scatterpolar\":[{\"type\":\"scatterpolar\",\"marker\":{\"colorbar\":{\"outlinewidth\":0,\"ticks\":\"\"}}}],\"histogram\":[{\"marker\":{\"pattern\":{\"fillmode\":\"overlay\",\"size\":10,\"solidity\":0.2}},\"type\":\"histogram\"}],\"scattergl\":[{\"type\":\"scattergl\",\"marker\":{\"colorbar\":{\"outlinewidth\":0,\"ticks\":\"\"}}}],\"scatter3d\":[{\"type\":\"scatter3d\",\"line\":{\"colorbar\":{\"outlinewidth\":0,\"ticks\":\"\"}},\"marker\":{\"colorbar\":{\"outlinewidth\":0,\"ticks\":\"\"}}}],\"scattermapbox\":[{\"type\":\"scattermapbox\",\"marker\":{\"colorbar\":{\"outlinewidth\":0,\"ticks\":\"\"}}}],\"scatterternary\":[{\"type\":\"scatterternary\",\"marker\":{\"colorbar\":{\"outlinewidth\":0,\"ticks\":\"\"}}}],\"scattercarpet\":[{\"type\":\"scattercarpet\",\"marker\":{\"colorbar\":{\"outlinewidth\":0,\"ticks\":\"\"}}}],\"carpet\":[{\"aaxis\":{\"endlinecolor\":\"#2a3f5f\",\"gridcolor\":\"white\",\"linecolor\":\"white\",\"minorgridcolor\":\"white\",\"startlinecolor\":\"#2a3f5f\"},\"baxis\":{\"endlinecolor\":\"#2a3f5f\",\"gridcolor\":\"white\",\"linecolor\":\"white\",\"minorgridcolor\":\"white\",\"startlinecolor\":\"#2a3f5f\"},\"type\":\"carpet\"}],\"table\":[{\"cells\":{\"fill\":{\"color\":\"#EBF0F8\"},\"line\":{\"color\":\"white\"}},\"header\":{\"fill\":{\"color\":\"#C8D4E3\"},\"line\":{\"color\":\"white\"}},\"type\":\"table\"}],\"barpolar\":[{\"marker\":{\"line\":{\"color\":\"#E5ECF6\",\"width\":0.5},\"pattern\":{\"fillmode\":\"overlay\",\"size\":10,\"solidity\":0.2}},\"type\":\"barpolar\"}],\"pie\":[{\"automargin\":true,\"type\":\"pie\"}]},\"layout\":{\"autotypenumbers\":\"strict\",\"colorway\":[\"#636efa\",\"#EF553B\",\"#00cc96\",\"#ab63fa\",\"#FFA15A\",\"#19d3f3\",\"#FF6692\",\"#B6E880\",\"#FF97FF\",\"#FECB52\"],\"font\":{\"color\":\"#2a3f5f\"},\"hovermode\":\"closest\",\"hoverlabel\":{\"align\":\"left\"},\"paper_bgcolor\":\"white\",\"plot_bgcolor\":\"#E5ECF6\",\"polar\":{\"bgcolor\":\"#E5ECF6\",\"angularaxis\":{\"gridcolor\":\"white\",\"linecolor\":\"white\",\"ticks\":\"\"},\"radialaxis\":{\"gridcolor\":\"white\",\"linecolor\":\"white\",\"ticks\":\"\"}},\"ternary\":{\"bgcolor\":\"#E5ECF6\",\"aaxis\":{\"gridcolor\":\"white\",\"linecolor\":\"white\",\"ticks\":\"\"},\"baxis\":{\"gridcolor\":\"white\",\"linecolor\":\"white\",\"ticks\":\"\"},\"caxis\":{\"gridcolor\":\"white\",\"linecolor\":\"white\",\"ticks\":\"\"}},\"coloraxis\":{\"colorbar\":{\"outlinewidth\":0,\"ticks\":\"\"}},\"colorscale\":{\"sequential\":[[0.0,\"#0d0887\"],[0.1111111111111111,\"#46039f\"],[0.2222222222222222,\"#7201a8\"],[0.3333333333333333,\"#9c179e\"],[0.4444444444444444,\"#bd3786\"],[0.5555555555555556,\"#d8576b\"],[0.6666666666666666,\"#ed7953\"],[0.7777777777777778,\"#fb9f3a\"],[0.8888888888888888,\"#fdca26\"],[1.0,\"#f0f921\"]],\"sequentialminus\":[[0.0,\"#0d0887\"],[0.1111111111111111,\"#46039f\"],[0.2222222222222222,\"#7201a8\"],[0.3333333333333333,\"#9c179e\"],[0.4444444444444444,\"#bd3786\"],[0.5555555555555556,\"#d8576b\"],[0.6666666666666666,\"#ed7953\"],[0.7777777777777778,\"#fb9f3a\"],[0.8888888888888888,\"#fdca26\"],[1.0,\"#f0f921\"]],\"diverging\":[[0,\"#8e0152\"],[0.1,\"#c51b7d\"],[0.2,\"#de77ae\"],[0.3,\"#f1b6da\"],[0.4,\"#fde0ef\"],[0.5,\"#f7f7f7\"],[0.6,\"#e6f5d0\"],[0.7,\"#b8e186\"],[0.8,\"#7fbc41\"],[0.9,\"#4d9221\"],[1,\"#276419\"]]},\"xaxis\":{\"gridcolor\":\"white\",\"linecolor\":\"white\",\"ticks\":\"\",\"title\":{\"standoff\":15},\"zerolinecolor\":\"white\",\"automargin\":true,\"zerolinewidth\":2},\"yaxis\":{\"gridcolor\":\"white\",\"linecolor\":\"white\",\"ticks\":\"\",\"title\":{\"standoff\":15},\"zerolinecolor\":\"white\",\"automargin\":true,\"zerolinewidth\":2},\"scene\":{\"xaxis\":{\"backgroundcolor\":\"#E5ECF6\",\"gridcolor\":\"white\",\"linecolor\":\"white\",\"showbackground\":true,\"ticks\":\"\",\"zerolinecolor\":\"white\",\"gridwidth\":2},\"yaxis\":{\"backgroundcolor\":\"#E5ECF6\",\"gridcolor\":\"white\",\"linecolor\":\"white\",\"showbackground\":true,\"ticks\":\"\",\"zerolinecolor\":\"white\",\"gridwidth\":2},\"zaxis\":{\"backgroundcolor\":\"#E5ECF6\",\"gridcolor\":\"white\",\"linecolor\":\"white\",\"showbackground\":true,\"ticks\":\"\",\"zerolinecolor\":\"white\",\"gridwidth\":2}},\"shapedefaults\":{\"line\":{\"color\":\"#2a3f5f\"}},\"annotationdefaults\":{\"arrowcolor\":\"#2a3f5f\",\"arrowhead\":0,\"arrowwidth\":1},\"geo\":{\"bgcolor\":\"white\",\"landcolor\":\"#E5ECF6\",\"subunitcolor\":\"white\",\"showland\":true,\"showlakes\":true,\"lakecolor\":\"white\"},\"title\":{\"x\":0.05},\"mapbox\":{\"style\":\"light\"}}},\"xaxis\":{\"anchor\":\"y\",\"domain\":[0.0,1.0],\"title\":{\"text\":\"Q262\"}},\"yaxis\":{\"anchor\":\"x\",\"domain\":[0.0,1.0],\"title\":{\"text\":\"count\"}},\"legend\":{\"tracegroupgap\":0},\"title\":{\"text\":\"Edad\"},\"barmode\":\"relative\"},                        {\"responsive\": true}                    ).then(function(){\n",
              "                            \n",
              "var gd = document.getElementById('285d1040-4249-48af-85b9-6929501b9512');\n",
              "var x = new MutationObserver(function (mutations, observer) {{\n",
              "        var display = window.getComputedStyle(gd).display;\n",
              "        if (!display || display === 'none') {{\n",
              "            console.log([gd, 'removed!']);\n",
              "            Plotly.purge(gd);\n",
              "            observer.disconnect();\n",
              "        }}\n",
              "}});\n",
              "\n",
              "// Listen for the removal of the full notebook cells\n",
              "var notebookContainer = gd.closest('#notebook-container');\n",
              "if (notebookContainer) {{\n",
              "    x.observe(notebookContainer, {childList: true});\n",
              "}}\n",
              "\n",
              "// Listen for the clearing of the current output cell\n",
              "var outputEl = gd.closest('.output');\n",
              "if (outputEl) {{\n",
              "    x.observe(outputEl, {childList: true});\n",
              "}}\n",
              "\n",
              "                        })                };                            </script>        </div>\n",
              "</body>\n",
              "</html>"
            ]
          },
          "metadata": {}
        }
      ]
    },
    {
      "cell_type": "markdown",
      "metadata": {
        "id": "gz4xABnEw9EV"
      },
      "source": [
        "Podemos ver que hay cierto sesgo en la encuesta, donde gran parte de los participantes son más jóvenes. Habría que revisar si esto implica algún tipo de sesgo dado que diferentes fuentes fundamentan la existencia de diferencias ideológicas muy marcadas en función de los diferentes grupos etarios."
      ]
    },
    {
      "cell_type": "markdown",
      "metadata": {
        "id": "AbkPhDwwE-RF"
      },
      "source": [
        "#Veamos ahora la distribución de la valoración de la democracia como sistema de gobierno, es decir nuestra variable target (Q250):"
      ]
    },
    {
      "cell_type": "code",
      "source": [
        "df_limpio = df_reducido.rename(columns={'Q250':'Importance_Democracy','Q243':'Trust_leaders','Q249':'Women_Man_EqualRights','Q112':'Corruption_Perception','Q237':'Army_Rule','Q197':'Government_rights','Q127':'Poor_inmigration','Q262':'Age'})"
      ],
      "metadata": {
        "id": "k9_NLGw-wcX7"
      },
      "execution_count": null,
      "outputs": []
    },
    {
      "cell_type": "code",
      "source": [
        "df_limpio.head()"
      ],
      "metadata": {
        "colab": {
          "base_uri": "https://localhost:8080/",
          "height": 206
        },
        "id": "HXGENg2t87mc",
        "outputId": "fd78fbbd-4111-4cd5-9096-f94d8e2fcc5e"
      },
      "execution_count": null,
      "outputs": [
        {
          "output_type": "execute_result",
          "data": {
            "text/plain": [
              "   Importance_Democracy  Trust_leaders  Women_Man_EqualRights  \\\n",
              "0                  10.0           10.0                   10.0   \n",
              "1                  10.0           10.0                   10.0   \n",
              "2                  10.0           10.0                   10.0   \n",
              "4                  10.0           10.0                   10.0   \n",
              "5                  10.0           10.0                   10.0   \n",
              "\n",
              "   Corruption_Perception  Army_Rule  Government_rights  Poor_inmigration  Age  \n",
              "0                   10.0        4.0                4.0               1.0   50  \n",
              "1                   10.0        4.0                3.0               2.0   34  \n",
              "2                   10.0        4.0                4.0               2.0   35  \n",
              "4                   10.0        4.0                4.0               2.0   37  \n",
              "5                   10.0        3.0                4.0               2.0   58  "
            ],
            "text/html": [
              "\n",
              "  <div id=\"df-767b6624-0e3b-4453-986d-a71e9b1f04ad\" class=\"colab-df-container\">\n",
              "    <div>\n",
              "<style scoped>\n",
              "    .dataframe tbody tr th:only-of-type {\n",
              "        vertical-align: middle;\n",
              "    }\n",
              "\n",
              "    .dataframe tbody tr th {\n",
              "        vertical-align: top;\n",
              "    }\n",
              "\n",
              "    .dataframe thead th {\n",
              "        text-align: right;\n",
              "    }\n",
              "</style>\n",
              "<table border=\"1\" class=\"dataframe\">\n",
              "  <thead>\n",
              "    <tr style=\"text-align: right;\">\n",
              "      <th></th>\n",
              "      <th>Importance_Democracy</th>\n",
              "      <th>Trust_leaders</th>\n",
              "      <th>Women_Man_EqualRights</th>\n",
              "      <th>Corruption_Perception</th>\n",
              "      <th>Army_Rule</th>\n",
              "      <th>Government_rights</th>\n",
              "      <th>Poor_inmigration</th>\n",
              "      <th>Age</th>\n",
              "    </tr>\n",
              "  </thead>\n",
              "  <tbody>\n",
              "    <tr>\n",
              "      <th>0</th>\n",
              "      <td>10.0</td>\n",
              "      <td>10.0</td>\n",
              "      <td>10.0</td>\n",
              "      <td>10.0</td>\n",
              "      <td>4.0</td>\n",
              "      <td>4.0</td>\n",
              "      <td>1.0</td>\n",
              "      <td>50</td>\n",
              "    </tr>\n",
              "    <tr>\n",
              "      <th>1</th>\n",
              "      <td>10.0</td>\n",
              "      <td>10.0</td>\n",
              "      <td>10.0</td>\n",
              "      <td>10.0</td>\n",
              "      <td>4.0</td>\n",
              "      <td>3.0</td>\n",
              "      <td>2.0</td>\n",
              "      <td>34</td>\n",
              "    </tr>\n",
              "    <tr>\n",
              "      <th>2</th>\n",
              "      <td>10.0</td>\n",
              "      <td>10.0</td>\n",
              "      <td>10.0</td>\n",
              "      <td>10.0</td>\n",
              "      <td>4.0</td>\n",
              "      <td>4.0</td>\n",
              "      <td>2.0</td>\n",
              "      <td>35</td>\n",
              "    </tr>\n",
              "    <tr>\n",
              "      <th>4</th>\n",
              "      <td>10.0</td>\n",
              "      <td>10.0</td>\n",
              "      <td>10.0</td>\n",
              "      <td>10.0</td>\n",
              "      <td>4.0</td>\n",
              "      <td>4.0</td>\n",
              "      <td>2.0</td>\n",
              "      <td>37</td>\n",
              "    </tr>\n",
              "    <tr>\n",
              "      <th>5</th>\n",
              "      <td>10.0</td>\n",
              "      <td>10.0</td>\n",
              "      <td>10.0</td>\n",
              "      <td>10.0</td>\n",
              "      <td>3.0</td>\n",
              "      <td>4.0</td>\n",
              "      <td>2.0</td>\n",
              "      <td>58</td>\n",
              "    </tr>\n",
              "  </tbody>\n",
              "</table>\n",
              "</div>\n",
              "    <div class=\"colab-df-buttons\">\n",
              "\n",
              "  <div class=\"colab-df-container\">\n",
              "    <button class=\"colab-df-convert\" onclick=\"convertToInteractive('df-767b6624-0e3b-4453-986d-a71e9b1f04ad')\"\n",
              "            title=\"Convert this dataframe to an interactive table.\"\n",
              "            style=\"display:none;\">\n",
              "\n",
              "  <svg xmlns=\"http://www.w3.org/2000/svg\" height=\"24px\" viewBox=\"0 -960 960 960\">\n",
              "    <path d=\"M120-120v-720h720v720H120Zm60-500h600v-160H180v160Zm220 220h160v-160H400v160Zm0 220h160v-160H400v160ZM180-400h160v-160H180v160Zm440 0h160v-160H620v160ZM180-180h160v-160H180v160Zm440 0h160v-160H620v160Z\"/>\n",
              "  </svg>\n",
              "    </button>\n",
              "\n",
              "  <style>\n",
              "    .colab-df-container {\n",
              "      display:flex;\n",
              "      gap: 12px;\n",
              "    }\n",
              "\n",
              "    .colab-df-convert {\n",
              "      background-color: #E8F0FE;\n",
              "      border: none;\n",
              "      border-radius: 50%;\n",
              "      cursor: pointer;\n",
              "      display: none;\n",
              "      fill: #1967D2;\n",
              "      height: 32px;\n",
              "      padding: 0 0 0 0;\n",
              "      width: 32px;\n",
              "    }\n",
              "\n",
              "    .colab-df-convert:hover {\n",
              "      background-color: #E2EBFA;\n",
              "      box-shadow: 0px 1px 2px rgba(60, 64, 67, 0.3), 0px 1px 3px 1px rgba(60, 64, 67, 0.15);\n",
              "      fill: #174EA6;\n",
              "    }\n",
              "\n",
              "    .colab-df-buttons div {\n",
              "      margin-bottom: 4px;\n",
              "    }\n",
              "\n",
              "    [theme=dark] .colab-df-convert {\n",
              "      background-color: #3B4455;\n",
              "      fill: #D2E3FC;\n",
              "    }\n",
              "\n",
              "    [theme=dark] .colab-df-convert:hover {\n",
              "      background-color: #434B5C;\n",
              "      box-shadow: 0px 1px 3px 1px rgba(0, 0, 0, 0.15);\n",
              "      filter: drop-shadow(0px 1px 2px rgba(0, 0, 0, 0.3));\n",
              "      fill: #FFFFFF;\n",
              "    }\n",
              "  </style>\n",
              "\n",
              "    <script>\n",
              "      const buttonEl =\n",
              "        document.querySelector('#df-767b6624-0e3b-4453-986d-a71e9b1f04ad button.colab-df-convert');\n",
              "      buttonEl.style.display =\n",
              "        google.colab.kernel.accessAllowed ? 'block' : 'none';\n",
              "\n",
              "      async function convertToInteractive(key) {\n",
              "        const element = document.querySelector('#df-767b6624-0e3b-4453-986d-a71e9b1f04ad');\n",
              "        const dataTable =\n",
              "          await google.colab.kernel.invokeFunction('convertToInteractive',\n",
              "                                                    [key], {});\n",
              "        if (!dataTable) return;\n",
              "\n",
              "        const docLinkHtml = 'Like what you see? Visit the ' +\n",
              "          '<a target=\"_blank\" href=https://colab.research.google.com/notebooks/data_table.ipynb>data table notebook</a>'\n",
              "          + ' to learn more about interactive tables.';\n",
              "        element.innerHTML = '';\n",
              "        dataTable['output_type'] = 'display_data';\n",
              "        await google.colab.output.renderOutput(dataTable, element);\n",
              "        const docLink = document.createElement('div');\n",
              "        docLink.innerHTML = docLinkHtml;\n",
              "        element.appendChild(docLink);\n",
              "      }\n",
              "    </script>\n",
              "  </div>\n",
              "\n",
              "\n",
              "<div id=\"df-49f9a06d-76c4-4f88-a2f8-7f6e7dc7f495\">\n",
              "  <button class=\"colab-df-quickchart\" onclick=\"quickchart('df-49f9a06d-76c4-4f88-a2f8-7f6e7dc7f495')\"\n",
              "            title=\"Suggest charts\"\n",
              "            style=\"display:none;\">\n",
              "\n",
              "<svg xmlns=\"http://www.w3.org/2000/svg\" height=\"24px\"viewBox=\"0 0 24 24\"\n",
              "     width=\"24px\">\n",
              "    <g>\n",
              "        <path d=\"M19 3H5c-1.1 0-2 .9-2 2v14c0 1.1.9 2 2 2h14c1.1 0 2-.9 2-2V5c0-1.1-.9-2-2-2zM9 17H7v-7h2v7zm4 0h-2V7h2v10zm4 0h-2v-4h2v4z\"/>\n",
              "    </g>\n",
              "</svg>\n",
              "  </button>\n",
              "\n",
              "<style>\n",
              "  .colab-df-quickchart {\n",
              "      --bg-color: #E8F0FE;\n",
              "      --fill-color: #1967D2;\n",
              "      --hover-bg-color: #E2EBFA;\n",
              "      --hover-fill-color: #174EA6;\n",
              "      --disabled-fill-color: #AAA;\n",
              "      --disabled-bg-color: #DDD;\n",
              "  }\n",
              "\n",
              "  [theme=dark] .colab-df-quickchart {\n",
              "      --bg-color: #3B4455;\n",
              "      --fill-color: #D2E3FC;\n",
              "      --hover-bg-color: #434B5C;\n",
              "      --hover-fill-color: #FFFFFF;\n",
              "      --disabled-bg-color: #3B4455;\n",
              "      --disabled-fill-color: #666;\n",
              "  }\n",
              "\n",
              "  .colab-df-quickchart {\n",
              "    background-color: var(--bg-color);\n",
              "    border: none;\n",
              "    border-radius: 50%;\n",
              "    cursor: pointer;\n",
              "    display: none;\n",
              "    fill: var(--fill-color);\n",
              "    height: 32px;\n",
              "    padding: 0;\n",
              "    width: 32px;\n",
              "  }\n",
              "\n",
              "  .colab-df-quickchart:hover {\n",
              "    background-color: var(--hover-bg-color);\n",
              "    box-shadow: 0 1px 2px rgba(60, 64, 67, 0.3), 0 1px 3px 1px rgba(60, 64, 67, 0.15);\n",
              "    fill: var(--button-hover-fill-color);\n",
              "  }\n",
              "\n",
              "  .colab-df-quickchart-complete:disabled,\n",
              "  .colab-df-quickchart-complete:disabled:hover {\n",
              "    background-color: var(--disabled-bg-color);\n",
              "    fill: var(--disabled-fill-color);\n",
              "    box-shadow: none;\n",
              "  }\n",
              "\n",
              "  .colab-df-spinner {\n",
              "    border: 2px solid var(--fill-color);\n",
              "    border-color: transparent;\n",
              "    border-bottom-color: var(--fill-color);\n",
              "    animation:\n",
              "      spin 1s steps(1) infinite;\n",
              "  }\n",
              "\n",
              "  @keyframes spin {\n",
              "    0% {\n",
              "      border-color: transparent;\n",
              "      border-bottom-color: var(--fill-color);\n",
              "      border-left-color: var(--fill-color);\n",
              "    }\n",
              "    20% {\n",
              "      border-color: transparent;\n",
              "      border-left-color: var(--fill-color);\n",
              "      border-top-color: var(--fill-color);\n",
              "    }\n",
              "    30% {\n",
              "      border-color: transparent;\n",
              "      border-left-color: var(--fill-color);\n",
              "      border-top-color: var(--fill-color);\n",
              "      border-right-color: var(--fill-color);\n",
              "    }\n",
              "    40% {\n",
              "      border-color: transparent;\n",
              "      border-right-color: var(--fill-color);\n",
              "      border-top-color: var(--fill-color);\n",
              "    }\n",
              "    60% {\n",
              "      border-color: transparent;\n",
              "      border-right-color: var(--fill-color);\n",
              "    }\n",
              "    80% {\n",
              "      border-color: transparent;\n",
              "      border-right-color: var(--fill-color);\n",
              "      border-bottom-color: var(--fill-color);\n",
              "    }\n",
              "    90% {\n",
              "      border-color: transparent;\n",
              "      border-bottom-color: var(--fill-color);\n",
              "    }\n",
              "  }\n",
              "</style>\n",
              "\n",
              "  <script>\n",
              "    async function quickchart(key) {\n",
              "      const quickchartButtonEl =\n",
              "        document.querySelector('#' + key + ' button');\n",
              "      quickchartButtonEl.disabled = true;  // To prevent multiple clicks.\n",
              "      quickchartButtonEl.classList.add('colab-df-spinner');\n",
              "      try {\n",
              "        const charts = await google.colab.kernel.invokeFunction(\n",
              "            'suggestCharts', [key], {});\n",
              "      } catch (error) {\n",
              "        console.error('Error during call to suggestCharts:', error);\n",
              "      }\n",
              "      quickchartButtonEl.classList.remove('colab-df-spinner');\n",
              "      quickchartButtonEl.classList.add('colab-df-quickchart-complete');\n",
              "    }\n",
              "    (() => {\n",
              "      let quickchartButtonEl =\n",
              "        document.querySelector('#df-49f9a06d-76c4-4f88-a2f8-7f6e7dc7f495 button');\n",
              "      quickchartButtonEl.style.display =\n",
              "        google.colab.kernel.accessAllowed ? 'block' : 'none';\n",
              "    })();\n",
              "  </script>\n",
              "</div>\n",
              "\n",
              "    </div>\n",
              "  </div>\n"
            ],
            "application/vnd.google.colaboratory.intrinsic+json": {
              "type": "dataframe",
              "variable_name": "df_limpio",
              "summary": "{\n  \"name\": \"df_limpio\",\n  \"rows\": 849,\n  \"fields\": [\n    {\n      \"column\": \"Importance_Democracy\",\n      \"properties\": {\n        \"dtype\": \"number\",\n        \"std\": 1.5966024511663037,\n        \"min\": 1.0,\n        \"max\": 10.0,\n        \"num_unique_values\": 10,\n        \"samples\": [\n          3.0,\n          9.0,\n          7.0\n        ],\n        \"semantic_type\": \"\",\n        \"description\": \"\"\n      }\n    },\n    {\n      \"column\": \"Trust_leaders\",\n      \"properties\": {\n        \"dtype\": \"number\",\n        \"std\": 1.989671253555285,\n        \"min\": 1.0,\n        \"max\": 10.0,\n        \"num_unique_values\": 10,\n        \"samples\": [\n          3.0,\n          9.0,\n          4.0\n        ],\n        \"semantic_type\": \"\",\n        \"description\": \"\"\n      }\n    },\n    {\n      \"column\": \"Women_Man_EqualRights\",\n      \"properties\": {\n        \"dtype\": \"number\",\n        \"std\": 1.896953963613012,\n        \"min\": 1.0,\n        \"max\": 10.0,\n        \"num_unique_values\": 10,\n        \"samples\": [\n          3.0,\n          8.0,\n          9.0\n        ],\n        \"semantic_type\": \"\",\n        \"description\": \"\"\n      }\n    },\n    {\n      \"column\": \"Corruption_Perception\",\n      \"properties\": {\n        \"dtype\": \"number\",\n        \"std\": 1.617854219203969,\n        \"min\": 1.0,\n        \"max\": 10.0,\n        \"num_unique_values\": 10,\n        \"samples\": [\n          1.0,\n          5.0,\n          8.0\n        ],\n        \"semantic_type\": \"\",\n        \"description\": \"\"\n      }\n    },\n    {\n      \"column\": \"Army_Rule\",\n      \"properties\": {\n        \"dtype\": \"number\",\n        \"std\": 0.8108924800605354,\n        \"min\": 1.0,\n        \"max\": 4.0,\n        \"num_unique_values\": 4,\n        \"samples\": [\n          3.0,\n          1.0,\n          4.0\n        ],\n        \"semantic_type\": \"\",\n        \"description\": \"\"\n      }\n    },\n    {\n      \"column\": \"Government_rights\",\n      \"properties\": {\n        \"dtype\": \"number\",\n        \"std\": 0.9925047461069073,\n        \"min\": 1.0,\n        \"max\": 4.0,\n        \"num_unique_values\": 4,\n        \"samples\": [\n          3.0,\n          2.0,\n          4.0\n        ],\n        \"semantic_type\": \"\",\n        \"description\": \"\"\n      }\n    },\n    {\n      \"column\": \"Poor_inmigration\",\n      \"properties\": {\n        \"dtype\": \"number\",\n        \"std\": 0.742733763580803,\n        \"min\": 0.0,\n        \"max\": 2.0,\n        \"num_unique_values\": 3,\n        \"samples\": [\n          1.0,\n          2.0,\n          0.0\n        ],\n        \"semantic_type\": \"\",\n        \"description\": \"\"\n      }\n    },\n    {\n      \"column\": \"Age\",\n      \"properties\": {\n        \"dtype\": \"number\",\n        \"std\": 17,\n        \"min\": 18,\n        \"max\": 93,\n        \"num_unique_values\": 71,\n        \"samples\": [\n          42,\n          50,\n          60\n        ],\n        \"semantic_type\": \"\",\n        \"description\": \"\"\n      }\n    }\n  ]\n}"
            }
          },
          "metadata": {},
          "execution_count": 85
        }
      ]
    },
    {
      "cell_type": "code",
      "source": [
        "px.histogram(df_limpio,x='Importance_Democracy',title='Valoración de la democracia como sistema de gobierno')"
      ],
      "metadata": {
        "colab": {
          "base_uri": "https://localhost:8080/",
          "height": 542
        },
        "id": "74F-lbX87_yO",
        "outputId": "fc17764f-e15c-44d8-d80b-80662b52d2af"
      },
      "execution_count": null,
      "outputs": [
        {
          "output_type": "display_data",
          "data": {
            "text/html": [
              "<html>\n",
              "<head><meta charset=\"utf-8\" /></head>\n",
              "<body>\n",
              "    <div>            <script src=\"https://cdnjs.cloudflare.com/ajax/libs/mathjax/2.7.5/MathJax.js?config=TeX-AMS-MML_SVG\"></script><script type=\"text/javascript\">if (window.MathJax && window.MathJax.Hub && window.MathJax.Hub.Config) {window.MathJax.Hub.Config({SVG: {font: \"STIX-Web\"}});}</script>                <script type=\"text/javascript\">window.PlotlyConfig = {MathJaxConfig: 'local'};</script>\n",
              "        <script charset=\"utf-8\" src=\"https://cdn.plot.ly/plotly-2.24.1.min.js\"></script>                <div id=\"76527158-3697-4759-a9b0-073b363b2759\" class=\"plotly-graph-div\" style=\"height:525px; width:100%;\"></div>            <script type=\"text/javascript\">                                    window.PLOTLYENV=window.PLOTLYENV || {};                                    if (document.getElementById(\"76527158-3697-4759-a9b0-073b363b2759\")) {                    Plotly.newPlot(                        \"76527158-3697-4759-a9b0-073b363b2759\",                        [{\"alignmentgroup\":\"True\",\"bingroup\":\"x\",\"hovertemplate\":\"Importance_Democracy=%{x}\\u003cbr\\u003ecount=%{y}\\u003cextra\\u003e\\u003c\\u002fextra\\u003e\",\"legendgroup\":\"\",\"marker\":{\"color\":\"#636efa\",\"pattern\":{\"shape\":\"\"}},\"name\":\"\",\"offsetgroup\":\"\",\"orientation\":\"v\",\"showlegend\":false,\"x\":[10.0,10.0,10.0,10.0,10.0,10.0,9.0,10.0,10.0,8.0,6.0,4.0,4.0,7.0,10.0,10.0,10.0,7.0,5.0,10.0,10.0,10.0,9.0,10.0,7.0,10.0,7.0,9.0,10.0,10.0,10.0,10.0,7.0,10.0,10.0,10.0,10.0,7.0,10.0,8.0,8.0,8.0,9.0,8.0,10.0,9.0,6.0,7.0,10.0,10.0,6.0,9.0,10.0,10.0,7.0,10.0,10.0,7.0,8.0,1.0,10.0,10.0,10.0,9.0,10.0,8.0,10.0,9.0,10.0,8.0,10.0,10.0,9.0,10.0,10.0,10.0,10.0,8.0,8.0,8.0,8.0,9.0,9.0,9.0,9.0,9.0,9.0,9.0,10.0,10.0,10.0,10.0,10.0,10.0,10.0,10.0,10.0,10.0,8.0,10.0,10.0,10.0,10.0,10.0,10.0,10.0,10.0,8.0,9.0,10.0,8.0,8.0,8.0,8.0,8.0,9.0,9.0,10.0,9.0,9.0,10.0,10.0,10.0,10.0,10.0,10.0,10.0,10.0,10.0,10.0,8.0,10.0,10.0,10.0,10.0,10.0,10.0,10.0,10.0,10.0,10.0,10.0,9.0,10.0,10.0,7.0,10.0,10.0,10.0,10.0,10.0,5.0,10.0,9.0,10.0,9.0,9.0,10.0,10.0,10.0,10.0,10.0,9.0,8.0,10.0,9.0,9.0,7.0,10.0,7.0,10.0,10.0,9.0,10.0,8.0,8.0,8.0,10.0,9.0,9.0,9.0,9.0,10.0,10.0,6.0,10.0,10.0,10.0,9.0,10.0,10.0,6.0,7.0,10.0,9.0,5.0,5.0,7.0,8.0,10.0,10.0,10.0,10.0,10.0,10.0,8.0,8.0,10.0,10.0,10.0,10.0,10.0,10.0,10.0,10.0,10.0,10.0,9.0,8.0,10.0,5.0,10.0,7.0,10.0,10.0,10.0,10.0,10.0,10.0,9.0,9.0,10.0,10.0,10.0,10.0,10.0,10.0,10.0,10.0,10.0,10.0,8.0,9.0,9.0,8.0,8.0,10.0,9.0,8.0,8.0,8.0,8.0,10.0,9.0,8.0,8.0,8.0,8.0,8.0,10.0,10.0,10.0,10.0,9.0,10.0,9.0,9.0,10.0,10.0,7.0,10.0,8.0,8.0,8.0,8.0,5.0,10.0,10.0,10.0,10.0,10.0,10.0,10.0,8.0,10.0,10.0,10.0,10.0,10.0,10.0,7.0,10.0,10.0,8.0,9.0,10.0,8.0,6.0,10.0,10.0,10.0,10.0,8.0,7.0,8.0,10.0,7.0,6.0,6.0,8.0,7.0,10.0,8.0,10.0,9.0,10.0,10.0,10.0,10.0,10.0,10.0,8.0,8.0,6.0,10.0,10.0,10.0,8.0,10.0,10.0,9.0,9.0,8.0,9.0,8.0,10.0,10.0,10.0,10.0,10.0,8.0,8.0,9.0,8.0,8.0,9.0,9.0,9.0,7.0,8.0,8.0,8.0,9.0,10.0,8.0,8.0,8.0,10.0,10.0,10.0,10.0,10.0,5.0,10.0,10.0,10.0,7.0,9.0,10.0,10.0,10.0,9.0,10.0,6.0,7.0,5.0,6.0,10.0,10.0,10.0,10.0,10.0,10.0,10.0,9.0,10.0,10.0,10.0,10.0,10.0,10.0,10.0,10.0,9.0,10.0,10.0,9.0,6.0,6.0,5.0,9.0,10.0,10.0,10.0,9.0,5.0,10.0,10.0,10.0,10.0,10.0,10.0,9.0,10.0,9.0,10.0,9.0,9.0,10.0,9.0,8.0,8.0,7.0,8.0,10.0,10.0,10.0,5.0,3.0,10.0,10.0,10.0,9.0,10.0,8.0,9.0,10.0,10.0,9.0,10.0,10.0,10.0,10.0,10.0,10.0,10.0,10.0,10.0,10.0,8.0,9.0,10.0,8.0,7.0,8.0,8.0,8.0,7.0,9.0,9.0,8.0,9.0,9.0,8.0,10.0,10.0,10.0,10.0,10.0,9.0,10.0,10.0,10.0,10.0,10.0,10.0,8.0,10.0,10.0,10.0,10.0,10.0,10.0,10.0,10.0,10.0,10.0,10.0,10.0,10.0,10.0,10.0,8.0,10.0,8.0,8.0,10.0,8.0,10.0,10.0,8.0,6.0,10.0,8.0,10.0,10.0,10.0,9.0,10.0,9.0,5.0,10.0,6.0,8.0,10.0,8.0,10.0,10.0,10.0,10.0,10.0,10.0,10.0,10.0,10.0,10.0,6.0,10.0,10.0,10.0,10.0,10.0,10.0,10.0,10.0,10.0,10.0,8.0,10.0,10.0,9.0,10.0,9.0,10.0,10.0,8.0,8.0,10.0,10.0,10.0,10.0,10.0,10.0,10.0,10.0,9.0,10.0,7.0,6.0,7.0,9.0,6.0,9.0,8.0,10.0,10.0,10.0,10.0,10.0,10.0,8.0,7.0,10.0,10.0,10.0,8.0,10.0,7.0,5.0,7.0,8.0,7.0,6.0,6.0,7.0,6.0,4.0,8.0,8.0,10.0,7.0,9.0,10.0,10.0,10.0,10.0,9.0,10.0,10.0,10.0,10.0,10.0,10.0,10.0,10.0,10.0,10.0,10.0,10.0,9.0,10.0,10.0,7.0,10.0,8.0,7.0,9.0,7.0,10.0,6.0,10.0,10.0,2.0,9.0,9.0,8.0,8.0,7.0,6.0,7.0,6.0,6.0,6.0,6.0,6.0,7.0,5.0,7.0,7.0,7.0,7.0,6.0,8.0,8.0,10.0,10.0,10.0,10.0,10.0,10.0,10.0,10.0,10.0,10.0,9.0,10.0,10.0,10.0,10.0,10.0,10.0,10.0,10.0,10.0,10.0,7.0,7.0,10.0,10.0,8.0,10.0,10.0,8.0,10.0,8.0,7.0,10.0,8.0,10.0,8.0,10.0,10.0,8.0,5.0,10.0,8.0,5.0,5.0,10.0,10.0,10.0,7.0,7.0,10.0,10.0,10.0,10.0,7.0,10.0,10.0,10.0,10.0,10.0,8.0,10.0,10.0,10.0,10.0,10.0,7.0,10.0,10.0,10.0,9.0,8.0,10.0,8.0,9.0,8.0,6.0,7.0,8.0,10.0,10.0,9.0,9.0,9.0,7.0,5.0,10.0,10.0,10.0,10.0,10.0,10.0,10.0,10.0,10.0,10.0,7.0,10.0,10.0,10.0,10.0,10.0,8.0,10.0,4.0,5.0,6.0,4.0,4.0,5.0,4.0,3.0,6.0,4.0,4.0,5.0,5.0,5.0,3.0,5.0,5.0,3.0,4.0,3.0,7.0,10.0,7.0,10.0,7.0,6.0,7.0,7.0,7.0,10.0,8.0,10.0,10.0,9.0,8.0,8.0,8.0,6.0,8.0,8.0,8.0,8.0,9.0,6.0,8.0,9.0,10.0,10.0,10.0,3.0,6.0,7.0,6.0,10.0,10.0,10.0,10.0,10.0,10.0,10.0,10.0,10.0,10.0,10.0,10.0,10.0,10.0,10.0,10.0,10.0,10.0,10.0,10.0,9.0,10.0,10.0,8.0,10.0,9.0,10.0,10.0,10.0,10.0,10.0,9.0,9.0,9.0,10.0,9.0,10.0,10.0,6.0,9.0,10.0,10.0,9.0,10.0,7.0,9.0,7.0,10.0,10.0],\"xaxis\":\"x\",\"yaxis\":\"y\",\"type\":\"histogram\"}],                        {\"template\":{\"data\":{\"histogram2dcontour\":[{\"type\":\"histogram2dcontour\",\"colorbar\":{\"outlinewidth\":0,\"ticks\":\"\"},\"colorscale\":[[0.0,\"#0d0887\"],[0.1111111111111111,\"#46039f\"],[0.2222222222222222,\"#7201a8\"],[0.3333333333333333,\"#9c179e\"],[0.4444444444444444,\"#bd3786\"],[0.5555555555555556,\"#d8576b\"],[0.6666666666666666,\"#ed7953\"],[0.7777777777777778,\"#fb9f3a\"],[0.8888888888888888,\"#fdca26\"],[1.0,\"#f0f921\"]]}],\"choropleth\":[{\"type\":\"choropleth\",\"colorbar\":{\"outlinewidth\":0,\"ticks\":\"\"}}],\"histogram2d\":[{\"type\":\"histogram2d\",\"colorbar\":{\"outlinewidth\":0,\"ticks\":\"\"},\"colorscale\":[[0.0,\"#0d0887\"],[0.1111111111111111,\"#46039f\"],[0.2222222222222222,\"#7201a8\"],[0.3333333333333333,\"#9c179e\"],[0.4444444444444444,\"#bd3786\"],[0.5555555555555556,\"#d8576b\"],[0.6666666666666666,\"#ed7953\"],[0.7777777777777778,\"#fb9f3a\"],[0.8888888888888888,\"#fdca26\"],[1.0,\"#f0f921\"]]}],\"heatmap\":[{\"type\":\"heatmap\",\"colorbar\":{\"outlinewidth\":0,\"ticks\":\"\"},\"colorscale\":[[0.0,\"#0d0887\"],[0.1111111111111111,\"#46039f\"],[0.2222222222222222,\"#7201a8\"],[0.3333333333333333,\"#9c179e\"],[0.4444444444444444,\"#bd3786\"],[0.5555555555555556,\"#d8576b\"],[0.6666666666666666,\"#ed7953\"],[0.7777777777777778,\"#fb9f3a\"],[0.8888888888888888,\"#fdca26\"],[1.0,\"#f0f921\"]]}],\"heatmapgl\":[{\"type\":\"heatmapgl\",\"colorbar\":{\"outlinewidth\":0,\"ticks\":\"\"},\"colorscale\":[[0.0,\"#0d0887\"],[0.1111111111111111,\"#46039f\"],[0.2222222222222222,\"#7201a8\"],[0.3333333333333333,\"#9c179e\"],[0.4444444444444444,\"#bd3786\"],[0.5555555555555556,\"#d8576b\"],[0.6666666666666666,\"#ed7953\"],[0.7777777777777778,\"#fb9f3a\"],[0.8888888888888888,\"#fdca26\"],[1.0,\"#f0f921\"]]}],\"contourcarpet\":[{\"type\":\"contourcarpet\",\"colorbar\":{\"outlinewidth\":0,\"ticks\":\"\"}}],\"contour\":[{\"type\":\"contour\",\"colorbar\":{\"outlinewidth\":0,\"ticks\":\"\"},\"colorscale\":[[0.0,\"#0d0887\"],[0.1111111111111111,\"#46039f\"],[0.2222222222222222,\"#7201a8\"],[0.3333333333333333,\"#9c179e\"],[0.4444444444444444,\"#bd3786\"],[0.5555555555555556,\"#d8576b\"],[0.6666666666666666,\"#ed7953\"],[0.7777777777777778,\"#fb9f3a\"],[0.8888888888888888,\"#fdca26\"],[1.0,\"#f0f921\"]]}],\"surface\":[{\"type\":\"surface\",\"colorbar\":{\"outlinewidth\":0,\"ticks\":\"\"},\"colorscale\":[[0.0,\"#0d0887\"],[0.1111111111111111,\"#46039f\"],[0.2222222222222222,\"#7201a8\"],[0.3333333333333333,\"#9c179e\"],[0.4444444444444444,\"#bd3786\"],[0.5555555555555556,\"#d8576b\"],[0.6666666666666666,\"#ed7953\"],[0.7777777777777778,\"#fb9f3a\"],[0.8888888888888888,\"#fdca26\"],[1.0,\"#f0f921\"]]}],\"mesh3d\":[{\"type\":\"mesh3d\",\"colorbar\":{\"outlinewidth\":0,\"ticks\":\"\"}}],\"scatter\":[{\"fillpattern\":{\"fillmode\":\"overlay\",\"size\":10,\"solidity\":0.2},\"type\":\"scatter\"}],\"parcoords\":[{\"type\":\"parcoords\",\"line\":{\"colorbar\":{\"outlinewidth\":0,\"ticks\":\"\"}}}],\"scatterpolargl\":[{\"type\":\"scatterpolargl\",\"marker\":{\"colorbar\":{\"outlinewidth\":0,\"ticks\":\"\"}}}],\"bar\":[{\"error_x\":{\"color\":\"#2a3f5f\"},\"error_y\":{\"color\":\"#2a3f5f\"},\"marker\":{\"line\":{\"color\":\"#E5ECF6\",\"width\":0.5},\"pattern\":{\"fillmode\":\"overlay\",\"size\":10,\"solidity\":0.2}},\"type\":\"bar\"}],\"scattergeo\":[{\"type\":\"scattergeo\",\"marker\":{\"colorbar\":{\"outlinewidth\":0,\"ticks\":\"\"}}}],\"scatterpolar\":[{\"type\":\"scatterpolar\",\"marker\":{\"colorbar\":{\"outlinewidth\":0,\"ticks\":\"\"}}}],\"histogram\":[{\"marker\":{\"pattern\":{\"fillmode\":\"overlay\",\"size\":10,\"solidity\":0.2}},\"type\":\"histogram\"}],\"scattergl\":[{\"type\":\"scattergl\",\"marker\":{\"colorbar\":{\"outlinewidth\":0,\"ticks\":\"\"}}}],\"scatter3d\":[{\"type\":\"scatter3d\",\"line\":{\"colorbar\":{\"outlinewidth\":0,\"ticks\":\"\"}},\"marker\":{\"colorbar\":{\"outlinewidth\":0,\"ticks\":\"\"}}}],\"scattermapbox\":[{\"type\":\"scattermapbox\",\"marker\":{\"colorbar\":{\"outlinewidth\":0,\"ticks\":\"\"}}}],\"scatterternary\":[{\"type\":\"scatterternary\",\"marker\":{\"colorbar\":{\"outlinewidth\":0,\"ticks\":\"\"}}}],\"scattercarpet\":[{\"type\":\"scattercarpet\",\"marker\":{\"colorbar\":{\"outlinewidth\":0,\"ticks\":\"\"}}}],\"carpet\":[{\"aaxis\":{\"endlinecolor\":\"#2a3f5f\",\"gridcolor\":\"white\",\"linecolor\":\"white\",\"minorgridcolor\":\"white\",\"startlinecolor\":\"#2a3f5f\"},\"baxis\":{\"endlinecolor\":\"#2a3f5f\",\"gridcolor\":\"white\",\"linecolor\":\"white\",\"minorgridcolor\":\"white\",\"startlinecolor\":\"#2a3f5f\"},\"type\":\"carpet\"}],\"table\":[{\"cells\":{\"fill\":{\"color\":\"#EBF0F8\"},\"line\":{\"color\":\"white\"}},\"header\":{\"fill\":{\"color\":\"#C8D4E3\"},\"line\":{\"color\":\"white\"}},\"type\":\"table\"}],\"barpolar\":[{\"marker\":{\"line\":{\"color\":\"#E5ECF6\",\"width\":0.5},\"pattern\":{\"fillmode\":\"overlay\",\"size\":10,\"solidity\":0.2}},\"type\":\"barpolar\"}],\"pie\":[{\"automargin\":true,\"type\":\"pie\"}]},\"layout\":{\"autotypenumbers\":\"strict\",\"colorway\":[\"#636efa\",\"#EF553B\",\"#00cc96\",\"#ab63fa\",\"#FFA15A\",\"#19d3f3\",\"#FF6692\",\"#B6E880\",\"#FF97FF\",\"#FECB52\"],\"font\":{\"color\":\"#2a3f5f\"},\"hovermode\":\"closest\",\"hoverlabel\":{\"align\":\"left\"},\"paper_bgcolor\":\"white\",\"plot_bgcolor\":\"#E5ECF6\",\"polar\":{\"bgcolor\":\"#E5ECF6\",\"angularaxis\":{\"gridcolor\":\"white\",\"linecolor\":\"white\",\"ticks\":\"\"},\"radialaxis\":{\"gridcolor\":\"white\",\"linecolor\":\"white\",\"ticks\":\"\"}},\"ternary\":{\"bgcolor\":\"#E5ECF6\",\"aaxis\":{\"gridcolor\":\"white\",\"linecolor\":\"white\",\"ticks\":\"\"},\"baxis\":{\"gridcolor\":\"white\",\"linecolor\":\"white\",\"ticks\":\"\"},\"caxis\":{\"gridcolor\":\"white\",\"linecolor\":\"white\",\"ticks\":\"\"}},\"coloraxis\":{\"colorbar\":{\"outlinewidth\":0,\"ticks\":\"\"}},\"colorscale\":{\"sequential\":[[0.0,\"#0d0887\"],[0.1111111111111111,\"#46039f\"],[0.2222222222222222,\"#7201a8\"],[0.3333333333333333,\"#9c179e\"],[0.4444444444444444,\"#bd3786\"],[0.5555555555555556,\"#d8576b\"],[0.6666666666666666,\"#ed7953\"],[0.7777777777777778,\"#fb9f3a\"],[0.8888888888888888,\"#fdca26\"],[1.0,\"#f0f921\"]],\"sequentialminus\":[[0.0,\"#0d0887\"],[0.1111111111111111,\"#46039f\"],[0.2222222222222222,\"#7201a8\"],[0.3333333333333333,\"#9c179e\"],[0.4444444444444444,\"#bd3786\"],[0.5555555555555556,\"#d8576b\"],[0.6666666666666666,\"#ed7953\"],[0.7777777777777778,\"#fb9f3a\"],[0.8888888888888888,\"#fdca26\"],[1.0,\"#f0f921\"]],\"diverging\":[[0,\"#8e0152\"],[0.1,\"#c51b7d\"],[0.2,\"#de77ae\"],[0.3,\"#f1b6da\"],[0.4,\"#fde0ef\"],[0.5,\"#f7f7f7\"],[0.6,\"#e6f5d0\"],[0.7,\"#b8e186\"],[0.8,\"#7fbc41\"],[0.9,\"#4d9221\"],[1,\"#276419\"]]},\"xaxis\":{\"gridcolor\":\"white\",\"linecolor\":\"white\",\"ticks\":\"\",\"title\":{\"standoff\":15},\"zerolinecolor\":\"white\",\"automargin\":true,\"zerolinewidth\":2},\"yaxis\":{\"gridcolor\":\"white\",\"linecolor\":\"white\",\"ticks\":\"\",\"title\":{\"standoff\":15},\"zerolinecolor\":\"white\",\"automargin\":true,\"zerolinewidth\":2},\"scene\":{\"xaxis\":{\"backgroundcolor\":\"#E5ECF6\",\"gridcolor\":\"white\",\"linecolor\":\"white\",\"showbackground\":true,\"ticks\":\"\",\"zerolinecolor\":\"white\",\"gridwidth\":2},\"yaxis\":{\"backgroundcolor\":\"#E5ECF6\",\"gridcolor\":\"white\",\"linecolor\":\"white\",\"showbackground\":true,\"ticks\":\"\",\"zerolinecolor\":\"white\",\"gridwidth\":2},\"zaxis\":{\"backgroundcolor\":\"#E5ECF6\",\"gridcolor\":\"white\",\"linecolor\":\"white\",\"showbackground\":true,\"ticks\":\"\",\"zerolinecolor\":\"white\",\"gridwidth\":2}},\"shapedefaults\":{\"line\":{\"color\":\"#2a3f5f\"}},\"annotationdefaults\":{\"arrowcolor\":\"#2a3f5f\",\"arrowhead\":0,\"arrowwidth\":1},\"geo\":{\"bgcolor\":\"white\",\"landcolor\":\"#E5ECF6\",\"subunitcolor\":\"white\",\"showland\":true,\"showlakes\":true,\"lakecolor\":\"white\"},\"title\":{\"x\":0.05},\"mapbox\":{\"style\":\"light\"}}},\"xaxis\":{\"anchor\":\"y\",\"domain\":[0.0,1.0],\"title\":{\"text\":\"Importance_Democracy\"}},\"yaxis\":{\"anchor\":\"x\",\"domain\":[0.0,1.0],\"title\":{\"text\":\"count\"}},\"legend\":{\"tracegroupgap\":0},\"title\":{\"text\":\"Valoraci\\u00f3n de la democracia como sistema de gobierno\"},\"barmode\":\"relative\"},                        {\"responsive\": true}                    ).then(function(){\n",
              "                            \n",
              "var gd = document.getElementById('76527158-3697-4759-a9b0-073b363b2759');\n",
              "var x = new MutationObserver(function (mutations, observer) {{\n",
              "        var display = window.getComputedStyle(gd).display;\n",
              "        if (!display || display === 'none') {{\n",
              "            console.log([gd, 'removed!']);\n",
              "            Plotly.purge(gd);\n",
              "            observer.disconnect();\n",
              "        }}\n",
              "}});\n",
              "\n",
              "// Listen for the removal of the full notebook cells\n",
              "var notebookContainer = gd.closest('#notebook-container');\n",
              "if (notebookContainer) {{\n",
              "    x.observe(notebookContainer, {childList: true});\n",
              "}}\n",
              "\n",
              "// Listen for the clearing of the current output cell\n",
              "var outputEl = gd.closest('.output');\n",
              "if (outputEl) {{\n",
              "    x.observe(outputEl, {childList: true});\n",
              "}}\n",
              "\n",
              "                        })                };                            </script>        </div>\n",
              "</body>\n",
              "</html>"
            ]
          },
          "metadata": {}
        }
      ]
    },
    {
      "cell_type": "markdown",
      "metadata": {
        "id": "hAKiVkjKFpH-"
      },
      "source": [
        "La mayoría de las personas consideran que la democracia es sumamente importante como sistema de gobierno."
      ]
    },
    {
      "cell_type": "code",
      "source": [
        "# Crear el gráfico de cajas sin modificar los datos originales\n",
        "fig = px.box(df_limpio, x='Army_Rule', y='Importance_Democracy', title='Democracia vs. Gobierno militar',\n",
        "             category_orders={'Army_Rule': [1, 2, 3, 4],\n",
        "                              'Importance_Democracy': [1, 2, 3, 4, 5, 6, 7, 8, 9, 10]},\n",
        "             labels={'Army_Rule': 'Gobierno militar', 'Importance_Democracy': 'Democracia'})\n",
        "\n",
        "# Invertir el eje Y\n",
        "fig.update_yaxes(categoryorder='array', categoryarray=[1, 2, 3, 4, 5, 6, 7, 8, 9, 10])\n",
        "\n",
        "# Mostrar el gráfico\n",
        "fig.show()"
      ],
      "metadata": {
        "colab": {
          "base_uri": "https://localhost:8080/",
          "height": 542
        },
        "id": "48twIyLHTio-",
        "outputId": "0b2caf1c-a3ef-42e9-902d-e780528f6f3b"
      },
      "execution_count": null,
      "outputs": [
        {
          "output_type": "display_data",
          "data": {
            "text/html": [
              "<html>\n",
              "<head><meta charset=\"utf-8\" /></head>\n",
              "<body>\n",
              "    <div>            <script src=\"https://cdnjs.cloudflare.com/ajax/libs/mathjax/2.7.5/MathJax.js?config=TeX-AMS-MML_SVG\"></script><script type=\"text/javascript\">if (window.MathJax && window.MathJax.Hub && window.MathJax.Hub.Config) {window.MathJax.Hub.Config({SVG: {font: \"STIX-Web\"}});}</script>                <script type=\"text/javascript\">window.PlotlyConfig = {MathJaxConfig: 'local'};</script>\n",
              "        <script charset=\"utf-8\" src=\"https://cdn.plot.ly/plotly-2.24.1.min.js\"></script>                <div id=\"07f214da-82fe-4c4f-8f31-5205134596fe\" class=\"plotly-graph-div\" style=\"height:525px; width:100%;\"></div>            <script type=\"text/javascript\">                                    window.PLOTLYENV=window.PLOTLYENV || {};                                    if (document.getElementById(\"07f214da-82fe-4c4f-8f31-5205134596fe\")) {                    Plotly.newPlot(                        \"07f214da-82fe-4c4f-8f31-5205134596fe\",                        [{\"alignmentgroup\":\"True\",\"hovertemplate\":\"Gobierno militar=%{x}\\u003cbr\\u003eDemocracia=%{y}\\u003cextra\\u003e\\u003c\\u002fextra\\u003e\",\"legendgroup\":\"\",\"marker\":{\"color\":\"#636efa\"},\"name\":\"\",\"notched\":false,\"offsetgroup\":\"\",\"orientation\":\"v\",\"showlegend\":false,\"x\":[4.0,4.0,4.0,4.0,3.0,4.0,4.0,4.0,4.0,3.0,4.0,2.0,3.0,4.0,4.0,4.0,2.0,4.0,4.0,4.0,3.0,3.0,1.0,4.0,2.0,2.0,4.0,2.0,4.0,4.0,4.0,4.0,4.0,2.0,4.0,2.0,4.0,4.0,4.0,4.0,4.0,4.0,4.0,3.0,3.0,3.0,3.0,4.0,4.0,4.0,4.0,4.0,4.0,4.0,4.0,4.0,4.0,4.0,4.0,4.0,4.0,4.0,4.0,4.0,4.0,4.0,4.0,3.0,4.0,3.0,4.0,4.0,4.0,4.0,4.0,4.0,4.0,4.0,4.0,4.0,4.0,3.0,3.0,3.0,4.0,4.0,4.0,4.0,4.0,4.0,4.0,4.0,4.0,4.0,4.0,3.0,4.0,4.0,4.0,4.0,4.0,3.0,4.0,4.0,4.0,4.0,4.0,4.0,4.0,4.0,4.0,4.0,4.0,4.0,4.0,3.0,4.0,4.0,4.0,4.0,4.0,3.0,3.0,4.0,4.0,4.0,4.0,4.0,4.0,4.0,3.0,4.0,4.0,4.0,4.0,4.0,4.0,4.0,4.0,4.0,4.0,4.0,4.0,4.0,4.0,2.0,3.0,4.0,4.0,4.0,4.0,4.0,1.0,3.0,4.0,4.0,4.0,4.0,4.0,4.0,4.0,4.0,3.0,3.0,4.0,4.0,3.0,3.0,4.0,4.0,4.0,4.0,4.0,4.0,3.0,4.0,4.0,4.0,3.0,4.0,4.0,3.0,4.0,4.0,4.0,4.0,3.0,4.0,1.0,1.0,3.0,3.0,4.0,4.0,4.0,4.0,4.0,4.0,4.0,4.0,4.0,4.0,4.0,4.0,4.0,4.0,2.0,3.0,4.0,4.0,4.0,4.0,4.0,4.0,4.0,4.0,4.0,1.0,2.0,2.0,3.0,2.0,4.0,3.0,4.0,4.0,3.0,3.0,3.0,2.0,3.0,4.0,4.0,4.0,4.0,4.0,4.0,4.0,4.0,4.0,4.0,1.0,3.0,2.0,1.0,4.0,4.0,4.0,3.0,3.0,2.0,3.0,3.0,3.0,1.0,1.0,1.0,1.0,1.0,4.0,4.0,4.0,4.0,4.0,4.0,4.0,4.0,4.0,4.0,4.0,4.0,4.0,4.0,4.0,4.0,4.0,4.0,4.0,4.0,4.0,4.0,3.0,4.0,2.0,4.0,3.0,4.0,4.0,3.0,4.0,3.0,3.0,4.0,4.0,4.0,4.0,3.0,2.0,4.0,4.0,4.0,4.0,4.0,4.0,4.0,4.0,3.0,2.0,3.0,2.0,3.0,3.0,3.0,3.0,4.0,4.0,4.0,4.0,4.0,4.0,4.0,2.0,1.0,4.0,4.0,4.0,4.0,3.0,4.0,4.0,2.0,4.0,4.0,4.0,4.0,4.0,4.0,4.0,4.0,2.0,3.0,3.0,3.0,1.0,1.0,2.0,2.0,2.0,2.0,2.0,2.0,2.0,3.0,3.0,4.0,4.0,4.0,4.0,4.0,4.0,4.0,4.0,4.0,4.0,4.0,4.0,4.0,3.0,4.0,4.0,4.0,4.0,4.0,4.0,1.0,2.0,4.0,3.0,3.0,4.0,4.0,3.0,4.0,3.0,3.0,3.0,3.0,4.0,3.0,4.0,3.0,2.0,4.0,3.0,4.0,4.0,4.0,3.0,3.0,2.0,4.0,3.0,4.0,4.0,4.0,3.0,4.0,4.0,4.0,4.0,4.0,4.0,4.0,4.0,4.0,4.0,4.0,4.0,4.0,4.0,3.0,4.0,3.0,3.0,4.0,4.0,4.0,4.0,4.0,4.0,4.0,4.0,4.0,4.0,4.0,3.0,3.0,3.0,3.0,4.0,4.0,4.0,4.0,4.0,4.0,4.0,4.0,4.0,4.0,4.0,4.0,4.0,4.0,4.0,4.0,3.0,3.0,4.0,3.0,3.0,3.0,4.0,4.0,4.0,1.0,4.0,4.0,3.0,4.0,4.0,4.0,2.0,4.0,4.0,4.0,4.0,4.0,4.0,3.0,2.0,2.0,4.0,4.0,3.0,4.0,4.0,4.0,3.0,3.0,3.0,4.0,4.0,3.0,3.0,3.0,3.0,3.0,3.0,4.0,4.0,4.0,4.0,3.0,3.0,2.0,4.0,4.0,3.0,4.0,4.0,2.0,4.0,4.0,4.0,4.0,3.0,4.0,4.0,4.0,4.0,4.0,4.0,4.0,4.0,4.0,4.0,4.0,4.0,4.0,4.0,4.0,4.0,4.0,4.0,4.0,4.0,4.0,4.0,4.0,4.0,4.0,4.0,3.0,4.0,1.0,2.0,2.0,2.0,3.0,3.0,4.0,3.0,3.0,2.0,4.0,4.0,3.0,1.0,4.0,4.0,3.0,2.0,4.0,2.0,3.0,4.0,4.0,4.0,4.0,3.0,2.0,4.0,4.0,4.0,4.0,4.0,4.0,4.0,3.0,2.0,4.0,4.0,3.0,2.0,3.0,4.0,4.0,3.0,2.0,4.0,3.0,3.0,4.0,4.0,4.0,4.0,4.0,4.0,4.0,4.0,4.0,4.0,4.0,4.0,4.0,4.0,4.0,4.0,4.0,3.0,4.0,4.0,4.0,3.0,4.0,3.0,3.0,4.0,4.0,2.0,3.0,4.0,2.0,4.0,4.0,4.0,2.0,3.0,3.0,3.0,2.0,2.0,3.0,3.0,1.0,3.0,3.0,3.0,3.0,3.0,3.0,3.0,2.0,2.0,4.0,4.0,4.0,4.0,4.0,4.0,4.0,4.0,4.0,4.0,4.0,4.0,3.0,4.0,4.0,4.0,4.0,4.0,4.0,4.0,4.0,4.0,2.0,4.0,4.0,4.0,4.0,4.0,4.0,2.0,1.0,3.0,4.0,2.0,4.0,1.0,2.0,3.0,3.0,4.0,4.0,3.0,1.0,2.0,4.0,4.0,3.0,2.0,3.0,3.0,1.0,2.0,3.0,2.0,4.0,4.0,4.0,4.0,4.0,4.0,4.0,4.0,4.0,4.0,4.0,3.0,4.0,4.0,4.0,4.0,4.0,4.0,4.0,4.0,4.0,1.0,4.0,2.0,2.0,2.0,4.0,3.0,3.0,2.0,4.0,4.0,4.0,4.0,3.0,4.0,3.0,4.0,3.0,4.0,4.0,4.0,4.0,3.0,4.0,4.0,4.0,4.0,4.0,3.0,3.0,2.0,2.0,2.0,2.0,2.0,3.0,3.0,2.0,3.0,3.0,3.0,3.0,2.0,2.0,3.0,2.0,2.0,2.0,2.0,3.0,2.0,2.0,1.0,2.0,2.0,2.0,1.0,4.0,3.0,3.0,2.0,2.0,2.0,1.0,3.0,3.0,4.0,3.0,3.0,4.0,4.0,2.0,2.0,2.0,4.0,3.0,4.0,4.0,4.0,3.0,4.0,3.0,3.0,4.0,4.0,4.0,4.0,4.0,4.0,4.0,4.0,4.0,4.0,4.0,4.0,3.0,4.0,4.0,4.0,4.0,4.0,4.0,4.0,3.0,3.0,4.0,3.0,4.0,4.0,4.0,3.0,4.0,4.0,3.0,3.0,4.0,3.0,3.0,4.0,4.0,4.0,4.0,3.0,4.0,3.0,4.0,4.0,3.0,4.0,4.0],\"x0\":\" \",\"xaxis\":\"x\",\"y\":[10.0,10.0,10.0,10.0,10.0,10.0,9.0,10.0,10.0,8.0,6.0,4.0,4.0,7.0,10.0,10.0,10.0,7.0,5.0,10.0,10.0,10.0,9.0,10.0,7.0,10.0,7.0,9.0,10.0,10.0,10.0,10.0,7.0,10.0,10.0,10.0,10.0,7.0,10.0,8.0,8.0,8.0,9.0,8.0,10.0,9.0,6.0,7.0,10.0,10.0,6.0,9.0,10.0,10.0,7.0,10.0,10.0,7.0,8.0,1.0,10.0,10.0,10.0,9.0,10.0,8.0,10.0,9.0,10.0,8.0,10.0,10.0,9.0,10.0,10.0,10.0,10.0,8.0,8.0,8.0,8.0,9.0,9.0,9.0,9.0,9.0,9.0,9.0,10.0,10.0,10.0,10.0,10.0,10.0,10.0,10.0,10.0,10.0,8.0,10.0,10.0,10.0,10.0,10.0,10.0,10.0,10.0,8.0,9.0,10.0,8.0,8.0,8.0,8.0,8.0,9.0,9.0,10.0,9.0,9.0,10.0,10.0,10.0,10.0,10.0,10.0,10.0,10.0,10.0,10.0,8.0,10.0,10.0,10.0,10.0,10.0,10.0,10.0,10.0,10.0,10.0,10.0,9.0,10.0,10.0,7.0,10.0,10.0,10.0,10.0,10.0,5.0,10.0,9.0,10.0,9.0,9.0,10.0,10.0,10.0,10.0,10.0,9.0,8.0,10.0,9.0,9.0,7.0,10.0,7.0,10.0,10.0,9.0,10.0,8.0,8.0,8.0,10.0,9.0,9.0,9.0,9.0,10.0,10.0,6.0,10.0,10.0,10.0,9.0,10.0,10.0,6.0,7.0,10.0,9.0,5.0,5.0,7.0,8.0,10.0,10.0,10.0,10.0,10.0,10.0,8.0,8.0,10.0,10.0,10.0,10.0,10.0,10.0,10.0,10.0,10.0,10.0,9.0,8.0,10.0,5.0,10.0,7.0,10.0,10.0,10.0,10.0,10.0,10.0,9.0,9.0,10.0,10.0,10.0,10.0,10.0,10.0,10.0,10.0,10.0,10.0,8.0,9.0,9.0,8.0,8.0,10.0,9.0,8.0,8.0,8.0,8.0,10.0,9.0,8.0,8.0,8.0,8.0,8.0,10.0,10.0,10.0,10.0,9.0,10.0,9.0,9.0,10.0,10.0,7.0,10.0,8.0,8.0,8.0,8.0,5.0,10.0,10.0,10.0,10.0,10.0,10.0,10.0,8.0,10.0,10.0,10.0,10.0,10.0,10.0,7.0,10.0,10.0,8.0,9.0,10.0,8.0,6.0,10.0,10.0,10.0,10.0,8.0,7.0,8.0,10.0,7.0,6.0,6.0,8.0,7.0,10.0,8.0,10.0,9.0,10.0,10.0,10.0,10.0,10.0,10.0,8.0,8.0,6.0,10.0,10.0,10.0,8.0,10.0,10.0,9.0,9.0,8.0,9.0,8.0,10.0,10.0,10.0,10.0,10.0,8.0,8.0,9.0,8.0,8.0,9.0,9.0,9.0,7.0,8.0,8.0,8.0,9.0,10.0,8.0,8.0,8.0,10.0,10.0,10.0,10.0,10.0,5.0,10.0,10.0,10.0,7.0,9.0,10.0,10.0,10.0,9.0,10.0,6.0,7.0,5.0,6.0,10.0,10.0,10.0,10.0,10.0,10.0,10.0,9.0,10.0,10.0,10.0,10.0,10.0,10.0,10.0,10.0,9.0,10.0,10.0,9.0,6.0,6.0,5.0,9.0,10.0,10.0,10.0,9.0,5.0,10.0,10.0,10.0,10.0,10.0,10.0,9.0,10.0,9.0,10.0,9.0,9.0,10.0,9.0,8.0,8.0,7.0,8.0,10.0,10.0,10.0,5.0,3.0,10.0,10.0,10.0,9.0,10.0,8.0,9.0,10.0,10.0,9.0,10.0,10.0,10.0,10.0,10.0,10.0,10.0,10.0,10.0,10.0,8.0,9.0,10.0,8.0,7.0,8.0,8.0,8.0,7.0,9.0,9.0,8.0,9.0,9.0,8.0,10.0,10.0,10.0,10.0,10.0,9.0,10.0,10.0,10.0,10.0,10.0,10.0,8.0,10.0,10.0,10.0,10.0,10.0,10.0,10.0,10.0,10.0,10.0,10.0,10.0,10.0,10.0,10.0,8.0,10.0,8.0,8.0,10.0,8.0,10.0,10.0,8.0,6.0,10.0,8.0,10.0,10.0,10.0,9.0,10.0,9.0,5.0,10.0,6.0,8.0,10.0,8.0,10.0,10.0,10.0,10.0,10.0,10.0,10.0,10.0,10.0,10.0,6.0,10.0,10.0,10.0,10.0,10.0,10.0,10.0,10.0,10.0,10.0,8.0,10.0,10.0,9.0,10.0,9.0,10.0,10.0,8.0,8.0,10.0,10.0,10.0,10.0,10.0,10.0,10.0,10.0,9.0,10.0,7.0,6.0,7.0,9.0,6.0,9.0,8.0,10.0,10.0,10.0,10.0,10.0,10.0,8.0,7.0,10.0,10.0,10.0,8.0,10.0,7.0,5.0,7.0,8.0,7.0,6.0,6.0,7.0,6.0,4.0,8.0,8.0,10.0,7.0,9.0,10.0,10.0,10.0,10.0,9.0,10.0,10.0,10.0,10.0,10.0,10.0,10.0,10.0,10.0,10.0,10.0,10.0,9.0,10.0,10.0,7.0,10.0,8.0,7.0,9.0,7.0,10.0,6.0,10.0,10.0,2.0,9.0,9.0,8.0,8.0,7.0,6.0,7.0,6.0,6.0,6.0,6.0,6.0,7.0,5.0,7.0,7.0,7.0,7.0,6.0,8.0,8.0,10.0,10.0,10.0,10.0,10.0,10.0,10.0,10.0,10.0,10.0,9.0,10.0,10.0,10.0,10.0,10.0,10.0,10.0,10.0,10.0,10.0,7.0,7.0,10.0,10.0,8.0,10.0,10.0,8.0,10.0,8.0,7.0,10.0,8.0,10.0,8.0,10.0,10.0,8.0,5.0,10.0,8.0,5.0,5.0,10.0,10.0,10.0,7.0,7.0,10.0,10.0,10.0,10.0,7.0,10.0,10.0,10.0,10.0,10.0,8.0,10.0,10.0,10.0,10.0,10.0,7.0,10.0,10.0,10.0,9.0,8.0,10.0,8.0,9.0,8.0,6.0,7.0,8.0,10.0,10.0,9.0,9.0,9.0,7.0,5.0,10.0,10.0,10.0,10.0,10.0,10.0,10.0,10.0,10.0,10.0,7.0,10.0,10.0,10.0,10.0,10.0,8.0,10.0,4.0,5.0,6.0,4.0,4.0,5.0,4.0,3.0,6.0,4.0,4.0,5.0,5.0,5.0,3.0,5.0,5.0,3.0,4.0,3.0,7.0,10.0,7.0,10.0,7.0,6.0,7.0,7.0,7.0,10.0,8.0,10.0,10.0,9.0,8.0,8.0,8.0,6.0,8.0,8.0,8.0,8.0,9.0,6.0,8.0,9.0,10.0,10.0,10.0,3.0,6.0,7.0,6.0,10.0,10.0,10.0,10.0,10.0,10.0,10.0,10.0,10.0,10.0,10.0,10.0,10.0,10.0,10.0,10.0,10.0,10.0,10.0,10.0,9.0,10.0,10.0,8.0,10.0,9.0,10.0,10.0,10.0,10.0,10.0,9.0,9.0,9.0,10.0,9.0,10.0,10.0,6.0,9.0,10.0,10.0,9.0,10.0,7.0,9.0,7.0,10.0,10.0],\"y0\":\" \",\"yaxis\":\"y\",\"type\":\"box\"}],                        {\"template\":{\"data\":{\"histogram2dcontour\":[{\"type\":\"histogram2dcontour\",\"colorbar\":{\"outlinewidth\":0,\"ticks\":\"\"},\"colorscale\":[[0.0,\"#0d0887\"],[0.1111111111111111,\"#46039f\"],[0.2222222222222222,\"#7201a8\"],[0.3333333333333333,\"#9c179e\"],[0.4444444444444444,\"#bd3786\"],[0.5555555555555556,\"#d8576b\"],[0.6666666666666666,\"#ed7953\"],[0.7777777777777778,\"#fb9f3a\"],[0.8888888888888888,\"#fdca26\"],[1.0,\"#f0f921\"]]}],\"choropleth\":[{\"type\":\"choropleth\",\"colorbar\":{\"outlinewidth\":0,\"ticks\":\"\"}}],\"histogram2d\":[{\"type\":\"histogram2d\",\"colorbar\":{\"outlinewidth\":0,\"ticks\":\"\"},\"colorscale\":[[0.0,\"#0d0887\"],[0.1111111111111111,\"#46039f\"],[0.2222222222222222,\"#7201a8\"],[0.3333333333333333,\"#9c179e\"],[0.4444444444444444,\"#bd3786\"],[0.5555555555555556,\"#d8576b\"],[0.6666666666666666,\"#ed7953\"],[0.7777777777777778,\"#fb9f3a\"],[0.8888888888888888,\"#fdca26\"],[1.0,\"#f0f921\"]]}],\"heatmap\":[{\"type\":\"heatmap\",\"colorbar\":{\"outlinewidth\":0,\"ticks\":\"\"},\"colorscale\":[[0.0,\"#0d0887\"],[0.1111111111111111,\"#46039f\"],[0.2222222222222222,\"#7201a8\"],[0.3333333333333333,\"#9c179e\"],[0.4444444444444444,\"#bd3786\"],[0.5555555555555556,\"#d8576b\"],[0.6666666666666666,\"#ed7953\"],[0.7777777777777778,\"#fb9f3a\"],[0.8888888888888888,\"#fdca26\"],[1.0,\"#f0f921\"]]}],\"heatmapgl\":[{\"type\":\"heatmapgl\",\"colorbar\":{\"outlinewidth\":0,\"ticks\":\"\"},\"colorscale\":[[0.0,\"#0d0887\"],[0.1111111111111111,\"#46039f\"],[0.2222222222222222,\"#7201a8\"],[0.3333333333333333,\"#9c179e\"],[0.4444444444444444,\"#bd3786\"],[0.5555555555555556,\"#d8576b\"],[0.6666666666666666,\"#ed7953\"],[0.7777777777777778,\"#fb9f3a\"],[0.8888888888888888,\"#fdca26\"],[1.0,\"#f0f921\"]]}],\"contourcarpet\":[{\"type\":\"contourcarpet\",\"colorbar\":{\"outlinewidth\":0,\"ticks\":\"\"}}],\"contour\":[{\"type\":\"contour\",\"colorbar\":{\"outlinewidth\":0,\"ticks\":\"\"},\"colorscale\":[[0.0,\"#0d0887\"],[0.1111111111111111,\"#46039f\"],[0.2222222222222222,\"#7201a8\"],[0.3333333333333333,\"#9c179e\"],[0.4444444444444444,\"#bd3786\"],[0.5555555555555556,\"#d8576b\"],[0.6666666666666666,\"#ed7953\"],[0.7777777777777778,\"#fb9f3a\"],[0.8888888888888888,\"#fdca26\"],[1.0,\"#f0f921\"]]}],\"surface\":[{\"type\":\"surface\",\"colorbar\":{\"outlinewidth\":0,\"ticks\":\"\"},\"colorscale\":[[0.0,\"#0d0887\"],[0.1111111111111111,\"#46039f\"],[0.2222222222222222,\"#7201a8\"],[0.3333333333333333,\"#9c179e\"],[0.4444444444444444,\"#bd3786\"],[0.5555555555555556,\"#d8576b\"],[0.6666666666666666,\"#ed7953\"],[0.7777777777777778,\"#fb9f3a\"],[0.8888888888888888,\"#fdca26\"],[1.0,\"#f0f921\"]]}],\"mesh3d\":[{\"type\":\"mesh3d\",\"colorbar\":{\"outlinewidth\":0,\"ticks\":\"\"}}],\"scatter\":[{\"fillpattern\":{\"fillmode\":\"overlay\",\"size\":10,\"solidity\":0.2},\"type\":\"scatter\"}],\"parcoords\":[{\"type\":\"parcoords\",\"line\":{\"colorbar\":{\"outlinewidth\":0,\"ticks\":\"\"}}}],\"scatterpolargl\":[{\"type\":\"scatterpolargl\",\"marker\":{\"colorbar\":{\"outlinewidth\":0,\"ticks\":\"\"}}}],\"bar\":[{\"error_x\":{\"color\":\"#2a3f5f\"},\"error_y\":{\"color\":\"#2a3f5f\"},\"marker\":{\"line\":{\"color\":\"#E5ECF6\",\"width\":0.5},\"pattern\":{\"fillmode\":\"overlay\",\"size\":10,\"solidity\":0.2}},\"type\":\"bar\"}],\"scattergeo\":[{\"type\":\"scattergeo\",\"marker\":{\"colorbar\":{\"outlinewidth\":0,\"ticks\":\"\"}}}],\"scatterpolar\":[{\"type\":\"scatterpolar\",\"marker\":{\"colorbar\":{\"outlinewidth\":0,\"ticks\":\"\"}}}],\"histogram\":[{\"marker\":{\"pattern\":{\"fillmode\":\"overlay\",\"size\":10,\"solidity\":0.2}},\"type\":\"histogram\"}],\"scattergl\":[{\"type\":\"scattergl\",\"marker\":{\"colorbar\":{\"outlinewidth\":0,\"ticks\":\"\"}}}],\"scatter3d\":[{\"type\":\"scatter3d\",\"line\":{\"colorbar\":{\"outlinewidth\":0,\"ticks\":\"\"}},\"marker\":{\"colorbar\":{\"outlinewidth\":0,\"ticks\":\"\"}}}],\"scattermapbox\":[{\"type\":\"scattermapbox\",\"marker\":{\"colorbar\":{\"outlinewidth\":0,\"ticks\":\"\"}}}],\"scatterternary\":[{\"type\":\"scatterternary\",\"marker\":{\"colorbar\":{\"outlinewidth\":0,\"ticks\":\"\"}}}],\"scattercarpet\":[{\"type\":\"scattercarpet\",\"marker\":{\"colorbar\":{\"outlinewidth\":0,\"ticks\":\"\"}}}],\"carpet\":[{\"aaxis\":{\"endlinecolor\":\"#2a3f5f\",\"gridcolor\":\"white\",\"linecolor\":\"white\",\"minorgridcolor\":\"white\",\"startlinecolor\":\"#2a3f5f\"},\"baxis\":{\"endlinecolor\":\"#2a3f5f\",\"gridcolor\":\"white\",\"linecolor\":\"white\",\"minorgridcolor\":\"white\",\"startlinecolor\":\"#2a3f5f\"},\"type\":\"carpet\"}],\"table\":[{\"cells\":{\"fill\":{\"color\":\"#EBF0F8\"},\"line\":{\"color\":\"white\"}},\"header\":{\"fill\":{\"color\":\"#C8D4E3\"},\"line\":{\"color\":\"white\"}},\"type\":\"table\"}],\"barpolar\":[{\"marker\":{\"line\":{\"color\":\"#E5ECF6\",\"width\":0.5},\"pattern\":{\"fillmode\":\"overlay\",\"size\":10,\"solidity\":0.2}},\"type\":\"barpolar\"}],\"pie\":[{\"automargin\":true,\"type\":\"pie\"}]},\"layout\":{\"autotypenumbers\":\"strict\",\"colorway\":[\"#636efa\",\"#EF553B\",\"#00cc96\",\"#ab63fa\",\"#FFA15A\",\"#19d3f3\",\"#FF6692\",\"#B6E880\",\"#FF97FF\",\"#FECB52\"],\"font\":{\"color\":\"#2a3f5f\"},\"hovermode\":\"closest\",\"hoverlabel\":{\"align\":\"left\"},\"paper_bgcolor\":\"white\",\"plot_bgcolor\":\"#E5ECF6\",\"polar\":{\"bgcolor\":\"#E5ECF6\",\"angularaxis\":{\"gridcolor\":\"white\",\"linecolor\":\"white\",\"ticks\":\"\"},\"radialaxis\":{\"gridcolor\":\"white\",\"linecolor\":\"white\",\"ticks\":\"\"}},\"ternary\":{\"bgcolor\":\"#E5ECF6\",\"aaxis\":{\"gridcolor\":\"white\",\"linecolor\":\"white\",\"ticks\":\"\"},\"baxis\":{\"gridcolor\":\"white\",\"linecolor\":\"white\",\"ticks\":\"\"},\"caxis\":{\"gridcolor\":\"white\",\"linecolor\":\"white\",\"ticks\":\"\"}},\"coloraxis\":{\"colorbar\":{\"outlinewidth\":0,\"ticks\":\"\"}},\"colorscale\":{\"sequential\":[[0.0,\"#0d0887\"],[0.1111111111111111,\"#46039f\"],[0.2222222222222222,\"#7201a8\"],[0.3333333333333333,\"#9c179e\"],[0.4444444444444444,\"#bd3786\"],[0.5555555555555556,\"#d8576b\"],[0.6666666666666666,\"#ed7953\"],[0.7777777777777778,\"#fb9f3a\"],[0.8888888888888888,\"#fdca26\"],[1.0,\"#f0f921\"]],\"sequentialminus\":[[0.0,\"#0d0887\"],[0.1111111111111111,\"#46039f\"],[0.2222222222222222,\"#7201a8\"],[0.3333333333333333,\"#9c179e\"],[0.4444444444444444,\"#bd3786\"],[0.5555555555555556,\"#d8576b\"],[0.6666666666666666,\"#ed7953\"],[0.7777777777777778,\"#fb9f3a\"],[0.8888888888888888,\"#fdca26\"],[1.0,\"#f0f921\"]],\"diverging\":[[0,\"#8e0152\"],[0.1,\"#c51b7d\"],[0.2,\"#de77ae\"],[0.3,\"#f1b6da\"],[0.4,\"#fde0ef\"],[0.5,\"#f7f7f7\"],[0.6,\"#e6f5d0\"],[0.7,\"#b8e186\"],[0.8,\"#7fbc41\"],[0.9,\"#4d9221\"],[1,\"#276419\"]]},\"xaxis\":{\"gridcolor\":\"white\",\"linecolor\":\"white\",\"ticks\":\"\",\"title\":{\"standoff\":15},\"zerolinecolor\":\"white\",\"automargin\":true,\"zerolinewidth\":2},\"yaxis\":{\"gridcolor\":\"white\",\"linecolor\":\"white\",\"ticks\":\"\",\"title\":{\"standoff\":15},\"zerolinecolor\":\"white\",\"automargin\":true,\"zerolinewidth\":2},\"scene\":{\"xaxis\":{\"backgroundcolor\":\"#E5ECF6\",\"gridcolor\":\"white\",\"linecolor\":\"white\",\"showbackground\":true,\"ticks\":\"\",\"zerolinecolor\":\"white\",\"gridwidth\":2},\"yaxis\":{\"backgroundcolor\":\"#E5ECF6\",\"gridcolor\":\"white\",\"linecolor\":\"white\",\"showbackground\":true,\"ticks\":\"\",\"zerolinecolor\":\"white\",\"gridwidth\":2},\"zaxis\":{\"backgroundcolor\":\"#E5ECF6\",\"gridcolor\":\"white\",\"linecolor\":\"white\",\"showbackground\":true,\"ticks\":\"\",\"zerolinecolor\":\"white\",\"gridwidth\":2}},\"shapedefaults\":{\"line\":{\"color\":\"#2a3f5f\"}},\"annotationdefaults\":{\"arrowcolor\":\"#2a3f5f\",\"arrowhead\":0,\"arrowwidth\":1},\"geo\":{\"bgcolor\":\"white\",\"landcolor\":\"#E5ECF6\",\"subunitcolor\":\"white\",\"showland\":true,\"showlakes\":true,\"lakecolor\":\"white\"},\"title\":{\"x\":0.05},\"mapbox\":{\"style\":\"light\"}}},\"xaxis\":{\"anchor\":\"y\",\"domain\":[0.0,1.0],\"title\":{\"text\":\"Gobierno militar\"},\"categoryorder\":\"array\",\"categoryarray\":[1,2,3,4]},\"yaxis\":{\"anchor\":\"x\",\"domain\":[0.0,1.0],\"title\":{\"text\":\"Democracia\"},\"categoryorder\":\"array\",\"categoryarray\":[1,2,3,4,5,6,7,8,9,10]},\"legend\":{\"tracegroupgap\":0},\"title\":{\"text\":\"Democracia vs. Gobierno militar\"},\"boxmode\":\"group\"},                        {\"responsive\": true}                    ).then(function(){\n",
              "                            \n",
              "var gd = document.getElementById('07f214da-82fe-4c4f-8f31-5205134596fe');\n",
              "var x = new MutationObserver(function (mutations, observer) {{\n",
              "        var display = window.getComputedStyle(gd).display;\n",
              "        if (!display || display === 'none') {{\n",
              "            console.log([gd, 'removed!']);\n",
              "            Plotly.purge(gd);\n",
              "            observer.disconnect();\n",
              "        }}\n",
              "}});\n",
              "\n",
              "// Listen for the removal of the full notebook cells\n",
              "var notebookContainer = gd.closest('#notebook-container');\n",
              "if (notebookContainer) {{\n",
              "    x.observe(notebookContainer, {childList: true});\n",
              "}}\n",
              "\n",
              "// Listen for the clearing of the current output cell\n",
              "var outputEl = gd.closest('.output');\n",
              "if (outputEl) {{\n",
              "    x.observe(outputEl, {childList: true});\n",
              "}}\n",
              "\n",
              "                        })                };                            </script>        </div>\n",
              "</body>\n",
              "</html>"
            ]
          },
          "metadata": {}
        }
      ]
    },
    {
      "cell_type": "markdown",
      "source": [
        "Si agrupamos grupos de personas de acuerdon con su grado de aceptación de un posible gobierno militar, en el cual las personas del grupo 1 (army rule) consideran que sería muy buen gobierno, y las personas del grupo 4 (quienes consideran que sería muy malo) y sus valores intermedios, podemos ver que las personas que respondieron que el gobierno militar sería muy buen gobierno o simplemente un buen gobierno, tienen una mayor dispersión acerca de su concepción de la democracia. Mientras que quienes consideran que sería \"malo\" o \"muy malo\" tener un gobierno militar, concentran sus percepciones de la democracia como un sistema de gobierno totalmente importante."
      ],
      "metadata": {
        "id": "V90-nbfJXqfk"
      }
    },
    {
      "cell_type": "code",
      "source": [
        "# Crear el gráfico de cajas sin modificar los datos originales\n",
        "fig = px.box(df_limpio, x='Women_Man_EqualRights', y='Importance_Democracy', title='Géneros vs. Importancia de la democracia')\n",
        "\n",
        "# Mostrar el gráfico\n",
        "fig.show()"
      ],
      "metadata": {
        "colab": {
          "base_uri": "https://localhost:8080/",
          "height": 542
        },
        "id": "Ak6OFBfgz7xD",
        "outputId": "f4d5d754-17d9-4e34-ab30-6625eae03ca8"
      },
      "execution_count": null,
      "outputs": [
        {
          "output_type": "display_data",
          "data": {
            "text/html": [
              "<html>\n",
              "<head><meta charset=\"utf-8\" /></head>\n",
              "<body>\n",
              "    <div>            <script src=\"https://cdnjs.cloudflare.com/ajax/libs/mathjax/2.7.5/MathJax.js?config=TeX-AMS-MML_SVG\"></script><script type=\"text/javascript\">if (window.MathJax && window.MathJax.Hub && window.MathJax.Hub.Config) {window.MathJax.Hub.Config({SVG: {font: \"STIX-Web\"}});}</script>                <script type=\"text/javascript\">window.PlotlyConfig = {MathJaxConfig: 'local'};</script>\n",
              "        <script charset=\"utf-8\" src=\"https://cdn.plot.ly/plotly-2.24.1.min.js\"></script>                <div id=\"98196442-4c87-4591-9bae-bde4b5eec18b\" class=\"plotly-graph-div\" style=\"height:525px; width:100%;\"></div>            <script type=\"text/javascript\">                                    window.PLOTLYENV=window.PLOTLYENV || {};                                    if (document.getElementById(\"98196442-4c87-4591-9bae-bde4b5eec18b\")) {                    Plotly.newPlot(                        \"98196442-4c87-4591-9bae-bde4b5eec18b\",                        [{\"alignmentgroup\":\"True\",\"hovertemplate\":\"Women_Man_EqualRights=%{x}\\u003cbr\\u003eImportance_Democracy=%{y}\\u003cextra\\u003e\\u003c\\u002fextra\\u003e\",\"legendgroup\":\"\",\"marker\":{\"color\":\"#636efa\"},\"name\":\"\",\"notched\":false,\"offsetgroup\":\"\",\"orientation\":\"v\",\"showlegend\":false,\"x\":[10.0,10.0,10.0,10.0,10.0,10.0,10.0,10.0,10.0,8.0,8.0,6.0,7.0,6.0,10.0,10.0,8.0,5.0,10.0,10.0,7.0,10.0,6.0,10.0,7.0,10.0,9.0,10.0,10.0,10.0,10.0,10.0,8.0,5.0,10.0,6.0,6.0,7.0,10.0,10.0,10.0,10.0,10.0,8.0,10.0,10.0,10.0,8.0,10.0,10.0,9.0,10.0,10.0,10.0,10.0,10.0,10.0,10.0,10.0,10.0,10.0,10.0,10.0,5.0,5.0,5.0,10.0,8.0,10.0,10.0,9.0,10.0,10.0,10.0,10.0,10.0,10.0,10.0,10.0,10.0,10.0,10.0,9.0,10.0,10.0,10.0,10.0,10.0,9.0,10.0,10.0,10.0,10.0,10.0,10.0,8.0,10.0,10.0,9.0,10.0,10.0,5.0,10.0,10.0,10.0,10.0,10.0,10.0,10.0,10.0,10.0,10.0,10.0,10.0,10.0,10.0,9.0,8.0,10.0,10.0,10.0,10.0,10.0,10.0,10.0,10.0,10.0,10.0,10.0,10.0,7.0,5.0,10.0,4.0,10.0,10.0,10.0,10.0,9.0,10.0,10.0,10.0,10.0,10.0,10.0,5.0,10.0,6.0,6.0,8.0,9.0,10.0,10.0,10.0,10.0,10.0,4.0,5.0,10.0,10.0,10.0,10.0,9.0,9.0,10.0,10.0,10.0,9.0,10.0,10.0,10.0,10.0,9.0,10.0,10.0,9.0,8.0,10.0,10.0,10.0,8.0,10.0,10.0,10.0,5.0,10.0,10.0,10.0,5.0,10.0,10.0,7.0,5.0,8.0,9.0,9.0,9.0,9.0,10.0,6.0,10.0,7.0,9.0,10.0,10.0,10.0,10.0,1.0,10.0,10.0,10.0,10.0,10.0,10.0,10.0,10.0,10.0,8.0,7.0,7.0,9.0,6.0,10.0,10.0,9.0,7.0,10.0,6.0,5.0,7.0,10.0,10.0,10.0,10.0,10.0,10.0,10.0,9.0,10.0,10.0,7.0,9.0,9.0,8.0,9.0,9.0,10.0,9.0,9.0,9.0,9.0,10.0,10.0,10.0,9.0,9.0,9.0,10.0,8.0,10.0,10.0,10.0,10.0,9.0,10.0,9.0,10.0,10.0,9.0,8.0,5.0,10.0,10.0,9.0,9.0,9.0,10.0,10.0,10.0,10.0,10.0,10.0,10.0,10.0,9.0,6.0,10.0,6.0,8.0,10.0,9.0,10.0,10.0,9.0,10.0,10.0,10.0,6.0,10.0,10.0,10.0,10.0,5.0,5.0,10.0,8.0,3.0,8.0,9.0,8.0,9.0,10.0,10.0,10.0,8.0,9.0,10.0,10.0,10.0,10.0,7.0,8.0,7.0,10.0,10.0,10.0,10.0,10.0,10.0,10.0,10.0,7.0,8.0,9.0,10.0,10.0,10.0,10.0,5.0,10.0,10.0,10.0,10.0,8.0,9.0,10.0,9.0,8.0,9.0,8.0,8.0,8.0,10.0,10.0,10.0,10.0,10.0,10.0,10.0,10.0,10.0,10.0,10.0,10.0,10.0,10.0,8.0,10.0,10.0,10.0,10.0,10.0,8.0,7.0,6.0,8.0,8.0,10.0,10.0,10.0,9.0,10.0,9.0,8.0,9.0,10.0,9.0,8.0,8.0,10.0,8.0,10.0,10.0,10.0,10.0,5.0,10.0,5.0,7.0,5.0,4.0,10.0,9.0,9.0,8.0,5.0,9.0,4.0,10.0,5.0,10.0,10.0,9.0,10.0,10.0,9.0,10.0,10.0,10.0,9.0,7.0,8.0,7.0,9.0,8.0,10.0,8.0,2.0,6.0,10.0,10.0,10.0,10.0,10.0,5.0,10.0,6.0,7.0,7.0,8.0,7.0,10.0,10.0,10.0,10.0,1.0,10.0,10.0,10.0,9.0,5.0,7.0,7.0,9.0,8.0,10.0,9.0,10.0,8.0,5.0,5.0,10.0,10.0,10.0,10.0,10.0,10.0,10.0,10.0,10.0,10.0,10.0,10.0,10.0,10.0,10.0,8.0,10.0,8.0,6.0,10.0,10.0,10.0,8.0,10.0,10.0,10.0,10.0,10.0,10.0,10.0,8.0,8.0,10.0,9.0,10.0,7.0,8.0,6.0,10.0,10.0,10.0,10.0,9.0,10.0,10.0,10.0,9.0,9.0,9.0,9.0,10.0,9.0,10.0,4.0,9.0,9.0,10.0,9.0,10.0,10.0,10.0,9.0,10.0,10.0,9.0,10.0,10.0,10.0,2.0,1.0,10.0,10.0,10.0,1.0,10.0,10.0,10.0,1.0,10.0,8.0,10.0,7.0,10.0,9.0,6.0,2.0,8.0,3.0,1.0,5.0,5.0,10.0,10.0,10.0,10.0,10.0,9.0,5.0,4.0,9.0,10.0,10.0,10.0,10.0,8.0,9.0,10.0,9.0,8.0,5.0,10.0,10.0,8.0,10.0,8.0,9.0,7.0,7.0,5.0,3.0,5.0,7.0,8.0,6.0,5.0,6.0,9.0,9.0,5.0,6.0,9.0,10.0,7.0,7.0,4.0,4.0,10.0,8.0,10.0,9.0,8.0,10.0,10.0,10.0,10.0,10.0,10.0,8.0,7.0,7.0,9.0,6.0,10.0,8.0,4.0,10.0,10.0,10.0,10.0,10.0,9.0,4.0,9.0,10.0,10.0,7.0,8.0,9.0,6.0,9.0,9.0,6.0,10.0,8.0,8.0,6.0,9.0,8.0,6.0,8.0,6.0,7.0,7.0,10.0,10.0,8.0,10.0,10.0,9.0,10.0,10.0,7.0,10.0,8.0,10.0,10.0,10.0,10.0,9.0,10.0,8.0,10.0,10.0,10.0,10.0,10.0,10.0,10.0,9.0,10.0,10.0,10.0,10.0,10.0,9.0,10.0,9.0,10.0,10.0,10.0,10.0,2.0,5.0,6.0,4.0,10.0,7.0,10.0,1.0,10.0,4.0,7.0,10.0,10.0,4.0,5.0,7.0,10.0,10.0,10.0,10.0,10.0,10.0,10.0,10.0,10.0,10.0,10.0,10.0,10.0,10.0,10.0,10.0,10.0,10.0,10.0,10.0,10.0,10.0,10.0,6.0,8.0,10.0,10.0,10.0,10.0,8.0,10.0,10.0,9.0,9.0,10.0,10.0,10.0,10.0,10.0,9.0,10.0,5.0,10.0,10.0,10.0,10.0,10.0,8.0,8.0,4.0,6.0,5.0,5.0,5.0,5.0,5.0,5.0,6.0,4.0,6.0,5.0,6.0,5.0,4.0,6.0,6.0,5.0,8.0,4.0,5.0,8.0,7.0,8.0,8.0,7.0,7.0,6.0,8.0,5.0,7.0,6.0,6.0,7.0,6.0,8.0,10.0,10.0,10.0,10.0,10.0,10.0,10.0,10.0,6.0,9.0,10.0,10.0,10.0,10.0,9.0,7.0,8.0,8.0,7.0,10.0,10.0,10.0,10.0,10.0,10.0,10.0,10.0,10.0,10.0,10.0,10.0,9.0,5.0,10.0,10.0,9.0,10.0,10.0,10.0,8.0,8.0,10.0,8.0,10.0,10.0,8.0,8.0,8.0,7.0,8.0,10.0,9.0,9.0,10.0,10.0,8.0,9.0,8.0,5.0,8.0,10.0,8.0,8.0,9.0,10.0,10.0],\"x0\":\" \",\"xaxis\":\"x\",\"y\":[10.0,10.0,10.0,10.0,10.0,10.0,9.0,10.0,10.0,8.0,6.0,4.0,4.0,7.0,10.0,10.0,10.0,7.0,5.0,10.0,10.0,10.0,9.0,10.0,7.0,10.0,7.0,9.0,10.0,10.0,10.0,10.0,7.0,10.0,10.0,10.0,10.0,7.0,10.0,8.0,8.0,8.0,9.0,8.0,10.0,9.0,6.0,7.0,10.0,10.0,6.0,9.0,10.0,10.0,7.0,10.0,10.0,7.0,8.0,1.0,10.0,10.0,10.0,9.0,10.0,8.0,10.0,9.0,10.0,8.0,10.0,10.0,9.0,10.0,10.0,10.0,10.0,8.0,8.0,8.0,8.0,9.0,9.0,9.0,9.0,9.0,9.0,9.0,10.0,10.0,10.0,10.0,10.0,10.0,10.0,10.0,10.0,10.0,8.0,10.0,10.0,10.0,10.0,10.0,10.0,10.0,10.0,8.0,9.0,10.0,8.0,8.0,8.0,8.0,8.0,9.0,9.0,10.0,9.0,9.0,10.0,10.0,10.0,10.0,10.0,10.0,10.0,10.0,10.0,10.0,8.0,10.0,10.0,10.0,10.0,10.0,10.0,10.0,10.0,10.0,10.0,10.0,9.0,10.0,10.0,7.0,10.0,10.0,10.0,10.0,10.0,5.0,10.0,9.0,10.0,9.0,9.0,10.0,10.0,10.0,10.0,10.0,9.0,8.0,10.0,9.0,9.0,7.0,10.0,7.0,10.0,10.0,9.0,10.0,8.0,8.0,8.0,10.0,9.0,9.0,9.0,9.0,10.0,10.0,6.0,10.0,10.0,10.0,9.0,10.0,10.0,6.0,7.0,10.0,9.0,5.0,5.0,7.0,8.0,10.0,10.0,10.0,10.0,10.0,10.0,8.0,8.0,10.0,10.0,10.0,10.0,10.0,10.0,10.0,10.0,10.0,10.0,9.0,8.0,10.0,5.0,10.0,7.0,10.0,10.0,10.0,10.0,10.0,10.0,9.0,9.0,10.0,10.0,10.0,10.0,10.0,10.0,10.0,10.0,10.0,10.0,8.0,9.0,9.0,8.0,8.0,10.0,9.0,8.0,8.0,8.0,8.0,10.0,9.0,8.0,8.0,8.0,8.0,8.0,10.0,10.0,10.0,10.0,9.0,10.0,9.0,9.0,10.0,10.0,7.0,10.0,8.0,8.0,8.0,8.0,5.0,10.0,10.0,10.0,10.0,10.0,10.0,10.0,8.0,10.0,10.0,10.0,10.0,10.0,10.0,7.0,10.0,10.0,8.0,9.0,10.0,8.0,6.0,10.0,10.0,10.0,10.0,8.0,7.0,8.0,10.0,7.0,6.0,6.0,8.0,7.0,10.0,8.0,10.0,9.0,10.0,10.0,10.0,10.0,10.0,10.0,8.0,8.0,6.0,10.0,10.0,10.0,8.0,10.0,10.0,9.0,9.0,8.0,9.0,8.0,10.0,10.0,10.0,10.0,10.0,8.0,8.0,9.0,8.0,8.0,9.0,9.0,9.0,7.0,8.0,8.0,8.0,9.0,10.0,8.0,8.0,8.0,10.0,10.0,10.0,10.0,10.0,5.0,10.0,10.0,10.0,7.0,9.0,10.0,10.0,10.0,9.0,10.0,6.0,7.0,5.0,6.0,10.0,10.0,10.0,10.0,10.0,10.0,10.0,9.0,10.0,10.0,10.0,10.0,10.0,10.0,10.0,10.0,9.0,10.0,10.0,9.0,6.0,6.0,5.0,9.0,10.0,10.0,10.0,9.0,5.0,10.0,10.0,10.0,10.0,10.0,10.0,9.0,10.0,9.0,10.0,9.0,9.0,10.0,9.0,8.0,8.0,7.0,8.0,10.0,10.0,10.0,5.0,3.0,10.0,10.0,10.0,9.0,10.0,8.0,9.0,10.0,10.0,9.0,10.0,10.0,10.0,10.0,10.0,10.0,10.0,10.0,10.0,10.0,8.0,9.0,10.0,8.0,7.0,8.0,8.0,8.0,7.0,9.0,9.0,8.0,9.0,9.0,8.0,10.0,10.0,10.0,10.0,10.0,9.0,10.0,10.0,10.0,10.0,10.0,10.0,8.0,10.0,10.0,10.0,10.0,10.0,10.0,10.0,10.0,10.0,10.0,10.0,10.0,10.0,10.0,10.0,8.0,10.0,8.0,8.0,10.0,8.0,10.0,10.0,8.0,6.0,10.0,8.0,10.0,10.0,10.0,9.0,10.0,9.0,5.0,10.0,6.0,8.0,10.0,8.0,10.0,10.0,10.0,10.0,10.0,10.0,10.0,10.0,10.0,10.0,6.0,10.0,10.0,10.0,10.0,10.0,10.0,10.0,10.0,10.0,10.0,8.0,10.0,10.0,9.0,10.0,9.0,10.0,10.0,8.0,8.0,10.0,10.0,10.0,10.0,10.0,10.0,10.0,10.0,9.0,10.0,7.0,6.0,7.0,9.0,6.0,9.0,8.0,10.0,10.0,10.0,10.0,10.0,10.0,8.0,7.0,10.0,10.0,10.0,8.0,10.0,7.0,5.0,7.0,8.0,7.0,6.0,6.0,7.0,6.0,4.0,8.0,8.0,10.0,7.0,9.0,10.0,10.0,10.0,10.0,9.0,10.0,10.0,10.0,10.0,10.0,10.0,10.0,10.0,10.0,10.0,10.0,10.0,9.0,10.0,10.0,7.0,10.0,8.0,7.0,9.0,7.0,10.0,6.0,10.0,10.0,2.0,9.0,9.0,8.0,8.0,7.0,6.0,7.0,6.0,6.0,6.0,6.0,6.0,7.0,5.0,7.0,7.0,7.0,7.0,6.0,8.0,8.0,10.0,10.0,10.0,10.0,10.0,10.0,10.0,10.0,10.0,10.0,9.0,10.0,10.0,10.0,10.0,10.0,10.0,10.0,10.0,10.0,10.0,7.0,7.0,10.0,10.0,8.0,10.0,10.0,8.0,10.0,8.0,7.0,10.0,8.0,10.0,8.0,10.0,10.0,8.0,5.0,10.0,8.0,5.0,5.0,10.0,10.0,10.0,7.0,7.0,10.0,10.0,10.0,10.0,7.0,10.0,10.0,10.0,10.0,10.0,8.0,10.0,10.0,10.0,10.0,10.0,7.0,10.0,10.0,10.0,9.0,8.0,10.0,8.0,9.0,8.0,6.0,7.0,8.0,10.0,10.0,9.0,9.0,9.0,7.0,5.0,10.0,10.0,10.0,10.0,10.0,10.0,10.0,10.0,10.0,10.0,7.0,10.0,10.0,10.0,10.0,10.0,8.0,10.0,4.0,5.0,6.0,4.0,4.0,5.0,4.0,3.0,6.0,4.0,4.0,5.0,5.0,5.0,3.0,5.0,5.0,3.0,4.0,3.0,7.0,10.0,7.0,10.0,7.0,6.0,7.0,7.0,7.0,10.0,8.0,10.0,10.0,9.0,8.0,8.0,8.0,6.0,8.0,8.0,8.0,8.0,9.0,6.0,8.0,9.0,10.0,10.0,10.0,3.0,6.0,7.0,6.0,10.0,10.0,10.0,10.0,10.0,10.0,10.0,10.0,10.0,10.0,10.0,10.0,10.0,10.0,10.0,10.0,10.0,10.0,10.0,10.0,9.0,10.0,10.0,8.0,10.0,9.0,10.0,10.0,10.0,10.0,10.0,9.0,9.0,9.0,10.0,9.0,10.0,10.0,6.0,9.0,10.0,10.0,9.0,10.0,7.0,9.0,7.0,10.0,10.0],\"y0\":\" \",\"yaxis\":\"y\",\"type\":\"box\"}],                        {\"template\":{\"data\":{\"histogram2dcontour\":[{\"type\":\"histogram2dcontour\",\"colorbar\":{\"outlinewidth\":0,\"ticks\":\"\"},\"colorscale\":[[0.0,\"#0d0887\"],[0.1111111111111111,\"#46039f\"],[0.2222222222222222,\"#7201a8\"],[0.3333333333333333,\"#9c179e\"],[0.4444444444444444,\"#bd3786\"],[0.5555555555555556,\"#d8576b\"],[0.6666666666666666,\"#ed7953\"],[0.7777777777777778,\"#fb9f3a\"],[0.8888888888888888,\"#fdca26\"],[1.0,\"#f0f921\"]]}],\"choropleth\":[{\"type\":\"choropleth\",\"colorbar\":{\"outlinewidth\":0,\"ticks\":\"\"}}],\"histogram2d\":[{\"type\":\"histogram2d\",\"colorbar\":{\"outlinewidth\":0,\"ticks\":\"\"},\"colorscale\":[[0.0,\"#0d0887\"],[0.1111111111111111,\"#46039f\"],[0.2222222222222222,\"#7201a8\"],[0.3333333333333333,\"#9c179e\"],[0.4444444444444444,\"#bd3786\"],[0.5555555555555556,\"#d8576b\"],[0.6666666666666666,\"#ed7953\"],[0.7777777777777778,\"#fb9f3a\"],[0.8888888888888888,\"#fdca26\"],[1.0,\"#f0f921\"]]}],\"heatmap\":[{\"type\":\"heatmap\",\"colorbar\":{\"outlinewidth\":0,\"ticks\":\"\"},\"colorscale\":[[0.0,\"#0d0887\"],[0.1111111111111111,\"#46039f\"],[0.2222222222222222,\"#7201a8\"],[0.3333333333333333,\"#9c179e\"],[0.4444444444444444,\"#bd3786\"],[0.5555555555555556,\"#d8576b\"],[0.6666666666666666,\"#ed7953\"],[0.7777777777777778,\"#fb9f3a\"],[0.8888888888888888,\"#fdca26\"],[1.0,\"#f0f921\"]]}],\"heatmapgl\":[{\"type\":\"heatmapgl\",\"colorbar\":{\"outlinewidth\":0,\"ticks\":\"\"},\"colorscale\":[[0.0,\"#0d0887\"],[0.1111111111111111,\"#46039f\"],[0.2222222222222222,\"#7201a8\"],[0.3333333333333333,\"#9c179e\"],[0.4444444444444444,\"#bd3786\"],[0.5555555555555556,\"#d8576b\"],[0.6666666666666666,\"#ed7953\"],[0.7777777777777778,\"#fb9f3a\"],[0.8888888888888888,\"#fdca26\"],[1.0,\"#f0f921\"]]}],\"contourcarpet\":[{\"type\":\"contourcarpet\",\"colorbar\":{\"outlinewidth\":0,\"ticks\":\"\"}}],\"contour\":[{\"type\":\"contour\",\"colorbar\":{\"outlinewidth\":0,\"ticks\":\"\"},\"colorscale\":[[0.0,\"#0d0887\"],[0.1111111111111111,\"#46039f\"],[0.2222222222222222,\"#7201a8\"],[0.3333333333333333,\"#9c179e\"],[0.4444444444444444,\"#bd3786\"],[0.5555555555555556,\"#d8576b\"],[0.6666666666666666,\"#ed7953\"],[0.7777777777777778,\"#fb9f3a\"],[0.8888888888888888,\"#fdca26\"],[1.0,\"#f0f921\"]]}],\"surface\":[{\"type\":\"surface\",\"colorbar\":{\"outlinewidth\":0,\"ticks\":\"\"},\"colorscale\":[[0.0,\"#0d0887\"],[0.1111111111111111,\"#46039f\"],[0.2222222222222222,\"#7201a8\"],[0.3333333333333333,\"#9c179e\"],[0.4444444444444444,\"#bd3786\"],[0.5555555555555556,\"#d8576b\"],[0.6666666666666666,\"#ed7953\"],[0.7777777777777778,\"#fb9f3a\"],[0.8888888888888888,\"#fdca26\"],[1.0,\"#f0f921\"]]}],\"mesh3d\":[{\"type\":\"mesh3d\",\"colorbar\":{\"outlinewidth\":0,\"ticks\":\"\"}}],\"scatter\":[{\"fillpattern\":{\"fillmode\":\"overlay\",\"size\":10,\"solidity\":0.2},\"type\":\"scatter\"}],\"parcoords\":[{\"type\":\"parcoords\",\"line\":{\"colorbar\":{\"outlinewidth\":0,\"ticks\":\"\"}}}],\"scatterpolargl\":[{\"type\":\"scatterpolargl\",\"marker\":{\"colorbar\":{\"outlinewidth\":0,\"ticks\":\"\"}}}],\"bar\":[{\"error_x\":{\"color\":\"#2a3f5f\"},\"error_y\":{\"color\":\"#2a3f5f\"},\"marker\":{\"line\":{\"color\":\"#E5ECF6\",\"width\":0.5},\"pattern\":{\"fillmode\":\"overlay\",\"size\":10,\"solidity\":0.2}},\"type\":\"bar\"}],\"scattergeo\":[{\"type\":\"scattergeo\",\"marker\":{\"colorbar\":{\"outlinewidth\":0,\"ticks\":\"\"}}}],\"scatterpolar\":[{\"type\":\"scatterpolar\",\"marker\":{\"colorbar\":{\"outlinewidth\":0,\"ticks\":\"\"}}}],\"histogram\":[{\"marker\":{\"pattern\":{\"fillmode\":\"overlay\",\"size\":10,\"solidity\":0.2}},\"type\":\"histogram\"}],\"scattergl\":[{\"type\":\"scattergl\",\"marker\":{\"colorbar\":{\"outlinewidth\":0,\"ticks\":\"\"}}}],\"scatter3d\":[{\"type\":\"scatter3d\",\"line\":{\"colorbar\":{\"outlinewidth\":0,\"ticks\":\"\"}},\"marker\":{\"colorbar\":{\"outlinewidth\":0,\"ticks\":\"\"}}}],\"scattermapbox\":[{\"type\":\"scattermapbox\",\"marker\":{\"colorbar\":{\"outlinewidth\":0,\"ticks\":\"\"}}}],\"scatterternary\":[{\"type\":\"scatterternary\",\"marker\":{\"colorbar\":{\"outlinewidth\":0,\"ticks\":\"\"}}}],\"scattercarpet\":[{\"type\":\"scattercarpet\",\"marker\":{\"colorbar\":{\"outlinewidth\":0,\"ticks\":\"\"}}}],\"carpet\":[{\"aaxis\":{\"endlinecolor\":\"#2a3f5f\",\"gridcolor\":\"white\",\"linecolor\":\"white\",\"minorgridcolor\":\"white\",\"startlinecolor\":\"#2a3f5f\"},\"baxis\":{\"endlinecolor\":\"#2a3f5f\",\"gridcolor\":\"white\",\"linecolor\":\"white\",\"minorgridcolor\":\"white\",\"startlinecolor\":\"#2a3f5f\"},\"type\":\"carpet\"}],\"table\":[{\"cells\":{\"fill\":{\"color\":\"#EBF0F8\"},\"line\":{\"color\":\"white\"}},\"header\":{\"fill\":{\"color\":\"#C8D4E3\"},\"line\":{\"color\":\"white\"}},\"type\":\"table\"}],\"barpolar\":[{\"marker\":{\"line\":{\"color\":\"#E5ECF6\",\"width\":0.5},\"pattern\":{\"fillmode\":\"overlay\",\"size\":10,\"solidity\":0.2}},\"type\":\"barpolar\"}],\"pie\":[{\"automargin\":true,\"type\":\"pie\"}]},\"layout\":{\"autotypenumbers\":\"strict\",\"colorway\":[\"#636efa\",\"#EF553B\",\"#00cc96\",\"#ab63fa\",\"#FFA15A\",\"#19d3f3\",\"#FF6692\",\"#B6E880\",\"#FF97FF\",\"#FECB52\"],\"font\":{\"color\":\"#2a3f5f\"},\"hovermode\":\"closest\",\"hoverlabel\":{\"align\":\"left\"},\"paper_bgcolor\":\"white\",\"plot_bgcolor\":\"#E5ECF6\",\"polar\":{\"bgcolor\":\"#E5ECF6\",\"angularaxis\":{\"gridcolor\":\"white\",\"linecolor\":\"white\",\"ticks\":\"\"},\"radialaxis\":{\"gridcolor\":\"white\",\"linecolor\":\"white\",\"ticks\":\"\"}},\"ternary\":{\"bgcolor\":\"#E5ECF6\",\"aaxis\":{\"gridcolor\":\"white\",\"linecolor\":\"white\",\"ticks\":\"\"},\"baxis\":{\"gridcolor\":\"white\",\"linecolor\":\"white\",\"ticks\":\"\"},\"caxis\":{\"gridcolor\":\"white\",\"linecolor\":\"white\",\"ticks\":\"\"}},\"coloraxis\":{\"colorbar\":{\"outlinewidth\":0,\"ticks\":\"\"}},\"colorscale\":{\"sequential\":[[0.0,\"#0d0887\"],[0.1111111111111111,\"#46039f\"],[0.2222222222222222,\"#7201a8\"],[0.3333333333333333,\"#9c179e\"],[0.4444444444444444,\"#bd3786\"],[0.5555555555555556,\"#d8576b\"],[0.6666666666666666,\"#ed7953\"],[0.7777777777777778,\"#fb9f3a\"],[0.8888888888888888,\"#fdca26\"],[1.0,\"#f0f921\"]],\"sequentialminus\":[[0.0,\"#0d0887\"],[0.1111111111111111,\"#46039f\"],[0.2222222222222222,\"#7201a8\"],[0.3333333333333333,\"#9c179e\"],[0.4444444444444444,\"#bd3786\"],[0.5555555555555556,\"#d8576b\"],[0.6666666666666666,\"#ed7953\"],[0.7777777777777778,\"#fb9f3a\"],[0.8888888888888888,\"#fdca26\"],[1.0,\"#f0f921\"]],\"diverging\":[[0,\"#8e0152\"],[0.1,\"#c51b7d\"],[0.2,\"#de77ae\"],[0.3,\"#f1b6da\"],[0.4,\"#fde0ef\"],[0.5,\"#f7f7f7\"],[0.6,\"#e6f5d0\"],[0.7,\"#b8e186\"],[0.8,\"#7fbc41\"],[0.9,\"#4d9221\"],[1,\"#276419\"]]},\"xaxis\":{\"gridcolor\":\"white\",\"linecolor\":\"white\",\"ticks\":\"\",\"title\":{\"standoff\":15},\"zerolinecolor\":\"white\",\"automargin\":true,\"zerolinewidth\":2},\"yaxis\":{\"gridcolor\":\"white\",\"linecolor\":\"white\",\"ticks\":\"\",\"title\":{\"standoff\":15},\"zerolinecolor\":\"white\",\"automargin\":true,\"zerolinewidth\":2},\"scene\":{\"xaxis\":{\"backgroundcolor\":\"#E5ECF6\",\"gridcolor\":\"white\",\"linecolor\":\"white\",\"showbackground\":true,\"ticks\":\"\",\"zerolinecolor\":\"white\",\"gridwidth\":2},\"yaxis\":{\"backgroundcolor\":\"#E5ECF6\",\"gridcolor\":\"white\",\"linecolor\":\"white\",\"showbackground\":true,\"ticks\":\"\",\"zerolinecolor\":\"white\",\"gridwidth\":2},\"zaxis\":{\"backgroundcolor\":\"#E5ECF6\",\"gridcolor\":\"white\",\"linecolor\":\"white\",\"showbackground\":true,\"ticks\":\"\",\"zerolinecolor\":\"white\",\"gridwidth\":2}},\"shapedefaults\":{\"line\":{\"color\":\"#2a3f5f\"}},\"annotationdefaults\":{\"arrowcolor\":\"#2a3f5f\",\"arrowhead\":0,\"arrowwidth\":1},\"geo\":{\"bgcolor\":\"white\",\"landcolor\":\"#E5ECF6\",\"subunitcolor\":\"white\",\"showland\":true,\"showlakes\":true,\"lakecolor\":\"white\"},\"title\":{\"x\":0.05},\"mapbox\":{\"style\":\"light\"}}},\"xaxis\":{\"anchor\":\"y\",\"domain\":[0.0,1.0],\"title\":{\"text\":\"Women_Man_EqualRights\"}},\"yaxis\":{\"anchor\":\"x\",\"domain\":[0.0,1.0],\"title\":{\"text\":\"Importance_Democracy\"}},\"legend\":{\"tracegroupgap\":0},\"title\":{\"text\":\"G\\u00e9neros vs. Importancia de la democracia\"},\"boxmode\":\"group\"},                        {\"responsive\": true}                    ).then(function(){\n",
              "                            \n",
              "var gd = document.getElementById('98196442-4c87-4591-9bae-bde4b5eec18b');\n",
              "var x = new MutationObserver(function (mutations, observer) {{\n",
              "        var display = window.getComputedStyle(gd).display;\n",
              "        if (!display || display === 'none') {{\n",
              "            console.log([gd, 'removed!']);\n",
              "            Plotly.purge(gd);\n",
              "            observer.disconnect();\n",
              "        }}\n",
              "}});\n",
              "\n",
              "// Listen for the removal of the full notebook cells\n",
              "var notebookContainer = gd.closest('#notebook-container');\n",
              "if (notebookContainer) {{\n",
              "    x.observe(notebookContainer, {childList: true});\n",
              "}}\n",
              "\n",
              "// Listen for the clearing of the current output cell\n",
              "var outputEl = gd.closest('.output');\n",
              "if (outputEl) {{\n",
              "    x.observe(outputEl, {childList: true});\n",
              "}}\n",
              "\n",
              "                        })                };                            </script>        </div>\n",
              "</body>\n",
              "</html>"
            ]
          },
          "metadata": {}
        }
      ]
    },
    {
      "cell_type": "markdown",
      "source": [
        "Quienes comprenden la importancia de reconocer iguales derechos para ambos sexos, apoyan en un sentido mucho más homogéneo un régimen democrático. En contrapartida, quienes están en contra de la igualdad de género, tienen visiones más heterogéneas y dispersas de la democracia."
      ],
      "metadata": {
        "id": "FFzsUhCtz9qM"
      }
    },
    {
      "cell_type": "code",
      "source": [
        "# Crear el gráfico de cajas sin modificar los datos originales\n",
        "fig = px.box(df_limpio, x='Trust_leaders', y='Importance_Democracy', title='Elecciones libres y democracia',\n",
        "             category_orders={'Trust_leaders': [1, 2, 3, 4,5,6,7,8,9,10],\n",
        "                              'Importance_Democracy': [1, 2, 3, 4, 5, 6, 7, 8, 9, 10]},\n",
        "             labels={'Trust_leaders': 'Elecciones libres', 'Importance_Democracy': 'Democracia'})\n",
        "\n",
        "# Invertir el eje Y\n",
        "fig.update_yaxes(categoryorder='array', categoryarray=[1, 2, 3, 4, 5, 6, 7, 8, 9, 10])\n",
        "\n",
        "# Mostrar el gráfico\n",
        "fig.show()"
      ],
      "metadata": {
        "colab": {
          "base_uri": "https://localhost:8080/",
          "height": 542
        },
        "id": "b1JakL816FZc",
        "outputId": "6b5635b8-ae79-4d9b-b255-e0003e8eeb98"
      },
      "execution_count": null,
      "outputs": [
        {
          "output_type": "display_data",
          "data": {
            "text/html": [
              "<html>\n",
              "<head><meta charset=\"utf-8\" /></head>\n",
              "<body>\n",
              "    <div>            <script src=\"https://cdnjs.cloudflare.com/ajax/libs/mathjax/2.7.5/MathJax.js?config=TeX-AMS-MML_SVG\"></script><script type=\"text/javascript\">if (window.MathJax && window.MathJax.Hub && window.MathJax.Hub.Config) {window.MathJax.Hub.Config({SVG: {font: \"STIX-Web\"}});}</script>                <script type=\"text/javascript\">window.PlotlyConfig = {MathJaxConfig: 'local'};</script>\n",
              "        <script charset=\"utf-8\" src=\"https://cdn.plot.ly/plotly-2.24.1.min.js\"></script>                <div id=\"f2839cb9-17f9-47d6-96b5-f38f7ed23013\" class=\"plotly-graph-div\" style=\"height:525px; width:100%;\"></div>            <script type=\"text/javascript\">                                    window.PLOTLYENV=window.PLOTLYENV || {};                                    if (document.getElementById(\"f2839cb9-17f9-47d6-96b5-f38f7ed23013\")) {                    Plotly.newPlot(                        \"f2839cb9-17f9-47d6-96b5-f38f7ed23013\",                        [{\"alignmentgroup\":\"True\",\"hovertemplate\":\"Elecciones libres=%{x}\\u003cbr\\u003eDemocracia=%{y}\\u003cextra\\u003e\\u003c\\u002fextra\\u003e\",\"legendgroup\":\"\",\"marker\":{\"color\":\"#636efa\"},\"name\":\"\",\"notched\":false,\"offsetgroup\":\"\",\"orientation\":\"v\",\"showlegend\":false,\"x\":[10.0,10.0,10.0,10.0,10.0,10.0,10.0,10.0,10.0,9.0,9.0,6.0,5.0,6.0,10.0,10.0,1.0,4.0,7.0,7.0,10.0,9.0,10.0,7.0,6.0,10.0,1.0,10.0,10.0,10.0,10.0,10.0,5.0,4.0,10.0,6.0,6.0,6.0,10.0,10.0,10.0,10.0,10.0,10.0,10.0,10.0,9.0,9.0,10.0,8.0,8.0,10.0,10.0,10.0,9.0,10.0,10.0,10.0,10.0,10.0,10.0,10.0,10.0,10.0,10.0,10.0,10.0,9.0,10.0,5.0,10.0,10.0,10.0,9.0,10.0,10.0,10.0,10.0,10.0,10.0,10.0,10.0,9.0,9.0,8.0,10.0,10.0,10.0,9.0,10.0,10.0,10.0,10.0,10.0,9.0,8.0,10.0,8.0,10.0,10.0,10.0,10.0,10.0,10.0,10.0,9.0,10.0,9.0,10.0,10.0,9.0,10.0,9.0,10.0,10.0,9.0,8.0,9.0,9.0,8.0,10.0,10.0,10.0,10.0,10.0,10.0,10.0,10.0,10.0,10.0,9.0,10.0,10.0,10.0,10.0,9.0,10.0,10.0,10.0,8.0,10.0,8.0,10.0,10.0,10.0,9.0,10.0,10.0,10.0,10.0,10.0,10.0,10.0,10.0,10.0,10.0,7.0,10.0,9.0,8.0,10.0,10.0,6.0,9.0,9.0,4.0,9.0,9.0,9.0,10.0,10.0,9.0,10.0,10.0,10.0,8.0,10.0,9.0,10.0,9.0,10.0,10.0,10.0,10.0,10.0,10.0,10.0,10.0,10.0,8.0,10.0,9.0,10.0,8.0,10.0,3.0,9.0,10.0,10.0,10.0,10.0,10.0,10.0,10.0,10.0,1.0,10.0,8.0,10.0,10.0,10.0,10.0,10.0,10.0,10.0,10.0,10.0,4.0,7.0,8.0,9.0,5.0,8.0,10.0,8.0,8.0,10.0,10.0,8.0,9.0,10.0,10.0,10.0,10.0,10.0,9.0,10.0,10.0,10.0,10.0,10.0,9.0,9.0,8.0,8.0,9.0,10.0,10.0,9.0,9.0,2.0,10.0,10.0,9.0,9.0,8.0,8.0,8.0,7.0,10.0,10.0,10.0,10.0,9.0,9.0,10.0,10.0,10.0,5.0,8.0,5.0,9.0,10.0,7.0,7.0,6.0,10.0,10.0,10.0,6.0,10.0,10.0,10.0,5.0,7.0,4.0,8.0,10.0,7.0,10.0,10.0,10.0,10.0,9.0,10.0,9.0,9.0,9.0,10.0,10.0,10.0,10.0,7.0,6.0,10.0,9.0,4.0,6.0,9.0,9.0,4.0,10.0,10.0,10.0,10.0,10.0,10.0,10.0,8.0,10.0,10.0,9.0,7.0,10.0,10.0,10.0,10.0,10.0,10.0,10.0,8.0,10.0,8.0,10.0,9.0,10.0,10.0,10.0,10.0,10.0,9.0,8.0,9.0,4.0,5.0,9.0,9.0,6.0,4.0,8.0,8.0,8.0,9.0,10.0,10.0,10.0,10.0,10.0,10.0,10.0,10.0,10.0,7.0,10.0,10.0,10.0,8.0,10.0,10.0,10.0,10.0,10.0,5.0,8.0,5.0,6.0,9.0,10.0,8.0,10.0,10.0,10.0,10.0,10.0,9.0,10.0,10.0,10.0,8.0,10.0,9.0,10.0,10.0,10.0,10.0,10.0,10.0,5.0,10.0,2.0,4.0,6.0,7.0,10.0,10.0,3.0,6.0,7.0,10.0,9.0,10.0,10.0,10.0,10.0,10.0,10.0,10.0,10.0,10.0,8.0,7.0,4.0,6.0,8.0,10.0,8.0,10.0,8.0,8.0,10.0,10.0,10.0,10.0,10.0,10.0,10.0,5.0,10.0,5.0,6.0,2.0,10.0,1.0,10.0,10.0,10.0,10.0,10.0,10.0,5.0,4.0,5.0,5.0,9.0,8.0,10.0,10.0,10.0,9.0,9.0,8.0,10.0,10.0,10.0,9.0,5.0,10.0,10.0,10.0,10.0,10.0,10.0,10.0,10.0,10.0,10.0,9.0,10.0,7.0,7.0,10.0,10.0,10.0,9.0,10.0,10.0,10.0,8.0,10.0,10.0,10.0,10.0,10.0,8.0,6.0,10.0,8.0,8.0,6.0,7.0,10.0,5.0,10.0,8.0,10.0,8.0,10.0,10.0,10.0,10.0,9.0,10.0,7.0,10.0,9.0,10.0,9.0,10.0,10.0,10.0,10.0,10.0,9.0,10.0,10.0,9.0,10.0,10.0,10.0,9.0,1.0,10.0,10.0,9.0,1.0,10.0,10.0,4.0,10.0,10.0,8.0,10.0,10.0,10.0,10.0,8.0,8.0,10.0,10.0,10.0,10.0,10.0,10.0,10.0,10.0,10.0,10.0,6.0,10.0,7.0,9.0,10.0,10.0,10.0,10.0,5.0,5.0,10.0,9.0,9.0,5.0,10.0,10.0,8.0,9.0,9.0,10.0,5.0,6.0,4.0,5.0,5.0,6.0,7.0,7.0,8.0,7.0,2.0,7.0,3.0,4.0,9.0,10.0,10.0,10.0,10.0,10.0,10.0,10.0,10.0,10.0,9.0,10.0,10.0,9.0,10.0,9.0,10.0,9.0,8.0,7.0,8.0,7.0,5.0,6.0,10.0,3.0,10.0,10.0,9.0,10.0,3.0,9.0,9.0,10.0,9.0,10.0,4.0,8.0,8.0,8.0,6.0,6.0,9.0,8.0,7.0,8.0,9.0,10.0,7.0,7.0,9.0,9.0,5.0,10.0,10.0,10.0,10.0,10.0,9.0,10.0,10.0,10.0,10.0,10.0,10.0,10.0,10.0,10.0,10.0,10.0,10.0,10.0,10.0,10.0,10.0,5.0,10.0,10.0,9.0,8.0,1.0,10.0,10.0,5.0,9.0,10.0,9.0,10.0,10.0,7.0,1.0,10.0,5.0,6.0,8.0,10.0,7.0,8.0,1.0,10.0,7.0,3.0,10.0,10.0,4.0,8.0,9.0,10.0,10.0,10.0,10.0,10.0,10.0,10.0,10.0,10.0,10.0,10.0,10.0,10.0,10.0,10.0,10.0,10.0,10.0,10.0,10.0,10.0,6.0,8.0,9.0,9.0,8.0,1.0,10.0,10.0,10.0,10.0,10.0,9.0,8.0,10.0,10.0,10.0,10.0,10.0,10.0,5.0,5.0,10.0,10.0,8.0,10.0,9.0,10.0,7.0,6.0,7.0,6.0,6.0,5.0,6.0,7.0,5.0,6.0,4.0,7.0,7.0,6.0,5.0,4.0,5.0,6.0,7.0,7.0,6.0,7.0,6.0,8.0,7.0,6.0,6.0,5.0,8.0,8.0,6.0,5.0,7.0,5.0,5.0,5.0,7.0,10.0,10.0,10.0,10.0,10.0,10.0,10.0,10.0,5.0,5.0,10.0,10.0,10.0,1.0,9.0,8.0,8.0,5.0,9.0,10.0,10.0,10.0,10.0,10.0,10.0,10.0,10.0,10.0,10.0,10.0,10.0,10.0,5.0,10.0,10.0,9.0,10.0,9.0,10.0,10.0,10.0,5.0,4.0,9.0,8.0,8.0,9.0,9.0,9.0,9.0,10.0,9.0,9.0,9.0,9.0,10.0,9.0,9.0,10.0,9.0,9.0,9.0,10.0,10.0,10.0,10.0],\"x0\":\" \",\"xaxis\":\"x\",\"y\":[10.0,10.0,10.0,10.0,10.0,10.0,9.0,10.0,10.0,8.0,6.0,4.0,4.0,7.0,10.0,10.0,10.0,7.0,5.0,10.0,10.0,10.0,9.0,10.0,7.0,10.0,7.0,9.0,10.0,10.0,10.0,10.0,7.0,10.0,10.0,10.0,10.0,7.0,10.0,8.0,8.0,8.0,9.0,8.0,10.0,9.0,6.0,7.0,10.0,10.0,6.0,9.0,10.0,10.0,7.0,10.0,10.0,7.0,8.0,1.0,10.0,10.0,10.0,9.0,10.0,8.0,10.0,9.0,10.0,8.0,10.0,10.0,9.0,10.0,10.0,10.0,10.0,8.0,8.0,8.0,8.0,9.0,9.0,9.0,9.0,9.0,9.0,9.0,10.0,10.0,10.0,10.0,10.0,10.0,10.0,10.0,10.0,10.0,8.0,10.0,10.0,10.0,10.0,10.0,10.0,10.0,10.0,8.0,9.0,10.0,8.0,8.0,8.0,8.0,8.0,9.0,9.0,10.0,9.0,9.0,10.0,10.0,10.0,10.0,10.0,10.0,10.0,10.0,10.0,10.0,8.0,10.0,10.0,10.0,10.0,10.0,10.0,10.0,10.0,10.0,10.0,10.0,9.0,10.0,10.0,7.0,10.0,10.0,10.0,10.0,10.0,5.0,10.0,9.0,10.0,9.0,9.0,10.0,10.0,10.0,10.0,10.0,9.0,8.0,10.0,9.0,9.0,7.0,10.0,7.0,10.0,10.0,9.0,10.0,8.0,8.0,8.0,10.0,9.0,9.0,9.0,9.0,10.0,10.0,6.0,10.0,10.0,10.0,9.0,10.0,10.0,6.0,7.0,10.0,9.0,5.0,5.0,7.0,8.0,10.0,10.0,10.0,10.0,10.0,10.0,8.0,8.0,10.0,10.0,10.0,10.0,10.0,10.0,10.0,10.0,10.0,10.0,9.0,8.0,10.0,5.0,10.0,7.0,10.0,10.0,10.0,10.0,10.0,10.0,9.0,9.0,10.0,10.0,10.0,10.0,10.0,10.0,10.0,10.0,10.0,10.0,8.0,9.0,9.0,8.0,8.0,10.0,9.0,8.0,8.0,8.0,8.0,10.0,9.0,8.0,8.0,8.0,8.0,8.0,10.0,10.0,10.0,10.0,9.0,10.0,9.0,9.0,10.0,10.0,7.0,10.0,8.0,8.0,8.0,8.0,5.0,10.0,10.0,10.0,10.0,10.0,10.0,10.0,8.0,10.0,10.0,10.0,10.0,10.0,10.0,7.0,10.0,10.0,8.0,9.0,10.0,8.0,6.0,10.0,10.0,10.0,10.0,8.0,7.0,8.0,10.0,7.0,6.0,6.0,8.0,7.0,10.0,8.0,10.0,9.0,10.0,10.0,10.0,10.0,10.0,10.0,8.0,8.0,6.0,10.0,10.0,10.0,8.0,10.0,10.0,9.0,9.0,8.0,9.0,8.0,10.0,10.0,10.0,10.0,10.0,8.0,8.0,9.0,8.0,8.0,9.0,9.0,9.0,7.0,8.0,8.0,8.0,9.0,10.0,8.0,8.0,8.0,10.0,10.0,10.0,10.0,10.0,5.0,10.0,10.0,10.0,7.0,9.0,10.0,10.0,10.0,9.0,10.0,6.0,7.0,5.0,6.0,10.0,10.0,10.0,10.0,10.0,10.0,10.0,9.0,10.0,10.0,10.0,10.0,10.0,10.0,10.0,10.0,9.0,10.0,10.0,9.0,6.0,6.0,5.0,9.0,10.0,10.0,10.0,9.0,5.0,10.0,10.0,10.0,10.0,10.0,10.0,9.0,10.0,9.0,10.0,9.0,9.0,10.0,9.0,8.0,8.0,7.0,8.0,10.0,10.0,10.0,5.0,3.0,10.0,10.0,10.0,9.0,10.0,8.0,9.0,10.0,10.0,9.0,10.0,10.0,10.0,10.0,10.0,10.0,10.0,10.0,10.0,10.0,8.0,9.0,10.0,8.0,7.0,8.0,8.0,8.0,7.0,9.0,9.0,8.0,9.0,9.0,8.0,10.0,10.0,10.0,10.0,10.0,9.0,10.0,10.0,10.0,10.0,10.0,10.0,8.0,10.0,10.0,10.0,10.0,10.0,10.0,10.0,10.0,10.0,10.0,10.0,10.0,10.0,10.0,10.0,8.0,10.0,8.0,8.0,10.0,8.0,10.0,10.0,8.0,6.0,10.0,8.0,10.0,10.0,10.0,9.0,10.0,9.0,5.0,10.0,6.0,8.0,10.0,8.0,10.0,10.0,10.0,10.0,10.0,10.0,10.0,10.0,10.0,10.0,6.0,10.0,10.0,10.0,10.0,10.0,10.0,10.0,10.0,10.0,10.0,8.0,10.0,10.0,9.0,10.0,9.0,10.0,10.0,8.0,8.0,10.0,10.0,10.0,10.0,10.0,10.0,10.0,10.0,9.0,10.0,7.0,6.0,7.0,9.0,6.0,9.0,8.0,10.0,10.0,10.0,10.0,10.0,10.0,8.0,7.0,10.0,10.0,10.0,8.0,10.0,7.0,5.0,7.0,8.0,7.0,6.0,6.0,7.0,6.0,4.0,8.0,8.0,10.0,7.0,9.0,10.0,10.0,10.0,10.0,9.0,10.0,10.0,10.0,10.0,10.0,10.0,10.0,10.0,10.0,10.0,10.0,10.0,9.0,10.0,10.0,7.0,10.0,8.0,7.0,9.0,7.0,10.0,6.0,10.0,10.0,2.0,9.0,9.0,8.0,8.0,7.0,6.0,7.0,6.0,6.0,6.0,6.0,6.0,7.0,5.0,7.0,7.0,7.0,7.0,6.0,8.0,8.0,10.0,10.0,10.0,10.0,10.0,10.0,10.0,10.0,10.0,10.0,9.0,10.0,10.0,10.0,10.0,10.0,10.0,10.0,10.0,10.0,10.0,7.0,7.0,10.0,10.0,8.0,10.0,10.0,8.0,10.0,8.0,7.0,10.0,8.0,10.0,8.0,10.0,10.0,8.0,5.0,10.0,8.0,5.0,5.0,10.0,10.0,10.0,7.0,7.0,10.0,10.0,10.0,10.0,7.0,10.0,10.0,10.0,10.0,10.0,8.0,10.0,10.0,10.0,10.0,10.0,7.0,10.0,10.0,10.0,9.0,8.0,10.0,8.0,9.0,8.0,6.0,7.0,8.0,10.0,10.0,9.0,9.0,9.0,7.0,5.0,10.0,10.0,10.0,10.0,10.0,10.0,10.0,10.0,10.0,10.0,7.0,10.0,10.0,10.0,10.0,10.0,8.0,10.0,4.0,5.0,6.0,4.0,4.0,5.0,4.0,3.0,6.0,4.0,4.0,5.0,5.0,5.0,3.0,5.0,5.0,3.0,4.0,3.0,7.0,10.0,7.0,10.0,7.0,6.0,7.0,7.0,7.0,10.0,8.0,10.0,10.0,9.0,8.0,8.0,8.0,6.0,8.0,8.0,8.0,8.0,9.0,6.0,8.0,9.0,10.0,10.0,10.0,3.0,6.0,7.0,6.0,10.0,10.0,10.0,10.0,10.0,10.0,10.0,10.0,10.0,10.0,10.0,10.0,10.0,10.0,10.0,10.0,10.0,10.0,10.0,10.0,9.0,10.0,10.0,8.0,10.0,9.0,10.0,10.0,10.0,10.0,10.0,9.0,9.0,9.0,10.0,9.0,10.0,10.0,6.0,9.0,10.0,10.0,9.0,10.0,7.0,9.0,7.0,10.0,10.0],\"y0\":\" \",\"yaxis\":\"y\",\"type\":\"box\"}],                        {\"template\":{\"data\":{\"histogram2dcontour\":[{\"type\":\"histogram2dcontour\",\"colorbar\":{\"outlinewidth\":0,\"ticks\":\"\"},\"colorscale\":[[0.0,\"#0d0887\"],[0.1111111111111111,\"#46039f\"],[0.2222222222222222,\"#7201a8\"],[0.3333333333333333,\"#9c179e\"],[0.4444444444444444,\"#bd3786\"],[0.5555555555555556,\"#d8576b\"],[0.6666666666666666,\"#ed7953\"],[0.7777777777777778,\"#fb9f3a\"],[0.8888888888888888,\"#fdca26\"],[1.0,\"#f0f921\"]]}],\"choropleth\":[{\"type\":\"choropleth\",\"colorbar\":{\"outlinewidth\":0,\"ticks\":\"\"}}],\"histogram2d\":[{\"type\":\"histogram2d\",\"colorbar\":{\"outlinewidth\":0,\"ticks\":\"\"},\"colorscale\":[[0.0,\"#0d0887\"],[0.1111111111111111,\"#46039f\"],[0.2222222222222222,\"#7201a8\"],[0.3333333333333333,\"#9c179e\"],[0.4444444444444444,\"#bd3786\"],[0.5555555555555556,\"#d8576b\"],[0.6666666666666666,\"#ed7953\"],[0.7777777777777778,\"#fb9f3a\"],[0.8888888888888888,\"#fdca26\"],[1.0,\"#f0f921\"]]}],\"heatmap\":[{\"type\":\"heatmap\",\"colorbar\":{\"outlinewidth\":0,\"ticks\":\"\"},\"colorscale\":[[0.0,\"#0d0887\"],[0.1111111111111111,\"#46039f\"],[0.2222222222222222,\"#7201a8\"],[0.3333333333333333,\"#9c179e\"],[0.4444444444444444,\"#bd3786\"],[0.5555555555555556,\"#d8576b\"],[0.6666666666666666,\"#ed7953\"],[0.7777777777777778,\"#fb9f3a\"],[0.8888888888888888,\"#fdca26\"],[1.0,\"#f0f921\"]]}],\"heatmapgl\":[{\"type\":\"heatmapgl\",\"colorbar\":{\"outlinewidth\":0,\"ticks\":\"\"},\"colorscale\":[[0.0,\"#0d0887\"],[0.1111111111111111,\"#46039f\"],[0.2222222222222222,\"#7201a8\"],[0.3333333333333333,\"#9c179e\"],[0.4444444444444444,\"#bd3786\"],[0.5555555555555556,\"#d8576b\"],[0.6666666666666666,\"#ed7953\"],[0.7777777777777778,\"#fb9f3a\"],[0.8888888888888888,\"#fdca26\"],[1.0,\"#f0f921\"]]}],\"contourcarpet\":[{\"type\":\"contourcarpet\",\"colorbar\":{\"outlinewidth\":0,\"ticks\":\"\"}}],\"contour\":[{\"type\":\"contour\",\"colorbar\":{\"outlinewidth\":0,\"ticks\":\"\"},\"colorscale\":[[0.0,\"#0d0887\"],[0.1111111111111111,\"#46039f\"],[0.2222222222222222,\"#7201a8\"],[0.3333333333333333,\"#9c179e\"],[0.4444444444444444,\"#bd3786\"],[0.5555555555555556,\"#d8576b\"],[0.6666666666666666,\"#ed7953\"],[0.7777777777777778,\"#fb9f3a\"],[0.8888888888888888,\"#fdca26\"],[1.0,\"#f0f921\"]]}],\"surface\":[{\"type\":\"surface\",\"colorbar\":{\"outlinewidth\":0,\"ticks\":\"\"},\"colorscale\":[[0.0,\"#0d0887\"],[0.1111111111111111,\"#46039f\"],[0.2222222222222222,\"#7201a8\"],[0.3333333333333333,\"#9c179e\"],[0.4444444444444444,\"#bd3786\"],[0.5555555555555556,\"#d8576b\"],[0.6666666666666666,\"#ed7953\"],[0.7777777777777778,\"#fb9f3a\"],[0.8888888888888888,\"#fdca26\"],[1.0,\"#f0f921\"]]}],\"mesh3d\":[{\"type\":\"mesh3d\",\"colorbar\":{\"outlinewidth\":0,\"ticks\":\"\"}}],\"scatter\":[{\"fillpattern\":{\"fillmode\":\"overlay\",\"size\":10,\"solidity\":0.2},\"type\":\"scatter\"}],\"parcoords\":[{\"type\":\"parcoords\",\"line\":{\"colorbar\":{\"outlinewidth\":0,\"ticks\":\"\"}}}],\"scatterpolargl\":[{\"type\":\"scatterpolargl\",\"marker\":{\"colorbar\":{\"outlinewidth\":0,\"ticks\":\"\"}}}],\"bar\":[{\"error_x\":{\"color\":\"#2a3f5f\"},\"error_y\":{\"color\":\"#2a3f5f\"},\"marker\":{\"line\":{\"color\":\"#E5ECF6\",\"width\":0.5},\"pattern\":{\"fillmode\":\"overlay\",\"size\":10,\"solidity\":0.2}},\"type\":\"bar\"}],\"scattergeo\":[{\"type\":\"scattergeo\",\"marker\":{\"colorbar\":{\"outlinewidth\":0,\"ticks\":\"\"}}}],\"scatterpolar\":[{\"type\":\"scatterpolar\",\"marker\":{\"colorbar\":{\"outlinewidth\":0,\"ticks\":\"\"}}}],\"histogram\":[{\"marker\":{\"pattern\":{\"fillmode\":\"overlay\",\"size\":10,\"solidity\":0.2}},\"type\":\"histogram\"}],\"scattergl\":[{\"type\":\"scattergl\",\"marker\":{\"colorbar\":{\"outlinewidth\":0,\"ticks\":\"\"}}}],\"scatter3d\":[{\"type\":\"scatter3d\",\"line\":{\"colorbar\":{\"outlinewidth\":0,\"ticks\":\"\"}},\"marker\":{\"colorbar\":{\"outlinewidth\":0,\"ticks\":\"\"}}}],\"scattermapbox\":[{\"type\":\"scattermapbox\",\"marker\":{\"colorbar\":{\"outlinewidth\":0,\"ticks\":\"\"}}}],\"scatterternary\":[{\"type\":\"scatterternary\",\"marker\":{\"colorbar\":{\"outlinewidth\":0,\"ticks\":\"\"}}}],\"scattercarpet\":[{\"type\":\"scattercarpet\",\"marker\":{\"colorbar\":{\"outlinewidth\":0,\"ticks\":\"\"}}}],\"carpet\":[{\"aaxis\":{\"endlinecolor\":\"#2a3f5f\",\"gridcolor\":\"white\",\"linecolor\":\"white\",\"minorgridcolor\":\"white\",\"startlinecolor\":\"#2a3f5f\"},\"baxis\":{\"endlinecolor\":\"#2a3f5f\",\"gridcolor\":\"white\",\"linecolor\":\"white\",\"minorgridcolor\":\"white\",\"startlinecolor\":\"#2a3f5f\"},\"type\":\"carpet\"}],\"table\":[{\"cells\":{\"fill\":{\"color\":\"#EBF0F8\"},\"line\":{\"color\":\"white\"}},\"header\":{\"fill\":{\"color\":\"#C8D4E3\"},\"line\":{\"color\":\"white\"}},\"type\":\"table\"}],\"barpolar\":[{\"marker\":{\"line\":{\"color\":\"#E5ECF6\",\"width\":0.5},\"pattern\":{\"fillmode\":\"overlay\",\"size\":10,\"solidity\":0.2}},\"type\":\"barpolar\"}],\"pie\":[{\"automargin\":true,\"type\":\"pie\"}]},\"layout\":{\"autotypenumbers\":\"strict\",\"colorway\":[\"#636efa\",\"#EF553B\",\"#00cc96\",\"#ab63fa\",\"#FFA15A\",\"#19d3f3\",\"#FF6692\",\"#B6E880\",\"#FF97FF\",\"#FECB52\"],\"font\":{\"color\":\"#2a3f5f\"},\"hovermode\":\"closest\",\"hoverlabel\":{\"align\":\"left\"},\"paper_bgcolor\":\"white\",\"plot_bgcolor\":\"#E5ECF6\",\"polar\":{\"bgcolor\":\"#E5ECF6\",\"angularaxis\":{\"gridcolor\":\"white\",\"linecolor\":\"white\",\"ticks\":\"\"},\"radialaxis\":{\"gridcolor\":\"white\",\"linecolor\":\"white\",\"ticks\":\"\"}},\"ternary\":{\"bgcolor\":\"#E5ECF6\",\"aaxis\":{\"gridcolor\":\"white\",\"linecolor\":\"white\",\"ticks\":\"\"},\"baxis\":{\"gridcolor\":\"white\",\"linecolor\":\"white\",\"ticks\":\"\"},\"caxis\":{\"gridcolor\":\"white\",\"linecolor\":\"white\",\"ticks\":\"\"}},\"coloraxis\":{\"colorbar\":{\"outlinewidth\":0,\"ticks\":\"\"}},\"colorscale\":{\"sequential\":[[0.0,\"#0d0887\"],[0.1111111111111111,\"#46039f\"],[0.2222222222222222,\"#7201a8\"],[0.3333333333333333,\"#9c179e\"],[0.4444444444444444,\"#bd3786\"],[0.5555555555555556,\"#d8576b\"],[0.6666666666666666,\"#ed7953\"],[0.7777777777777778,\"#fb9f3a\"],[0.8888888888888888,\"#fdca26\"],[1.0,\"#f0f921\"]],\"sequentialminus\":[[0.0,\"#0d0887\"],[0.1111111111111111,\"#46039f\"],[0.2222222222222222,\"#7201a8\"],[0.3333333333333333,\"#9c179e\"],[0.4444444444444444,\"#bd3786\"],[0.5555555555555556,\"#d8576b\"],[0.6666666666666666,\"#ed7953\"],[0.7777777777777778,\"#fb9f3a\"],[0.8888888888888888,\"#fdca26\"],[1.0,\"#f0f921\"]],\"diverging\":[[0,\"#8e0152\"],[0.1,\"#c51b7d\"],[0.2,\"#de77ae\"],[0.3,\"#f1b6da\"],[0.4,\"#fde0ef\"],[0.5,\"#f7f7f7\"],[0.6,\"#e6f5d0\"],[0.7,\"#b8e186\"],[0.8,\"#7fbc41\"],[0.9,\"#4d9221\"],[1,\"#276419\"]]},\"xaxis\":{\"gridcolor\":\"white\",\"linecolor\":\"white\",\"ticks\":\"\",\"title\":{\"standoff\":15},\"zerolinecolor\":\"white\",\"automargin\":true,\"zerolinewidth\":2},\"yaxis\":{\"gridcolor\":\"white\",\"linecolor\":\"white\",\"ticks\":\"\",\"title\":{\"standoff\":15},\"zerolinecolor\":\"white\",\"automargin\":true,\"zerolinewidth\":2},\"scene\":{\"xaxis\":{\"backgroundcolor\":\"#E5ECF6\",\"gridcolor\":\"white\",\"linecolor\":\"white\",\"showbackground\":true,\"ticks\":\"\",\"zerolinecolor\":\"white\",\"gridwidth\":2},\"yaxis\":{\"backgroundcolor\":\"#E5ECF6\",\"gridcolor\":\"white\",\"linecolor\":\"white\",\"showbackground\":true,\"ticks\":\"\",\"zerolinecolor\":\"white\",\"gridwidth\":2},\"zaxis\":{\"backgroundcolor\":\"#E5ECF6\",\"gridcolor\":\"white\",\"linecolor\":\"white\",\"showbackground\":true,\"ticks\":\"\",\"zerolinecolor\":\"white\",\"gridwidth\":2}},\"shapedefaults\":{\"line\":{\"color\":\"#2a3f5f\"}},\"annotationdefaults\":{\"arrowcolor\":\"#2a3f5f\",\"arrowhead\":0,\"arrowwidth\":1},\"geo\":{\"bgcolor\":\"white\",\"landcolor\":\"#E5ECF6\",\"subunitcolor\":\"white\",\"showland\":true,\"showlakes\":true,\"lakecolor\":\"white\"},\"title\":{\"x\":0.05},\"mapbox\":{\"style\":\"light\"}}},\"xaxis\":{\"anchor\":\"y\",\"domain\":[0.0,1.0],\"title\":{\"text\":\"Elecciones libres\"},\"categoryorder\":\"array\",\"categoryarray\":[1,2,3,4,5,6,7,8,9,10]},\"yaxis\":{\"anchor\":\"x\",\"domain\":[0.0,1.0],\"title\":{\"text\":\"Democracia\"},\"categoryorder\":\"array\",\"categoryarray\":[1,2,3,4,5,6,7,8,9,10]},\"legend\":{\"tracegroupgap\":0},\"title\":{\"text\":\"Elecciones libres y democracia\"},\"boxmode\":\"group\"},                        {\"responsive\": true}                    ).then(function(){\n",
              "                            \n",
              "var gd = document.getElementById('f2839cb9-17f9-47d6-96b5-f38f7ed23013');\n",
              "var x = new MutationObserver(function (mutations, observer) {{\n",
              "        var display = window.getComputedStyle(gd).display;\n",
              "        if (!display || display === 'none') {{\n",
              "            console.log([gd, 'removed!']);\n",
              "            Plotly.purge(gd);\n",
              "            observer.disconnect();\n",
              "        }}\n",
              "}});\n",
              "\n",
              "// Listen for the removal of the full notebook cells\n",
              "var notebookContainer = gd.closest('#notebook-container');\n",
              "if (notebookContainer) {{\n",
              "    x.observe(notebookContainer, {childList: true});\n",
              "}}\n",
              "\n",
              "// Listen for the clearing of the current output cell\n",
              "var outputEl = gd.closest('.output');\n",
              "if (outputEl) {{\n",
              "    x.observe(outputEl, {childList: true});\n",
              "}}\n",
              "\n",
              "                        })                };                            </script>        </div>\n",
              "</body>\n",
              "</html>"
            ]
          },
          "metadata": {}
        }
      ]
    },
    {
      "cell_type": "markdown",
      "metadata": {
        "id": "6AP1gqBZg9mt"
      },
      "source": [
        "# Modelado"
      ]
    },
    {
      "cell_type": "markdown",
      "metadata": {
        "id": "nFiRWTjLNNyQ"
      },
      "source": [
        "# Split train test"
      ]
    },
    {
      "cell_type": "code",
      "source": [
        "# Definiéndo la \"y\" o \"target\"\n",
        "x=df_reducido.drop(['Q250'], axis=1)\n",
        "y=df_reducido.Q250"
      ],
      "metadata": {
        "id": "CuO2znR2xaT6"
      },
      "execution_count": null,
      "outputs": []
    },
    {
      "cell_type": "code",
      "execution_count": null,
      "metadata": {
        "id": "D9qKo_eRNxvE"
      },
      "outputs": [],
      "source": [
        "from sklearn.model_selection import train_test_split"
      ]
    },
    {
      "cell_type": "code",
      "execution_count": null,
      "metadata": {
        "id": "RKy44j_6rb9i"
      },
      "outputs": [],
      "source": [
        "X_train,X_test,y_train,y_test = train_test_split(x,y)"
      ]
    },
    {
      "cell_type": "code",
      "source": [
        "#Tamaño de x e y train:"
      ],
      "metadata": {
        "id": "XnAzHKESoc0r"
      },
      "execution_count": null,
      "outputs": []
    },
    {
      "cell_type": "code",
      "execution_count": null,
      "metadata": {
        "id": "pREi6Y6Yrfo-",
        "colab": {
          "base_uri": "https://localhost:8080/"
        },
        "outputId": "22c92336-c405-4b58-8075-904823429b5a"
      },
      "outputs": [
        {
          "output_type": "stream",
          "name": "stdout",
          "text": [
            "(636, 7) (636,)\n"
          ]
        }
      ],
      "source": [
        "print(X_train.shape,y_train.shape)"
      ]
    },
    {
      "cell_type": "code",
      "source": [
        "#Tamaño de x e y test:"
      ],
      "metadata": {
        "id": "Nz6xBSMlogiR"
      },
      "execution_count": null,
      "outputs": []
    },
    {
      "cell_type": "code",
      "execution_count": null,
      "metadata": {
        "id": "k7Q99zR4rjsM",
        "colab": {
          "base_uri": "https://localhost:8080/"
        },
        "outputId": "ed68781a-15f6-4087-84eb-bec968d057c2"
      },
      "outputs": [
        {
          "output_type": "stream",
          "name": "stdout",
          "text": [
            "(213, 7) (213,)\n"
          ]
        }
      ],
      "source": [
        "print(X_test.shape,y_test.shape)"
      ]
    },
    {
      "cell_type": "markdown",
      "metadata": {
        "id": "hcQN25isg0Yi"
      },
      "source": [
        "# Seleccion de modelos (Hiperparametros)\n",
        "\n",
        "1. KNN K=3 con todas\n",
        "2. KNN K=5 con todas"
      ]
    },
    {
      "cell_type": "code",
      "execution_count": null,
      "metadata": {
        "id": "oE0s_JXpruRY"
      },
      "outputs": [],
      "source": [
        "from sklearn.neighbors import KNeighborsClassifier as KNN"
      ]
    },
    {
      "cell_type": "code",
      "execution_count": null,
      "metadata": {
        "id": "DpEdX-LYg_2l"
      },
      "outputs": [],
      "source": [
        "from sklearn.model_selection import cross_val_score"
      ]
    },
    {
      "cell_type": "code",
      "execution_count": null,
      "metadata": {
        "id": "uFxMEqNNr4po"
      },
      "outputs": [],
      "source": [
        "modelo_1=KNN(3)\n",
        "modelo_2=KNN(5)"
      ]
    },
    {
      "cell_type": "code",
      "source": [
        "print(y_train.isnull().sum())"
      ],
      "metadata": {
        "id": "jbFLSSTYynXT",
        "colab": {
          "base_uri": "https://localhost:8080/"
        },
        "outputId": "492c1519-b9e4-4d2d-9e7c-08230eda1be1"
      },
      "execution_count": null,
      "outputs": [
        {
          "output_type": "stream",
          "name": "stdout",
          "text": [
            "0\n"
          ]
        }
      ]
    },
    {
      "cell_type": "code",
      "source": [
        "print(y_test.isnull().sum())"
      ],
      "metadata": {
        "id": "NTdtgimQypKw",
        "colab": {
          "base_uri": "https://localhost:8080/"
        },
        "outputId": "b591b902-4f48-4138-eded-cd737ccfba78"
      },
      "execution_count": null,
      "outputs": [
        {
          "output_type": "stream",
          "name": "stdout",
          "text": [
            "0\n"
          ]
        }
      ]
    },
    {
      "cell_type": "code",
      "execution_count": null,
      "metadata": {
        "id": "fxfJicKL1WzX",
        "colab": {
          "base_uri": "https://localhost:8080/"
        },
        "outputId": "aa5aac29-c256-4fb9-d621-20558ea2c9f4"
      },
      "outputs": [
        {
          "output_type": "stream",
          "name": "stderr",
          "text": [
            "/usr/local/lib/python3.10/dist-packages/sklearn/model_selection/_split.py:700: UserWarning:\n",
            "\n",
            "The least populated class in y has only 1 members, which is less than n_splits=5.\n",
            "\n"
          ]
        },
        {
          "output_type": "execute_result",
          "data": {
            "text/plain": [
              "array([0.5       , 0.47244094, 0.50393701, 0.47244094, 0.51181102])"
            ]
          },
          "metadata": {},
          "execution_count": 30
        }
      ],
      "source": [
        "cross_val_score(modelo_1,X_train,y_train)"
      ]
    },
    {
      "cell_type": "code",
      "execution_count": null,
      "metadata": {
        "id": "jmdGl1sg48oU",
        "colab": {
          "base_uri": "https://localhost:8080/"
        },
        "outputId": "bb0fbae3-bfe1-4fd7-d43c-cb66592247a1"
      },
      "outputs": [
        {
          "output_type": "stream",
          "name": "stderr",
          "text": [
            "/usr/local/lib/python3.10/dist-packages/sklearn/model_selection/_split.py:700: UserWarning:\n",
            "\n",
            "The least populated class in y has only 1 members, which is less than n_splits=5.\n",
            "\n"
          ]
        },
        {
          "output_type": "execute_result",
          "data": {
            "text/plain": [
              "array([0.5546875 , 0.48818898, 0.51181102, 0.48031496, 0.49606299])"
            ]
          },
          "metadata": {},
          "execution_count": 31
        }
      ],
      "source": [
        "cross_val_score(modelo_2,X_train,y_train)"
      ]
    },
    {
      "cell_type": "markdown",
      "metadata": {
        "id": "uXv-RmdULsZK"
      },
      "source": [
        "**Promedios del score del modelo 1 y 2:**"
      ]
    },
    {
      "cell_type": "code",
      "execution_count": null,
      "metadata": {
        "id": "LzmYVLeG5U9M",
        "colab": {
          "base_uri": "https://localhost:8080/"
        },
        "outputId": "3ae2677b-7247-40df-c07c-296f27d1d72d"
      },
      "outputs": [
        {
          "output_type": "stream",
          "name": "stderr",
          "text": [
            "/usr/local/lib/python3.10/dist-packages/sklearn/model_selection/_split.py:700: UserWarning:\n",
            "\n",
            "The least populated class in y has only 1 members, which is less than n_splits=5.\n",
            "\n"
          ]
        },
        {
          "output_type": "execute_result",
          "data": {
            "text/plain": [
              "0.4921259842519685"
            ]
          },
          "metadata": {},
          "execution_count": 32
        }
      ],
      "source": [
        "#modelo 1:\n",
        "cross_val_score(modelo_1,X_train,y_train).mean()"
      ]
    },
    {
      "cell_type": "code",
      "execution_count": null,
      "metadata": {
        "id": "Am6vW7i65WUD",
        "colab": {
          "base_uri": "https://localhost:8080/"
        },
        "outputId": "f7efb418-484f-41d9-81fa-d9e6c3babac0"
      },
      "outputs": [
        {
          "output_type": "stream",
          "name": "stderr",
          "text": [
            "/usr/local/lib/python3.10/dist-packages/sklearn/model_selection/_split.py:700: UserWarning:\n",
            "\n",
            "The least populated class in y has only 1 members, which is less than n_splits=5.\n",
            "\n"
          ]
        },
        {
          "output_type": "execute_result",
          "data": {
            "text/plain": [
              "0.5062130905511811"
            ]
          },
          "metadata": {},
          "execution_count": 33
        }
      ],
      "source": [
        "#modelo 2:\n",
        "cross_val_score(modelo_2,X_train,y_train).mean()"
      ]
    },
    {
      "cell_type": "markdown",
      "metadata": {
        "id": "IB7N667y55LV"
      },
      "source": [
        "**Nos quedamos con el modelo 2 (KNN = 5)**"
      ]
    },
    {
      "cell_type": "markdown",
      "metadata": {
        "id": "5wjHnsmt6CMf"
      },
      "source": [
        "#FEATURE SELECTION\n",
        "3. Knn con k=5 y 4 variables elegidas con foward\n",
        "4. Knn con k=5 y 5 variables elegidas con foward\n"
      ]
    },
    {
      "cell_type": "code",
      "source": [
        "from sklearn.model_selection import KFold"
      ],
      "metadata": {
        "id": "HVDKy42Th-QG"
      },
      "execution_count": null,
      "outputs": []
    },
    {
      "cell_type": "code",
      "execution_count": null,
      "metadata": {
        "id": "xYyWsp9MSOr1"
      },
      "outputs": [],
      "source": [
        "#Libreria que me permite automatizar la feature selection\n",
        "from mlxtend.feature_selection import SequentialFeatureSelector as SFS"
      ]
    },
    {
      "cell_type": "code",
      "execution_count": null,
      "metadata": {
        "id": "un4H1YwU6U_d"
      },
      "outputs": [],
      "source": [
        "# MODELO 3 - instancio\n",
        "sfs = SFS(KNN(),k_features=4)"
      ]
    },
    {
      "cell_type": "code",
      "execution_count": null,
      "metadata": {
        "id": "7_hdqaSA6ZQT",
        "colab": {
          "base_uri": "https://localhost:8080/",
          "height": 1000
        },
        "outputId": "a9d63af5-834b-46b3-d692-b34b397c2f42"
      },
      "outputs": [
        {
          "output_type": "stream",
          "name": "stderr",
          "text": [
            "/usr/local/lib/python3.10/dist-packages/sklearn/model_selection/_split.py:700: UserWarning:\n",
            "\n",
            "The least populated class in y has only 1 members, which is less than n_splits=5.\n",
            "\n",
            "/usr/local/lib/python3.10/dist-packages/sklearn/model_selection/_split.py:700: UserWarning:\n",
            "\n",
            "The least populated class in y has only 1 members, which is less than n_splits=5.\n",
            "\n",
            "/usr/local/lib/python3.10/dist-packages/sklearn/model_selection/_split.py:700: UserWarning:\n",
            "\n",
            "The least populated class in y has only 1 members, which is less than n_splits=5.\n",
            "\n",
            "/usr/local/lib/python3.10/dist-packages/sklearn/model_selection/_split.py:700: UserWarning:\n",
            "\n",
            "The least populated class in y has only 1 members, which is less than n_splits=5.\n",
            "\n",
            "/usr/local/lib/python3.10/dist-packages/sklearn/model_selection/_split.py:700: UserWarning:\n",
            "\n",
            "The least populated class in y has only 1 members, which is less than n_splits=5.\n",
            "\n",
            "/usr/local/lib/python3.10/dist-packages/sklearn/model_selection/_split.py:700: UserWarning:\n",
            "\n",
            "The least populated class in y has only 1 members, which is less than n_splits=5.\n",
            "\n",
            "/usr/local/lib/python3.10/dist-packages/sklearn/model_selection/_split.py:700: UserWarning:\n",
            "\n",
            "The least populated class in y has only 1 members, which is less than n_splits=5.\n",
            "\n",
            "/usr/local/lib/python3.10/dist-packages/sklearn/model_selection/_split.py:700: UserWarning:\n",
            "\n",
            "The least populated class in y has only 1 members, which is less than n_splits=5.\n",
            "\n",
            "/usr/local/lib/python3.10/dist-packages/sklearn/model_selection/_split.py:700: UserWarning:\n",
            "\n",
            "The least populated class in y has only 1 members, which is less than n_splits=5.\n",
            "\n",
            "/usr/local/lib/python3.10/dist-packages/sklearn/model_selection/_split.py:700: UserWarning:\n",
            "\n",
            "The least populated class in y has only 1 members, which is less than n_splits=5.\n",
            "\n",
            "/usr/local/lib/python3.10/dist-packages/sklearn/model_selection/_split.py:700: UserWarning:\n",
            "\n",
            "The least populated class in y has only 1 members, which is less than n_splits=5.\n",
            "\n",
            "/usr/local/lib/python3.10/dist-packages/sklearn/model_selection/_split.py:700: UserWarning:\n",
            "\n",
            "The least populated class in y has only 1 members, which is less than n_splits=5.\n",
            "\n",
            "/usr/local/lib/python3.10/dist-packages/sklearn/model_selection/_split.py:700: UserWarning:\n",
            "\n",
            "The least populated class in y has only 1 members, which is less than n_splits=5.\n",
            "\n",
            "/usr/local/lib/python3.10/dist-packages/sklearn/model_selection/_split.py:700: UserWarning:\n",
            "\n",
            "The least populated class in y has only 1 members, which is less than n_splits=5.\n",
            "\n",
            "/usr/local/lib/python3.10/dist-packages/sklearn/model_selection/_split.py:700: UserWarning:\n",
            "\n",
            "The least populated class in y has only 1 members, which is less than n_splits=5.\n",
            "\n",
            "/usr/local/lib/python3.10/dist-packages/sklearn/model_selection/_split.py:700: UserWarning:\n",
            "\n",
            "The least populated class in y has only 1 members, which is less than n_splits=5.\n",
            "\n",
            "/usr/local/lib/python3.10/dist-packages/sklearn/model_selection/_split.py:700: UserWarning:\n",
            "\n",
            "The least populated class in y has only 1 members, which is less than n_splits=5.\n",
            "\n",
            "/usr/local/lib/python3.10/dist-packages/sklearn/model_selection/_split.py:700: UserWarning:\n",
            "\n",
            "The least populated class in y has only 1 members, which is less than n_splits=5.\n",
            "\n",
            "/usr/local/lib/python3.10/dist-packages/sklearn/model_selection/_split.py:700: UserWarning:\n",
            "\n",
            "The least populated class in y has only 1 members, which is less than n_splits=5.\n",
            "\n",
            "/usr/local/lib/python3.10/dist-packages/sklearn/model_selection/_split.py:700: UserWarning:\n",
            "\n",
            "The least populated class in y has only 1 members, which is less than n_splits=5.\n",
            "\n",
            "/usr/local/lib/python3.10/dist-packages/sklearn/model_selection/_split.py:700: UserWarning:\n",
            "\n",
            "The least populated class in y has only 1 members, which is less than n_splits=5.\n",
            "\n",
            "/usr/local/lib/python3.10/dist-packages/sklearn/model_selection/_split.py:700: UserWarning:\n",
            "\n",
            "The least populated class in y has only 1 members, which is less than n_splits=5.\n",
            "\n"
          ]
        },
        {
          "output_type": "execute_result",
          "data": {
            "text/plain": [
              "SequentialFeatureSelector(estimator=KNeighborsClassifier(), k_features=(4, 4),\n",
              "                          scoring='accuracy')"
            ],
            "text/html": [
              "<style>#sk-container-id-1 {color: black;background-color: white;}#sk-container-id-1 pre{padding: 0;}#sk-container-id-1 div.sk-toggleable {background-color: white;}#sk-container-id-1 label.sk-toggleable__label {cursor: pointer;display: block;width: 100%;margin-bottom: 0;padding: 0.3em;box-sizing: border-box;text-align: center;}#sk-container-id-1 label.sk-toggleable__label-arrow:before {content: \"▸\";float: left;margin-right: 0.25em;color: #696969;}#sk-container-id-1 label.sk-toggleable__label-arrow:hover:before {color: black;}#sk-container-id-1 div.sk-estimator:hover label.sk-toggleable__label-arrow:before {color: black;}#sk-container-id-1 div.sk-toggleable__content {max-height: 0;max-width: 0;overflow: hidden;text-align: left;background-color: #f0f8ff;}#sk-container-id-1 div.sk-toggleable__content pre {margin: 0.2em;color: black;border-radius: 0.25em;background-color: #f0f8ff;}#sk-container-id-1 input.sk-toggleable__control:checked~div.sk-toggleable__content {max-height: 200px;max-width: 100%;overflow: auto;}#sk-container-id-1 input.sk-toggleable__control:checked~label.sk-toggleable__label-arrow:before {content: \"▾\";}#sk-container-id-1 div.sk-estimator input.sk-toggleable__control:checked~label.sk-toggleable__label {background-color: #d4ebff;}#sk-container-id-1 div.sk-label input.sk-toggleable__control:checked~label.sk-toggleable__label {background-color: #d4ebff;}#sk-container-id-1 input.sk-hidden--visually {border: 0;clip: rect(1px 1px 1px 1px);clip: rect(1px, 1px, 1px, 1px);height: 1px;margin: -1px;overflow: hidden;padding: 0;position: absolute;width: 1px;}#sk-container-id-1 div.sk-estimator {font-family: monospace;background-color: #f0f8ff;border: 1px dotted black;border-radius: 0.25em;box-sizing: border-box;margin-bottom: 0.5em;}#sk-container-id-1 div.sk-estimator:hover {background-color: #d4ebff;}#sk-container-id-1 div.sk-parallel-item::after {content: \"\";width: 100%;border-bottom: 1px solid gray;flex-grow: 1;}#sk-container-id-1 div.sk-label:hover label.sk-toggleable__label {background-color: #d4ebff;}#sk-container-id-1 div.sk-serial::before {content: \"\";position: absolute;border-left: 1px solid gray;box-sizing: border-box;top: 0;bottom: 0;left: 50%;z-index: 0;}#sk-container-id-1 div.sk-serial {display: flex;flex-direction: column;align-items: center;background-color: white;padding-right: 0.2em;padding-left: 0.2em;position: relative;}#sk-container-id-1 div.sk-item {position: relative;z-index: 1;}#sk-container-id-1 div.sk-parallel {display: flex;align-items: stretch;justify-content: center;background-color: white;position: relative;}#sk-container-id-1 div.sk-item::before, #sk-container-id-1 div.sk-parallel-item::before {content: \"\";position: absolute;border-left: 1px solid gray;box-sizing: border-box;top: 0;bottom: 0;left: 50%;z-index: -1;}#sk-container-id-1 div.sk-parallel-item {display: flex;flex-direction: column;z-index: 1;position: relative;background-color: white;}#sk-container-id-1 div.sk-parallel-item:first-child::after {align-self: flex-end;width: 50%;}#sk-container-id-1 div.sk-parallel-item:last-child::after {align-self: flex-start;width: 50%;}#sk-container-id-1 div.sk-parallel-item:only-child::after {width: 0;}#sk-container-id-1 div.sk-dashed-wrapped {border: 1px dashed gray;margin: 0 0.4em 0.5em 0.4em;box-sizing: border-box;padding-bottom: 0.4em;background-color: white;}#sk-container-id-1 div.sk-label label {font-family: monospace;font-weight: bold;display: inline-block;line-height: 1.2em;}#sk-container-id-1 div.sk-label-container {text-align: center;}#sk-container-id-1 div.sk-container {/* jupyter's `normalize.less` sets `[hidden] { display: none; }` but bootstrap.min.css set `[hidden] { display: none !important; }` so we also need the `!important` here to be able to override the default hidden behavior on the sphinx rendered scikit-learn.org. See: https://github.com/scikit-learn/scikit-learn/issues/21755 */display: inline-block !important;position: relative;}#sk-container-id-1 div.sk-text-repr-fallback {display: none;}</style><div id=\"sk-container-id-1\" class=\"sk-top-container\"><div class=\"sk-text-repr-fallback\"><pre>SequentialFeatureSelector(estimator=KNeighborsClassifier(), k_features=(4, 4),\n",
              "                          scoring=&#x27;accuracy&#x27;)</pre><b>In a Jupyter environment, please rerun this cell to show the HTML representation or trust the notebook. <br />On GitHub, the HTML representation is unable to render, please try loading this page with nbviewer.org.</b></div><div class=\"sk-container\" hidden><div class=\"sk-item sk-dashed-wrapped\"><div class=\"sk-label-container\"><div class=\"sk-label sk-toggleable\"><input class=\"sk-toggleable__control sk-hidden--visually\" id=\"sk-estimator-id-1\" type=\"checkbox\" ><label for=\"sk-estimator-id-1\" class=\"sk-toggleable__label sk-toggleable__label-arrow\">SequentialFeatureSelector</label><div class=\"sk-toggleable__content\"><pre>SequentialFeatureSelector(estimator=KNeighborsClassifier(), k_features=(4, 4),\n",
              "                          scoring=&#x27;accuracy&#x27;)</pre></div></div></div><div class=\"sk-parallel\"><div class=\"sk-parallel-item\"><div class=\"sk-item\"><div class=\"sk-label-container\"><div class=\"sk-label sk-toggleable\"><input class=\"sk-toggleable__control sk-hidden--visually\" id=\"sk-estimator-id-2\" type=\"checkbox\" ><label for=\"sk-estimator-id-2\" class=\"sk-toggleable__label sk-toggleable__label-arrow\">estimator: KNeighborsClassifier</label><div class=\"sk-toggleable__content\"><pre>KNeighborsClassifier()</pre></div></div></div><div class=\"sk-serial\"><div class=\"sk-item\"><div class=\"sk-estimator sk-toggleable\"><input class=\"sk-toggleable__control sk-hidden--visually\" id=\"sk-estimator-id-3\" type=\"checkbox\" ><label for=\"sk-estimator-id-3\" class=\"sk-toggleable__label sk-toggleable__label-arrow\">KNeighborsClassifier</label><div class=\"sk-toggleable__content\"><pre>KNeighborsClassifier()</pre></div></div></div></div></div></div></div></div></div></div>"
            ]
          },
          "metadata": {},
          "execution_count": 38
        }
      ],
      "source": [
        "#Modelo 3 - fiteo:\n",
        "sfs.fit(X_train,y_train)"
      ]
    },
    {
      "cell_type": "code",
      "execution_count": null,
      "metadata": {
        "id": "HKGJ5BUj7CkE",
        "colab": {
          "base_uri": "https://localhost:8080/"
        },
        "outputId": "d7ef60ae-81ea-4bf5-bfa9-abfba9bb99a4"
      },
      "outputs": [
        {
          "output_type": "stream",
          "name": "stdout",
          "text": [
            "('Q112', 'Q237', 'Q197', 'Q127')\n"
          ]
        }
      ],
      "source": [
        "#Nombres Modelo 3:\n",
        "print(sfs.k_feature_names_)"
      ]
    },
    {
      "cell_type": "code",
      "source": [
        "# MODELO 4 - instancio\n",
        "sfs1 = SFS(KNN(),k_features=5)"
      ],
      "metadata": {
        "id": "bnPRD0_4NX5T"
      },
      "execution_count": null,
      "outputs": []
    },
    {
      "cell_type": "code",
      "source": [
        "# MODELO 4 - fiteo\n",
        "sfs1.fit(X_train,y_train)"
      ],
      "metadata": {
        "id": "BgDajVl6MbW-",
        "colab": {
          "base_uri": "https://localhost:8080/",
          "height": 1000
        },
        "outputId": "2baaa0d7-db8b-48f8-b032-759435fdfcb0"
      },
      "execution_count": null,
      "outputs": [
        {
          "output_type": "stream",
          "name": "stderr",
          "text": [
            "/usr/local/lib/python3.10/dist-packages/sklearn/model_selection/_split.py:700: UserWarning:\n",
            "\n",
            "The least populated class in y has only 1 members, which is less than n_splits=5.\n",
            "\n",
            "/usr/local/lib/python3.10/dist-packages/sklearn/model_selection/_split.py:700: UserWarning:\n",
            "\n",
            "The least populated class in y has only 1 members, which is less than n_splits=5.\n",
            "\n",
            "/usr/local/lib/python3.10/dist-packages/sklearn/model_selection/_split.py:700: UserWarning:\n",
            "\n",
            "The least populated class in y has only 1 members, which is less than n_splits=5.\n",
            "\n",
            "/usr/local/lib/python3.10/dist-packages/sklearn/model_selection/_split.py:700: UserWarning:\n",
            "\n",
            "The least populated class in y has only 1 members, which is less than n_splits=5.\n",
            "\n",
            "/usr/local/lib/python3.10/dist-packages/sklearn/model_selection/_split.py:700: UserWarning:\n",
            "\n",
            "The least populated class in y has only 1 members, which is less than n_splits=5.\n",
            "\n",
            "/usr/local/lib/python3.10/dist-packages/sklearn/model_selection/_split.py:700: UserWarning:\n",
            "\n",
            "The least populated class in y has only 1 members, which is less than n_splits=5.\n",
            "\n",
            "/usr/local/lib/python3.10/dist-packages/sklearn/model_selection/_split.py:700: UserWarning:\n",
            "\n",
            "The least populated class in y has only 1 members, which is less than n_splits=5.\n",
            "\n",
            "/usr/local/lib/python3.10/dist-packages/sklearn/model_selection/_split.py:700: UserWarning:\n",
            "\n",
            "The least populated class in y has only 1 members, which is less than n_splits=5.\n",
            "\n",
            "/usr/local/lib/python3.10/dist-packages/sklearn/model_selection/_split.py:700: UserWarning:\n",
            "\n",
            "The least populated class in y has only 1 members, which is less than n_splits=5.\n",
            "\n",
            "/usr/local/lib/python3.10/dist-packages/sklearn/model_selection/_split.py:700: UserWarning:\n",
            "\n",
            "The least populated class in y has only 1 members, which is less than n_splits=5.\n",
            "\n",
            "/usr/local/lib/python3.10/dist-packages/sklearn/model_selection/_split.py:700: UserWarning:\n",
            "\n",
            "The least populated class in y has only 1 members, which is less than n_splits=5.\n",
            "\n",
            "/usr/local/lib/python3.10/dist-packages/sklearn/model_selection/_split.py:700: UserWarning:\n",
            "\n",
            "The least populated class in y has only 1 members, which is less than n_splits=5.\n",
            "\n",
            "/usr/local/lib/python3.10/dist-packages/sklearn/model_selection/_split.py:700: UserWarning:\n",
            "\n",
            "The least populated class in y has only 1 members, which is less than n_splits=5.\n",
            "\n",
            "/usr/local/lib/python3.10/dist-packages/sklearn/model_selection/_split.py:700: UserWarning:\n",
            "\n",
            "The least populated class in y has only 1 members, which is less than n_splits=5.\n",
            "\n",
            "/usr/local/lib/python3.10/dist-packages/sklearn/model_selection/_split.py:700: UserWarning:\n",
            "\n",
            "The least populated class in y has only 1 members, which is less than n_splits=5.\n",
            "\n",
            "/usr/local/lib/python3.10/dist-packages/sklearn/model_selection/_split.py:700: UserWarning:\n",
            "\n",
            "The least populated class in y has only 1 members, which is less than n_splits=5.\n",
            "\n",
            "/usr/local/lib/python3.10/dist-packages/sklearn/model_selection/_split.py:700: UserWarning:\n",
            "\n",
            "The least populated class in y has only 1 members, which is less than n_splits=5.\n",
            "\n",
            "/usr/local/lib/python3.10/dist-packages/sklearn/model_selection/_split.py:700: UserWarning:\n",
            "\n",
            "The least populated class in y has only 1 members, which is less than n_splits=5.\n",
            "\n",
            "/usr/local/lib/python3.10/dist-packages/sklearn/model_selection/_split.py:700: UserWarning:\n",
            "\n",
            "The least populated class in y has only 1 members, which is less than n_splits=5.\n",
            "\n",
            "/usr/local/lib/python3.10/dist-packages/sklearn/model_selection/_split.py:700: UserWarning:\n",
            "\n",
            "The least populated class in y has only 1 members, which is less than n_splits=5.\n",
            "\n",
            "/usr/local/lib/python3.10/dist-packages/sklearn/model_selection/_split.py:700: UserWarning:\n",
            "\n",
            "The least populated class in y has only 1 members, which is less than n_splits=5.\n",
            "\n",
            "/usr/local/lib/python3.10/dist-packages/sklearn/model_selection/_split.py:700: UserWarning:\n",
            "\n",
            "The least populated class in y has only 1 members, which is less than n_splits=5.\n",
            "\n",
            "/usr/local/lib/python3.10/dist-packages/sklearn/model_selection/_split.py:700: UserWarning:\n",
            "\n",
            "The least populated class in y has only 1 members, which is less than n_splits=5.\n",
            "\n",
            "/usr/local/lib/python3.10/dist-packages/sklearn/model_selection/_split.py:700: UserWarning:\n",
            "\n",
            "The least populated class in y has only 1 members, which is less than n_splits=5.\n",
            "\n",
            "/usr/local/lib/python3.10/dist-packages/sklearn/model_selection/_split.py:700: UserWarning:\n",
            "\n",
            "The least populated class in y has only 1 members, which is less than n_splits=5.\n",
            "\n"
          ]
        },
        {
          "output_type": "execute_result",
          "data": {
            "text/plain": [
              "SequentialFeatureSelector(estimator=KNeighborsClassifier(), k_features=(5, 5),\n",
              "                          scoring='accuracy')"
            ],
            "text/html": [
              "<style>#sk-container-id-2 {color: black;background-color: white;}#sk-container-id-2 pre{padding: 0;}#sk-container-id-2 div.sk-toggleable {background-color: white;}#sk-container-id-2 label.sk-toggleable__label {cursor: pointer;display: block;width: 100%;margin-bottom: 0;padding: 0.3em;box-sizing: border-box;text-align: center;}#sk-container-id-2 label.sk-toggleable__label-arrow:before {content: \"▸\";float: left;margin-right: 0.25em;color: #696969;}#sk-container-id-2 label.sk-toggleable__label-arrow:hover:before {color: black;}#sk-container-id-2 div.sk-estimator:hover label.sk-toggleable__label-arrow:before {color: black;}#sk-container-id-2 div.sk-toggleable__content {max-height: 0;max-width: 0;overflow: hidden;text-align: left;background-color: #f0f8ff;}#sk-container-id-2 div.sk-toggleable__content pre {margin: 0.2em;color: black;border-radius: 0.25em;background-color: #f0f8ff;}#sk-container-id-2 input.sk-toggleable__control:checked~div.sk-toggleable__content {max-height: 200px;max-width: 100%;overflow: auto;}#sk-container-id-2 input.sk-toggleable__control:checked~label.sk-toggleable__label-arrow:before {content: \"▾\";}#sk-container-id-2 div.sk-estimator input.sk-toggleable__control:checked~label.sk-toggleable__label {background-color: #d4ebff;}#sk-container-id-2 div.sk-label input.sk-toggleable__control:checked~label.sk-toggleable__label {background-color: #d4ebff;}#sk-container-id-2 input.sk-hidden--visually {border: 0;clip: rect(1px 1px 1px 1px);clip: rect(1px, 1px, 1px, 1px);height: 1px;margin: -1px;overflow: hidden;padding: 0;position: absolute;width: 1px;}#sk-container-id-2 div.sk-estimator {font-family: monospace;background-color: #f0f8ff;border: 1px dotted black;border-radius: 0.25em;box-sizing: border-box;margin-bottom: 0.5em;}#sk-container-id-2 div.sk-estimator:hover {background-color: #d4ebff;}#sk-container-id-2 div.sk-parallel-item::after {content: \"\";width: 100%;border-bottom: 1px solid gray;flex-grow: 1;}#sk-container-id-2 div.sk-label:hover label.sk-toggleable__label {background-color: #d4ebff;}#sk-container-id-2 div.sk-serial::before {content: \"\";position: absolute;border-left: 1px solid gray;box-sizing: border-box;top: 0;bottom: 0;left: 50%;z-index: 0;}#sk-container-id-2 div.sk-serial {display: flex;flex-direction: column;align-items: center;background-color: white;padding-right: 0.2em;padding-left: 0.2em;position: relative;}#sk-container-id-2 div.sk-item {position: relative;z-index: 1;}#sk-container-id-2 div.sk-parallel {display: flex;align-items: stretch;justify-content: center;background-color: white;position: relative;}#sk-container-id-2 div.sk-item::before, #sk-container-id-2 div.sk-parallel-item::before {content: \"\";position: absolute;border-left: 1px solid gray;box-sizing: border-box;top: 0;bottom: 0;left: 50%;z-index: -1;}#sk-container-id-2 div.sk-parallel-item {display: flex;flex-direction: column;z-index: 1;position: relative;background-color: white;}#sk-container-id-2 div.sk-parallel-item:first-child::after {align-self: flex-end;width: 50%;}#sk-container-id-2 div.sk-parallel-item:last-child::after {align-self: flex-start;width: 50%;}#sk-container-id-2 div.sk-parallel-item:only-child::after {width: 0;}#sk-container-id-2 div.sk-dashed-wrapped {border: 1px dashed gray;margin: 0 0.4em 0.5em 0.4em;box-sizing: border-box;padding-bottom: 0.4em;background-color: white;}#sk-container-id-2 div.sk-label label {font-family: monospace;font-weight: bold;display: inline-block;line-height: 1.2em;}#sk-container-id-2 div.sk-label-container {text-align: center;}#sk-container-id-2 div.sk-container {/* jupyter's `normalize.less` sets `[hidden] { display: none; }` but bootstrap.min.css set `[hidden] { display: none !important; }` so we also need the `!important` here to be able to override the default hidden behavior on the sphinx rendered scikit-learn.org. See: https://github.com/scikit-learn/scikit-learn/issues/21755 */display: inline-block !important;position: relative;}#sk-container-id-2 div.sk-text-repr-fallback {display: none;}</style><div id=\"sk-container-id-2\" class=\"sk-top-container\"><div class=\"sk-text-repr-fallback\"><pre>SequentialFeatureSelector(estimator=KNeighborsClassifier(), k_features=(5, 5),\n",
              "                          scoring=&#x27;accuracy&#x27;)</pre><b>In a Jupyter environment, please rerun this cell to show the HTML representation or trust the notebook. <br />On GitHub, the HTML representation is unable to render, please try loading this page with nbviewer.org.</b></div><div class=\"sk-container\" hidden><div class=\"sk-item sk-dashed-wrapped\"><div class=\"sk-label-container\"><div class=\"sk-label sk-toggleable\"><input class=\"sk-toggleable__control sk-hidden--visually\" id=\"sk-estimator-id-4\" type=\"checkbox\" ><label for=\"sk-estimator-id-4\" class=\"sk-toggleable__label sk-toggleable__label-arrow\">SequentialFeatureSelector</label><div class=\"sk-toggleable__content\"><pre>SequentialFeatureSelector(estimator=KNeighborsClassifier(), k_features=(5, 5),\n",
              "                          scoring=&#x27;accuracy&#x27;)</pre></div></div></div><div class=\"sk-parallel\"><div class=\"sk-parallel-item\"><div class=\"sk-item\"><div class=\"sk-label-container\"><div class=\"sk-label sk-toggleable\"><input class=\"sk-toggleable__control sk-hidden--visually\" id=\"sk-estimator-id-5\" type=\"checkbox\" ><label for=\"sk-estimator-id-5\" class=\"sk-toggleable__label sk-toggleable__label-arrow\">estimator: KNeighborsClassifier</label><div class=\"sk-toggleable__content\"><pre>KNeighborsClassifier()</pre></div></div></div><div class=\"sk-serial\"><div class=\"sk-item\"><div class=\"sk-estimator sk-toggleable\"><input class=\"sk-toggleable__control sk-hidden--visually\" id=\"sk-estimator-id-6\" type=\"checkbox\" ><label for=\"sk-estimator-id-6\" class=\"sk-toggleable__label sk-toggleable__label-arrow\">KNeighborsClassifier</label><div class=\"sk-toggleable__content\"><pre>KNeighborsClassifier()</pre></div></div></div></div></div></div></div></div></div></div>"
            ]
          },
          "metadata": {},
          "execution_count": 40
        }
      ]
    },
    {
      "cell_type": "code",
      "source": [
        "#Nombres Modelo 4:\n",
        "print(sfs1.k_feature_names_)"
      ],
      "metadata": {
        "id": "ci5w3MNTNevE",
        "colab": {
          "base_uri": "https://localhost:8080/"
        },
        "outputId": "5323bf6a-aff7-494e-e33a-d952921fdb39"
      },
      "execution_count": null,
      "outputs": [
        {
          "output_type": "stream",
          "name": "stdout",
          "text": [
            "('Q243', 'Q112', 'Q237', 'Q197', 'Q127')\n"
          ]
        }
      ]
    },
    {
      "cell_type": "code",
      "source": [
        "#Convertir en lista a las columnas del Modelo 3:\n",
        "list(sfs.k_feature_names_)"
      ],
      "metadata": {
        "id": "mftCqZunNp0c",
        "colab": {
          "base_uri": "https://localhost:8080/"
        },
        "outputId": "aa992893-9a54-4240-c727-e64430e886f9"
      },
      "execution_count": null,
      "outputs": [
        {
          "output_type": "execute_result",
          "data": {
            "text/plain": [
              "['Q112', 'Q237', 'Q197', 'Q127']"
            ]
          },
          "metadata": {},
          "execution_count": 42
        }
      ]
    },
    {
      "cell_type": "code",
      "source": [
        "#Convertir en lista a las columnas del Modelo 4:\n",
        "list(sfs1.k_feature_names_)"
      ],
      "metadata": {
        "id": "lxvvJeelN8fQ",
        "colab": {
          "base_uri": "https://localhost:8080/"
        },
        "outputId": "08540ead-9253-4fdd-f279-41fe90b35b55"
      },
      "execution_count": null,
      "outputs": [
        {
          "output_type": "execute_result",
          "data": {
            "text/plain": [
              "['Q243', 'Q112', 'Q237', 'Q197', 'Q127']"
            ]
          },
          "metadata": {},
          "execution_count": 43
        }
      ]
    },
    {
      "cell_type": "code",
      "source": [
        "X_train_modelo3=X_train[list(sfs.k_feature_names_)].copy()"
      ],
      "metadata": {
        "id": "dUqyqVKROS07"
      },
      "execution_count": null,
      "outputs": []
    },
    {
      "cell_type": "code",
      "source": [
        "X_train_modelo3"
      ],
      "metadata": {
        "id": "GwD96egHOesA",
        "colab": {
          "base_uri": "https://localhost:8080/",
          "height": 424
        },
        "outputId": "e2016172-61ab-4c92-d1b9-78d6ec56eb94"
      },
      "execution_count": null,
      "outputs": [
        {
          "output_type": "execute_result",
          "data": {
            "text/plain": [
              "     Q112  Q237  Q197  Q127\n",
              "269  10.0   4.0   4.0   2.0\n",
              "49    8.0   4.0   4.0   2.0\n",
              "551   5.0   4.0   4.0   2.0\n",
              "770  10.0   4.0   2.0   2.0\n",
              "184   8.0   3.0   4.0   2.0\n",
              "..    ...   ...   ...   ...\n",
              "657  10.0   2.0   3.0   2.0\n",
              "959  10.0   4.0   4.0   2.0\n",
              "748   7.0   3.0   2.0   0.0\n",
              "480   9.0   4.0   4.0   2.0\n",
              "294  10.0   4.0   4.0   2.0\n",
              "\n",
              "[636 rows x 4 columns]"
            ],
            "text/html": [
              "\n",
              "  <div id=\"df-95c145cc-da66-4f4a-9043-1e037e0059de\" class=\"colab-df-container\">\n",
              "    <div>\n",
              "<style scoped>\n",
              "    .dataframe tbody tr th:only-of-type {\n",
              "        vertical-align: middle;\n",
              "    }\n",
              "\n",
              "    .dataframe tbody tr th {\n",
              "        vertical-align: top;\n",
              "    }\n",
              "\n",
              "    .dataframe thead th {\n",
              "        text-align: right;\n",
              "    }\n",
              "</style>\n",
              "<table border=\"1\" class=\"dataframe\">\n",
              "  <thead>\n",
              "    <tr style=\"text-align: right;\">\n",
              "      <th></th>\n",
              "      <th>Q112</th>\n",
              "      <th>Q237</th>\n",
              "      <th>Q197</th>\n",
              "      <th>Q127</th>\n",
              "    </tr>\n",
              "  </thead>\n",
              "  <tbody>\n",
              "    <tr>\n",
              "      <th>269</th>\n",
              "      <td>10.0</td>\n",
              "      <td>4.0</td>\n",
              "      <td>4.0</td>\n",
              "      <td>2.0</td>\n",
              "    </tr>\n",
              "    <tr>\n",
              "      <th>49</th>\n",
              "      <td>8.0</td>\n",
              "      <td>4.0</td>\n",
              "      <td>4.0</td>\n",
              "      <td>2.0</td>\n",
              "    </tr>\n",
              "    <tr>\n",
              "      <th>551</th>\n",
              "      <td>5.0</td>\n",
              "      <td>4.0</td>\n",
              "      <td>4.0</td>\n",
              "      <td>2.0</td>\n",
              "    </tr>\n",
              "    <tr>\n",
              "      <th>770</th>\n",
              "      <td>10.0</td>\n",
              "      <td>4.0</td>\n",
              "      <td>2.0</td>\n",
              "      <td>2.0</td>\n",
              "    </tr>\n",
              "    <tr>\n",
              "      <th>184</th>\n",
              "      <td>8.0</td>\n",
              "      <td>3.0</td>\n",
              "      <td>4.0</td>\n",
              "      <td>2.0</td>\n",
              "    </tr>\n",
              "    <tr>\n",
              "      <th>...</th>\n",
              "      <td>...</td>\n",
              "      <td>...</td>\n",
              "      <td>...</td>\n",
              "      <td>...</td>\n",
              "    </tr>\n",
              "    <tr>\n",
              "      <th>657</th>\n",
              "      <td>10.0</td>\n",
              "      <td>2.0</td>\n",
              "      <td>3.0</td>\n",
              "      <td>2.0</td>\n",
              "    </tr>\n",
              "    <tr>\n",
              "      <th>959</th>\n",
              "      <td>10.0</td>\n",
              "      <td>4.0</td>\n",
              "      <td>4.0</td>\n",
              "      <td>2.0</td>\n",
              "    </tr>\n",
              "    <tr>\n",
              "      <th>748</th>\n",
              "      <td>7.0</td>\n",
              "      <td>3.0</td>\n",
              "      <td>2.0</td>\n",
              "      <td>0.0</td>\n",
              "    </tr>\n",
              "    <tr>\n",
              "      <th>480</th>\n",
              "      <td>9.0</td>\n",
              "      <td>4.0</td>\n",
              "      <td>4.0</td>\n",
              "      <td>2.0</td>\n",
              "    </tr>\n",
              "    <tr>\n",
              "      <th>294</th>\n",
              "      <td>10.0</td>\n",
              "      <td>4.0</td>\n",
              "      <td>4.0</td>\n",
              "      <td>2.0</td>\n",
              "    </tr>\n",
              "  </tbody>\n",
              "</table>\n",
              "<p>636 rows × 4 columns</p>\n",
              "</div>\n",
              "    <div class=\"colab-df-buttons\">\n",
              "\n",
              "  <div class=\"colab-df-container\">\n",
              "    <button class=\"colab-df-convert\" onclick=\"convertToInteractive('df-95c145cc-da66-4f4a-9043-1e037e0059de')\"\n",
              "            title=\"Convert this dataframe to an interactive table.\"\n",
              "            style=\"display:none;\">\n",
              "\n",
              "  <svg xmlns=\"http://www.w3.org/2000/svg\" height=\"24px\" viewBox=\"0 -960 960 960\">\n",
              "    <path d=\"M120-120v-720h720v720H120Zm60-500h600v-160H180v160Zm220 220h160v-160H400v160Zm0 220h160v-160H400v160ZM180-400h160v-160H180v160Zm440 0h160v-160H620v160ZM180-180h160v-160H180v160Zm440 0h160v-160H620v160Z\"/>\n",
              "  </svg>\n",
              "    </button>\n",
              "\n",
              "  <style>\n",
              "    .colab-df-container {\n",
              "      display:flex;\n",
              "      gap: 12px;\n",
              "    }\n",
              "\n",
              "    .colab-df-convert {\n",
              "      background-color: #E8F0FE;\n",
              "      border: none;\n",
              "      border-radius: 50%;\n",
              "      cursor: pointer;\n",
              "      display: none;\n",
              "      fill: #1967D2;\n",
              "      height: 32px;\n",
              "      padding: 0 0 0 0;\n",
              "      width: 32px;\n",
              "    }\n",
              "\n",
              "    .colab-df-convert:hover {\n",
              "      background-color: #E2EBFA;\n",
              "      box-shadow: 0px 1px 2px rgba(60, 64, 67, 0.3), 0px 1px 3px 1px rgba(60, 64, 67, 0.15);\n",
              "      fill: #174EA6;\n",
              "    }\n",
              "\n",
              "    .colab-df-buttons div {\n",
              "      margin-bottom: 4px;\n",
              "    }\n",
              "\n",
              "    [theme=dark] .colab-df-convert {\n",
              "      background-color: #3B4455;\n",
              "      fill: #D2E3FC;\n",
              "    }\n",
              "\n",
              "    [theme=dark] .colab-df-convert:hover {\n",
              "      background-color: #434B5C;\n",
              "      box-shadow: 0px 1px 3px 1px rgba(0, 0, 0, 0.15);\n",
              "      filter: drop-shadow(0px 1px 2px rgba(0, 0, 0, 0.3));\n",
              "      fill: #FFFFFF;\n",
              "    }\n",
              "  </style>\n",
              "\n",
              "    <script>\n",
              "      const buttonEl =\n",
              "        document.querySelector('#df-95c145cc-da66-4f4a-9043-1e037e0059de button.colab-df-convert');\n",
              "      buttonEl.style.display =\n",
              "        google.colab.kernel.accessAllowed ? 'block' : 'none';\n",
              "\n",
              "      async function convertToInteractive(key) {\n",
              "        const element = document.querySelector('#df-95c145cc-da66-4f4a-9043-1e037e0059de');\n",
              "        const dataTable =\n",
              "          await google.colab.kernel.invokeFunction('convertToInteractive',\n",
              "                                                    [key], {});\n",
              "        if (!dataTable) return;\n",
              "\n",
              "        const docLinkHtml = 'Like what you see? Visit the ' +\n",
              "          '<a target=\"_blank\" href=https://colab.research.google.com/notebooks/data_table.ipynb>data table notebook</a>'\n",
              "          + ' to learn more about interactive tables.';\n",
              "        element.innerHTML = '';\n",
              "        dataTable['output_type'] = 'display_data';\n",
              "        await google.colab.output.renderOutput(dataTable, element);\n",
              "        const docLink = document.createElement('div');\n",
              "        docLink.innerHTML = docLinkHtml;\n",
              "        element.appendChild(docLink);\n",
              "      }\n",
              "    </script>\n",
              "  </div>\n",
              "\n",
              "\n",
              "<div id=\"df-f4bb1b2e-a3e3-4d39-9c34-bf0d68eb0539\">\n",
              "  <button class=\"colab-df-quickchart\" onclick=\"quickchart('df-f4bb1b2e-a3e3-4d39-9c34-bf0d68eb0539')\"\n",
              "            title=\"Suggest charts\"\n",
              "            style=\"display:none;\">\n",
              "\n",
              "<svg xmlns=\"http://www.w3.org/2000/svg\" height=\"24px\"viewBox=\"0 0 24 24\"\n",
              "     width=\"24px\">\n",
              "    <g>\n",
              "        <path d=\"M19 3H5c-1.1 0-2 .9-2 2v14c0 1.1.9 2 2 2h14c1.1 0 2-.9 2-2V5c0-1.1-.9-2-2-2zM9 17H7v-7h2v7zm4 0h-2V7h2v10zm4 0h-2v-4h2v4z\"/>\n",
              "    </g>\n",
              "</svg>\n",
              "  </button>\n",
              "\n",
              "<style>\n",
              "  .colab-df-quickchart {\n",
              "      --bg-color: #E8F0FE;\n",
              "      --fill-color: #1967D2;\n",
              "      --hover-bg-color: #E2EBFA;\n",
              "      --hover-fill-color: #174EA6;\n",
              "      --disabled-fill-color: #AAA;\n",
              "      --disabled-bg-color: #DDD;\n",
              "  }\n",
              "\n",
              "  [theme=dark] .colab-df-quickchart {\n",
              "      --bg-color: #3B4455;\n",
              "      --fill-color: #D2E3FC;\n",
              "      --hover-bg-color: #434B5C;\n",
              "      --hover-fill-color: #FFFFFF;\n",
              "      --disabled-bg-color: #3B4455;\n",
              "      --disabled-fill-color: #666;\n",
              "  }\n",
              "\n",
              "  .colab-df-quickchart {\n",
              "    background-color: var(--bg-color);\n",
              "    border: none;\n",
              "    border-radius: 50%;\n",
              "    cursor: pointer;\n",
              "    display: none;\n",
              "    fill: var(--fill-color);\n",
              "    height: 32px;\n",
              "    padding: 0;\n",
              "    width: 32px;\n",
              "  }\n",
              "\n",
              "  .colab-df-quickchart:hover {\n",
              "    background-color: var(--hover-bg-color);\n",
              "    box-shadow: 0 1px 2px rgba(60, 64, 67, 0.3), 0 1px 3px 1px rgba(60, 64, 67, 0.15);\n",
              "    fill: var(--button-hover-fill-color);\n",
              "  }\n",
              "\n",
              "  .colab-df-quickchart-complete:disabled,\n",
              "  .colab-df-quickchart-complete:disabled:hover {\n",
              "    background-color: var(--disabled-bg-color);\n",
              "    fill: var(--disabled-fill-color);\n",
              "    box-shadow: none;\n",
              "  }\n",
              "\n",
              "  .colab-df-spinner {\n",
              "    border: 2px solid var(--fill-color);\n",
              "    border-color: transparent;\n",
              "    border-bottom-color: var(--fill-color);\n",
              "    animation:\n",
              "      spin 1s steps(1) infinite;\n",
              "  }\n",
              "\n",
              "  @keyframes spin {\n",
              "    0% {\n",
              "      border-color: transparent;\n",
              "      border-bottom-color: var(--fill-color);\n",
              "      border-left-color: var(--fill-color);\n",
              "    }\n",
              "    20% {\n",
              "      border-color: transparent;\n",
              "      border-left-color: var(--fill-color);\n",
              "      border-top-color: var(--fill-color);\n",
              "    }\n",
              "    30% {\n",
              "      border-color: transparent;\n",
              "      border-left-color: var(--fill-color);\n",
              "      border-top-color: var(--fill-color);\n",
              "      border-right-color: var(--fill-color);\n",
              "    }\n",
              "    40% {\n",
              "      border-color: transparent;\n",
              "      border-right-color: var(--fill-color);\n",
              "      border-top-color: var(--fill-color);\n",
              "    }\n",
              "    60% {\n",
              "      border-color: transparent;\n",
              "      border-right-color: var(--fill-color);\n",
              "    }\n",
              "    80% {\n",
              "      border-color: transparent;\n",
              "      border-right-color: var(--fill-color);\n",
              "      border-bottom-color: var(--fill-color);\n",
              "    }\n",
              "    90% {\n",
              "      border-color: transparent;\n",
              "      border-bottom-color: var(--fill-color);\n",
              "    }\n",
              "  }\n",
              "</style>\n",
              "\n",
              "  <script>\n",
              "    async function quickchart(key) {\n",
              "      const quickchartButtonEl =\n",
              "        document.querySelector('#' + key + ' button');\n",
              "      quickchartButtonEl.disabled = true;  // To prevent multiple clicks.\n",
              "      quickchartButtonEl.classList.add('colab-df-spinner');\n",
              "      try {\n",
              "        const charts = await google.colab.kernel.invokeFunction(\n",
              "            'suggestCharts', [key], {});\n",
              "      } catch (error) {\n",
              "        console.error('Error during call to suggestCharts:', error);\n",
              "      }\n",
              "      quickchartButtonEl.classList.remove('colab-df-spinner');\n",
              "      quickchartButtonEl.classList.add('colab-df-quickchart-complete');\n",
              "    }\n",
              "    (() => {\n",
              "      let quickchartButtonEl =\n",
              "        document.querySelector('#df-f4bb1b2e-a3e3-4d39-9c34-bf0d68eb0539 button');\n",
              "      quickchartButtonEl.style.display =\n",
              "        google.colab.kernel.accessAllowed ? 'block' : 'none';\n",
              "    })();\n",
              "  </script>\n",
              "</div>\n",
              "\n",
              "  <div id=\"id_41ccf063-0c8a-45ca-b38e-5d201d5f3523\">\n",
              "    <style>\n",
              "      .colab-df-generate {\n",
              "        background-color: #E8F0FE;\n",
              "        border: none;\n",
              "        border-radius: 50%;\n",
              "        cursor: pointer;\n",
              "        display: none;\n",
              "        fill: #1967D2;\n",
              "        height: 32px;\n",
              "        padding: 0 0 0 0;\n",
              "        width: 32px;\n",
              "      }\n",
              "\n",
              "      .colab-df-generate:hover {\n",
              "        background-color: #E2EBFA;\n",
              "        box-shadow: 0px 1px 2px rgba(60, 64, 67, 0.3), 0px 1px 3px 1px rgba(60, 64, 67, 0.15);\n",
              "        fill: #174EA6;\n",
              "      }\n",
              "\n",
              "      [theme=dark] .colab-df-generate {\n",
              "        background-color: #3B4455;\n",
              "        fill: #D2E3FC;\n",
              "      }\n",
              "\n",
              "      [theme=dark] .colab-df-generate:hover {\n",
              "        background-color: #434B5C;\n",
              "        box-shadow: 0px 1px 3px 1px rgba(0, 0, 0, 0.15);\n",
              "        filter: drop-shadow(0px 1px 2px rgba(0, 0, 0, 0.3));\n",
              "        fill: #FFFFFF;\n",
              "      }\n",
              "    </style>\n",
              "    <button class=\"colab-df-generate\" onclick=\"generateWithVariable('X_train_modelo3')\"\n",
              "            title=\"Generate code using this dataframe.\"\n",
              "            style=\"display:none;\">\n",
              "\n",
              "  <svg xmlns=\"http://www.w3.org/2000/svg\" height=\"24px\"viewBox=\"0 0 24 24\"\n",
              "       width=\"24px\">\n",
              "    <path d=\"M7,19H8.4L18.45,9,17,7.55,7,17.6ZM5,21V16.75L18.45,3.32a2,2,0,0,1,2.83,0l1.4,1.43a1.91,1.91,0,0,1,.58,1.4,1.91,1.91,0,0,1-.58,1.4L9.25,21ZM18.45,9,17,7.55Zm-12,3A5.31,5.31,0,0,0,4.9,8.1,5.31,5.31,0,0,0,1,6.5,5.31,5.31,0,0,0,4.9,4.9,5.31,5.31,0,0,0,6.5,1,5.31,5.31,0,0,0,8.1,4.9,5.31,5.31,0,0,0,12,6.5,5.46,5.46,0,0,0,6.5,12Z\"/>\n",
              "  </svg>\n",
              "    </button>\n",
              "    <script>\n",
              "      (() => {\n",
              "      const buttonEl =\n",
              "        document.querySelector('#id_41ccf063-0c8a-45ca-b38e-5d201d5f3523 button.colab-df-generate');\n",
              "      buttonEl.style.display =\n",
              "        google.colab.kernel.accessAllowed ? 'block' : 'none';\n",
              "\n",
              "      buttonEl.onclick = () => {\n",
              "        google.colab.notebook.generateWithVariable('X_train_modelo3');\n",
              "      }\n",
              "      })();\n",
              "    </script>\n",
              "  </div>\n",
              "\n",
              "    </div>\n",
              "  </div>\n"
            ],
            "application/vnd.google.colaboratory.intrinsic+json": {
              "type": "dataframe",
              "variable_name": "X_train_modelo3",
              "summary": "{\n  \"name\": \"X_train_modelo3\",\n  \"rows\": 636,\n  \"fields\": [\n    {\n      \"column\": \"Q112\",\n      \"properties\": {\n        \"dtype\": \"number\",\n        \"std\": 1.603074690193328,\n        \"min\": 1.0,\n        \"max\": 10.0,\n        \"num_unique_values\": 10,\n        \"samples\": [\n          2.0,\n          8.0,\n          6.0\n        ],\n        \"semantic_type\": \"\",\n        \"description\": \"\"\n      }\n    },\n    {\n      \"column\": \"Q237\",\n      \"properties\": {\n        \"dtype\": \"number\",\n        \"std\": 0.804213142017889,\n        \"min\": 1.0,\n        \"max\": 4.0,\n        \"num_unique_values\": 4,\n        \"samples\": [\n          3.0,\n          1.0,\n          4.0\n        ],\n        \"semantic_type\": \"\",\n        \"description\": \"\"\n      }\n    },\n    {\n      \"column\": \"Q197\",\n      \"properties\": {\n        \"dtype\": \"number\",\n        \"std\": 0.9877111006979897,\n        \"min\": 1.0,\n        \"max\": 4.0,\n        \"num_unique_values\": 4,\n        \"samples\": [\n          2.0,\n          1.0,\n          4.0\n        ],\n        \"semantic_type\": \"\",\n        \"description\": \"\"\n      }\n    },\n    {\n      \"column\": \"Q127\",\n      \"properties\": {\n        \"dtype\": \"number\",\n        \"std\": 0.7339004798518304,\n        \"min\": 0.0,\n        \"max\": 2.0,\n        \"num_unique_values\": 3,\n        \"samples\": [\n          2.0,\n          0.0,\n          1.0\n        ],\n        \"semantic_type\": \"\",\n        \"description\": \"\"\n      }\n    }\n  ]\n}"
            }
          },
          "metadata": {},
          "execution_count": 45
        }
      ]
    },
    {
      "cell_type": "code",
      "source": [
        "modelo_3=KNN()"
      ],
      "metadata": {
        "id": "0ZGJ-sr4Tp-V"
      },
      "execution_count": null,
      "outputs": []
    },
    {
      "cell_type": "code",
      "source": [
        "cross_val_score(modelo_3,X_train_modelo3,y_train).mean()"
      ],
      "metadata": {
        "id": "jC9K6vm0Tpe3",
        "colab": {
          "base_uri": "https://localhost:8080/"
        },
        "outputId": "c4960174-dbf8-4f01-d622-d0b12d55d9ec"
      },
      "execution_count": null,
      "outputs": [
        {
          "output_type": "stream",
          "name": "stderr",
          "text": [
            "/usr/local/lib/python3.10/dist-packages/sklearn/model_selection/_split.py:700: UserWarning:\n",
            "\n",
            "The least populated class in y has only 1 members, which is less than n_splits=5.\n",
            "\n"
          ]
        },
        {
          "output_type": "execute_result",
          "data": {
            "text/plain": [
              "0.5141732283464566"
            ]
          },
          "metadata": {},
          "execution_count": 47
        }
      ]
    },
    {
      "cell_type": "code",
      "source": [
        "#modelo 4\n",
        "sfs1.fit(X_train,y_train)\n",
        "\n",
        "X_train_4=X_train[list(sfs1.k_feature_names_)].copy()\n",
        "\n",
        "modelo_4=KNN()\n",
        "cross_val_score(modelo_4,X_train_3,y_train).mean()"
      ],
      "metadata": {
        "id": "X2kfGFOkOnmM",
        "colab": {
          "base_uri": "https://localhost:8080/"
        },
        "outputId": "a2489345-b440-41f2-9414-155806953c16"
      },
      "execution_count": null,
      "outputs": [
        {
          "output_type": "stream",
          "name": "stderr",
          "text": [
            "/usr/local/lib/python3.10/dist-packages/sklearn/model_selection/_split.py:700: UserWarning:\n",
            "\n",
            "The least populated class in y has only 1 members, which is less than n_splits=5.\n",
            "\n",
            "/usr/local/lib/python3.10/dist-packages/sklearn/model_selection/_split.py:700: UserWarning:\n",
            "\n",
            "The least populated class in y has only 1 members, which is less than n_splits=5.\n",
            "\n",
            "/usr/local/lib/python3.10/dist-packages/sklearn/model_selection/_split.py:700: UserWarning:\n",
            "\n",
            "The least populated class in y has only 1 members, which is less than n_splits=5.\n",
            "\n",
            "/usr/local/lib/python3.10/dist-packages/sklearn/model_selection/_split.py:700: UserWarning:\n",
            "\n",
            "The least populated class in y has only 1 members, which is less than n_splits=5.\n",
            "\n",
            "/usr/local/lib/python3.10/dist-packages/sklearn/model_selection/_split.py:700: UserWarning:\n",
            "\n",
            "The least populated class in y has only 1 members, which is less than n_splits=5.\n",
            "\n",
            "/usr/local/lib/python3.10/dist-packages/sklearn/model_selection/_split.py:700: UserWarning:\n",
            "\n",
            "The least populated class in y has only 1 members, which is less than n_splits=5.\n",
            "\n",
            "/usr/local/lib/python3.10/dist-packages/sklearn/model_selection/_split.py:700: UserWarning:\n",
            "\n",
            "The least populated class in y has only 1 members, which is less than n_splits=5.\n",
            "\n",
            "/usr/local/lib/python3.10/dist-packages/sklearn/model_selection/_split.py:700: UserWarning:\n",
            "\n",
            "The least populated class in y has only 1 members, which is less than n_splits=5.\n",
            "\n",
            "/usr/local/lib/python3.10/dist-packages/sklearn/model_selection/_split.py:700: UserWarning:\n",
            "\n",
            "The least populated class in y has only 1 members, which is less than n_splits=5.\n",
            "\n",
            "/usr/local/lib/python3.10/dist-packages/sklearn/model_selection/_split.py:700: UserWarning:\n",
            "\n",
            "The least populated class in y has only 1 members, which is less than n_splits=5.\n",
            "\n",
            "/usr/local/lib/python3.10/dist-packages/sklearn/model_selection/_split.py:700: UserWarning:\n",
            "\n",
            "The least populated class in y has only 1 members, which is less than n_splits=5.\n",
            "\n",
            "/usr/local/lib/python3.10/dist-packages/sklearn/model_selection/_split.py:700: UserWarning:\n",
            "\n",
            "The least populated class in y has only 1 members, which is less than n_splits=5.\n",
            "\n",
            "/usr/local/lib/python3.10/dist-packages/sklearn/model_selection/_split.py:700: UserWarning:\n",
            "\n",
            "The least populated class in y has only 1 members, which is less than n_splits=5.\n",
            "\n",
            "/usr/local/lib/python3.10/dist-packages/sklearn/model_selection/_split.py:700: UserWarning:\n",
            "\n",
            "The least populated class in y has only 1 members, which is less than n_splits=5.\n",
            "\n",
            "/usr/local/lib/python3.10/dist-packages/sklearn/model_selection/_split.py:700: UserWarning:\n",
            "\n",
            "The least populated class in y has only 1 members, which is less than n_splits=5.\n",
            "\n",
            "/usr/local/lib/python3.10/dist-packages/sklearn/model_selection/_split.py:700: UserWarning:\n",
            "\n",
            "The least populated class in y has only 1 members, which is less than n_splits=5.\n",
            "\n",
            "/usr/local/lib/python3.10/dist-packages/sklearn/model_selection/_split.py:700: UserWarning:\n",
            "\n",
            "The least populated class in y has only 1 members, which is less than n_splits=5.\n",
            "\n",
            "/usr/local/lib/python3.10/dist-packages/sklearn/model_selection/_split.py:700: UserWarning:\n",
            "\n",
            "The least populated class in y has only 1 members, which is less than n_splits=5.\n",
            "\n",
            "/usr/local/lib/python3.10/dist-packages/sklearn/model_selection/_split.py:700: UserWarning:\n",
            "\n",
            "The least populated class in y has only 1 members, which is less than n_splits=5.\n",
            "\n",
            "/usr/local/lib/python3.10/dist-packages/sklearn/model_selection/_split.py:700: UserWarning:\n",
            "\n",
            "The least populated class in y has only 1 members, which is less than n_splits=5.\n",
            "\n",
            "/usr/local/lib/python3.10/dist-packages/sklearn/model_selection/_split.py:700: UserWarning:\n",
            "\n",
            "The least populated class in y has only 1 members, which is less than n_splits=5.\n",
            "\n",
            "/usr/local/lib/python3.10/dist-packages/sklearn/model_selection/_split.py:700: UserWarning:\n",
            "\n",
            "The least populated class in y has only 1 members, which is less than n_splits=5.\n",
            "\n",
            "/usr/local/lib/python3.10/dist-packages/sklearn/model_selection/_split.py:700: UserWarning:\n",
            "\n",
            "The least populated class in y has only 1 members, which is less than n_splits=5.\n",
            "\n",
            "/usr/local/lib/python3.10/dist-packages/sklearn/model_selection/_split.py:700: UserWarning:\n",
            "\n",
            "The least populated class in y has only 1 members, which is less than n_splits=5.\n",
            "\n",
            "/usr/local/lib/python3.10/dist-packages/sklearn/model_selection/_split.py:700: UserWarning:\n",
            "\n",
            "The least populated class in y has only 1 members, which is less than n_splits=5.\n",
            "\n",
            "/usr/local/lib/python3.10/dist-packages/sklearn/model_selection/_split.py:700: UserWarning:\n",
            "\n",
            "The least populated class in y has only 1 members, which is less than n_splits=5.\n",
            "\n"
          ]
        },
        {
          "output_type": "execute_result",
          "data": {
            "text/plain": [
              "0.5282603346456692"
            ]
          },
          "metadata": {},
          "execution_count": 65
        }
      ]
    },
    {
      "cell_type": "code",
      "source": [
        "# El modelo 4 es el que mejor performa = 0.53"
      ],
      "metadata": {
        "id": "KK4EH6cQPYXU"
      },
      "execution_count": null,
      "outputs": []
    },
    {
      "cell_type": "markdown",
      "source": [
        "#Modelo final: Modelo 3"
      ],
      "metadata": {
        "id": "4pHy7v1mPkNA"
      }
    },
    {
      "cell_type": "code",
      "source": [
        "clf_final=KNN()"
      ],
      "metadata": {
        "id": "L-1IlldmRKkS"
      },
      "execution_count": null,
      "outputs": []
    },
    {
      "cell_type": "code",
      "source": [
        "X_train_final=X_train_4"
      ],
      "metadata": {
        "id": "Jmici9XMWnj7"
      },
      "execution_count": null,
      "outputs": []
    },
    {
      "cell_type": "code",
      "source": [
        "clf_final.fit(X_train_final,y_train)"
      ],
      "metadata": {
        "id": "qXjh1TfqVBDt",
        "colab": {
          "base_uri": "https://localhost:8080/",
          "height": 75
        },
        "outputId": "e20f3f55-888d-4fd7-d5a6-59f06d581db8"
      },
      "execution_count": null,
      "outputs": [
        {
          "output_type": "execute_result",
          "data": {
            "text/plain": [
              "KNeighborsClassifier()"
            ],
            "text/html": [
              "<style>#sk-container-id-4 {color: black;background-color: white;}#sk-container-id-4 pre{padding: 0;}#sk-container-id-4 div.sk-toggleable {background-color: white;}#sk-container-id-4 label.sk-toggleable__label {cursor: pointer;display: block;width: 100%;margin-bottom: 0;padding: 0.3em;box-sizing: border-box;text-align: center;}#sk-container-id-4 label.sk-toggleable__label-arrow:before {content: \"▸\";float: left;margin-right: 0.25em;color: #696969;}#sk-container-id-4 label.sk-toggleable__label-arrow:hover:before {color: black;}#sk-container-id-4 div.sk-estimator:hover label.sk-toggleable__label-arrow:before {color: black;}#sk-container-id-4 div.sk-toggleable__content {max-height: 0;max-width: 0;overflow: hidden;text-align: left;background-color: #f0f8ff;}#sk-container-id-4 div.sk-toggleable__content pre {margin: 0.2em;color: black;border-radius: 0.25em;background-color: #f0f8ff;}#sk-container-id-4 input.sk-toggleable__control:checked~div.sk-toggleable__content {max-height: 200px;max-width: 100%;overflow: auto;}#sk-container-id-4 input.sk-toggleable__control:checked~label.sk-toggleable__label-arrow:before {content: \"▾\";}#sk-container-id-4 div.sk-estimator input.sk-toggleable__control:checked~label.sk-toggleable__label {background-color: #d4ebff;}#sk-container-id-4 div.sk-label input.sk-toggleable__control:checked~label.sk-toggleable__label {background-color: #d4ebff;}#sk-container-id-4 input.sk-hidden--visually {border: 0;clip: rect(1px 1px 1px 1px);clip: rect(1px, 1px, 1px, 1px);height: 1px;margin: -1px;overflow: hidden;padding: 0;position: absolute;width: 1px;}#sk-container-id-4 div.sk-estimator {font-family: monospace;background-color: #f0f8ff;border: 1px dotted black;border-radius: 0.25em;box-sizing: border-box;margin-bottom: 0.5em;}#sk-container-id-4 div.sk-estimator:hover {background-color: #d4ebff;}#sk-container-id-4 div.sk-parallel-item::after {content: \"\";width: 100%;border-bottom: 1px solid gray;flex-grow: 1;}#sk-container-id-4 div.sk-label:hover label.sk-toggleable__label {background-color: #d4ebff;}#sk-container-id-4 div.sk-serial::before {content: \"\";position: absolute;border-left: 1px solid gray;box-sizing: border-box;top: 0;bottom: 0;left: 50%;z-index: 0;}#sk-container-id-4 div.sk-serial {display: flex;flex-direction: column;align-items: center;background-color: white;padding-right: 0.2em;padding-left: 0.2em;position: relative;}#sk-container-id-4 div.sk-item {position: relative;z-index: 1;}#sk-container-id-4 div.sk-parallel {display: flex;align-items: stretch;justify-content: center;background-color: white;position: relative;}#sk-container-id-4 div.sk-item::before, #sk-container-id-4 div.sk-parallel-item::before {content: \"\";position: absolute;border-left: 1px solid gray;box-sizing: border-box;top: 0;bottom: 0;left: 50%;z-index: -1;}#sk-container-id-4 div.sk-parallel-item {display: flex;flex-direction: column;z-index: 1;position: relative;background-color: white;}#sk-container-id-4 div.sk-parallel-item:first-child::after {align-self: flex-end;width: 50%;}#sk-container-id-4 div.sk-parallel-item:last-child::after {align-self: flex-start;width: 50%;}#sk-container-id-4 div.sk-parallel-item:only-child::after {width: 0;}#sk-container-id-4 div.sk-dashed-wrapped {border: 1px dashed gray;margin: 0 0.4em 0.5em 0.4em;box-sizing: border-box;padding-bottom: 0.4em;background-color: white;}#sk-container-id-4 div.sk-label label {font-family: monospace;font-weight: bold;display: inline-block;line-height: 1.2em;}#sk-container-id-4 div.sk-label-container {text-align: center;}#sk-container-id-4 div.sk-container {/* jupyter's `normalize.less` sets `[hidden] { display: none; }` but bootstrap.min.css set `[hidden] { display: none !important; }` so we also need the `!important` here to be able to override the default hidden behavior on the sphinx rendered scikit-learn.org. See: https://github.com/scikit-learn/scikit-learn/issues/21755 */display: inline-block !important;position: relative;}#sk-container-id-4 div.sk-text-repr-fallback {display: none;}</style><div id=\"sk-container-id-4\" class=\"sk-top-container\"><div class=\"sk-text-repr-fallback\"><pre>KNeighborsClassifier()</pre><b>In a Jupyter environment, please rerun this cell to show the HTML representation or trust the notebook. <br />On GitHub, the HTML representation is unable to render, please try loading this page with nbviewer.org.</b></div><div class=\"sk-container\" hidden><div class=\"sk-item\"><div class=\"sk-estimator sk-toggleable\"><input class=\"sk-toggleable__control sk-hidden--visually\" id=\"sk-estimator-id-8\" type=\"checkbox\" checked><label for=\"sk-estimator-id-8\" class=\"sk-toggleable__label sk-toggleable__label-arrow\">KNeighborsClassifier</label><div class=\"sk-toggleable__content\"><pre>KNeighborsClassifier()</pre></div></div></div></div></div>"
            ]
          },
          "metadata": {},
          "execution_count": 68
        }
      ]
    },
    {
      "cell_type": "markdown",
      "source": [
        "## Evaluacion Final"
      ],
      "metadata": {
        "id": "8PGV1CLhO6ya"
      }
    },
    {
      "cell_type": "markdown",
      "source": [
        "**Las variables finales con las que trabajaremos, de acuerdo con el modelo, son las siguientes:**"
      ],
      "metadata": {
        "id": "bXMSHk90RoGn"
      }
    },
    {
      "cell_type": "markdown",
      "source": [
        "- Q243: Democracy: People choose their leaders in free elections\n",
        "- Q112: Perceptions of corruption in the country\n",
        "- Q237: Political system: Having the army rule (relación inversa).\n",
        "- Q197: Government has the right: Monitor all e-mails and any other information exchanged on the Internet"
      ],
      "metadata": {
        "id": "gqqChNiJRGj1"
      }
    },
    {
      "cell_type": "markdown",
      "source": [
        "Todas ellas tienen una relación lógica con la percepción que puede tener una persona acerca de la democracia.\n",
        "- En cuanto a la variable \"**Q243**\", es lógico esperar que quienes crean que efectivamente los líderes de su país son elegidos en elecciones libres, crean en este sistema de gobierno, al menos en mayor medida respecto de quienes puedan considerar que las elecciones no son tan virtuosas.\n",
        "- La variable **\"Q112\"** \"Perception of corruption in the country\" lógicamente incide en cómo una persona pueda percibir a la democracia: quienes perciban que la toma de decisiones que afectaran al conjunto de la sociedad obedecen a reglas diferentes a la voluntad popular podrían ser más propensos a cuestionar este régimen político.\n",
        "- La variable **\"Q237\"** Political system: Having the army rule es de especial interés ya que cuestiona acerca de la percepción que tienen las personas de un actor importante en el ordenamiento social: el ejército. Ha sido en la historia latinoamericana del siglo pasado el protagonista del régimen político alternativo a la democracia, y por ende es esperable que quienes tengan una mejor percepción de este régimen, sean más críticos de la democracia. La relación es entonces inversa (la correlación se ve positiva por el hecho de que las respuestas están invertidas: 1 significa muy de acuerdo, y 4 significa totalmente en desacuerdo).\n",
        "- Finalmente, la variable **Q197** pone en cuestión los límites a los cuales los gobiernos podrían acceder en la vida privada de las personas. Los gobiernos más autoritarios tienden a gobernar mayores ámbitos de las personas que aquellos más liberales (y por ende consistentes con las democracias o"
      ],
      "metadata": {
        "id": "WSM64eDCRtVE"
      }
    },
    {
      "cell_type": "code",
      "source": [
        "from sklearn.metrics import accuracy_score"
      ],
      "metadata": {
        "id": "uGhXZEtlO80r"
      },
      "execution_count": null,
      "outputs": []
    },
    {
      "cell_type": "code",
      "source": [
        "#el modelo cuatro solo entreno con las variables elegidas por la segunda SFS\n",
        "#son estas:\n",
        "list(sfs1.k_feature_names_)"
      ],
      "metadata": {
        "id": "Mle1--1WVbII",
        "colab": {
          "base_uri": "https://localhost:8080/"
        },
        "outputId": "e36aab65-97a0-4481-d698-0ac3a31f5fb8"
      },
      "execution_count": null,
      "outputs": [
        {
          "output_type": "execute_result",
          "data": {
            "text/plain": [
              "['Q243', 'Q112', 'Q237', 'Q197', 'Q127']"
            ]
          },
          "metadata": {},
          "execution_count": 69
        }
      ]
    },
    {
      "cell_type": "code",
      "source": [
        "X_test_final=X_test[['Q243', 'Q112', 'Q237', 'Q197', 'Q127']]"
      ],
      "metadata": {
        "id": "-O6kTslTVSPZ"
      },
      "execution_count": null,
      "outputs": []
    },
    {
      "cell_type": "code",
      "source": [
        "y_pred_test=clf_final.predict(X_test_final)"
      ],
      "metadata": {
        "id": "1EPaJLasPEzK"
      },
      "execution_count": null,
      "outputs": []
    },
    {
      "cell_type": "code",
      "source": [
        "y_pred_test"
      ],
      "metadata": {
        "id": "ujfobdAwPUqJ",
        "colab": {
          "base_uri": "https://localhost:8080/"
        },
        "outputId": "1a637731-74ad-4039-ae76-8164667d3b6b"
      },
      "execution_count": null,
      "outputs": [
        {
          "output_type": "execute_result",
          "data": {
            "text/plain": [
              "array([ 7., 10.,  4., 10.,  9., 10.,  9.,  8.,  8., 10., 10., 10., 10.,\n",
              "        8.,  8., 10.,  9.,  9., 10., 10.,  6.,  9.,  7., 10.,  7., 10.,\n",
              "        8., 10., 10.,  7., 10., 10., 10., 10., 10., 10., 10., 10., 10.,\n",
              "       10.,  8., 10.,  8., 10.,  9., 10., 10.,  6., 10., 10.,  8., 10.,\n",
              "       10., 10., 10.,  7.,  6.,  8., 10., 10., 10., 10., 10.,  6., 10.,\n",
              "        5.,  8.,  6.,  6., 10., 10., 10., 10., 10.,  6., 10., 10., 10.,\n",
              "       10., 10.,  8., 10., 10., 10.,  8., 10.,  4.,  9., 10.,  4., 10.,\n",
              "        9., 10.,  4., 10.,  8., 10., 10., 10., 10., 10., 10., 10.,  6.,\n",
              "       10., 10., 10.,  7., 10., 10.,  9.,  9.,  6., 10., 10., 10., 10.,\n",
              "       10., 10., 10., 10., 10., 10., 10.,  7., 10.,  8., 10., 10.,  7.,\n",
              "       10., 10., 10., 10.,  8.,  3., 10., 10., 10., 10.,  9., 10., 10.,\n",
              "       10., 10.,  4., 10., 10.,  8.,  9.,  9., 10., 10., 10.,  8.,  4.,\n",
              "       10., 10.,  9., 10., 10., 10., 10., 10.,  8.,  3., 10., 10., 10.,\n",
              "        9., 10.,  9.,  8., 10., 10.,  8., 10., 10., 10., 10., 10., 10.,\n",
              "       10.,  8.,  4., 10.,  8., 10.,  8., 10., 10., 10., 10., 10., 10.,\n",
              "       10.,  8., 10.,  7.,  9.,  8., 10., 10., 10.,  8., 10.,  8.,  8.,\n",
              "       10., 10., 10.,  8., 10.])"
            ]
          },
          "metadata": {},
          "execution_count": 72
        }
      ]
    },
    {
      "cell_type": "code",
      "source": [
        "y_test"
      ],
      "metadata": {
        "id": "SffnC69cPVdt",
        "colab": {
          "base_uri": "https://localhost:8080/"
        },
        "outputId": "c4c7c783-b929-4663-c708-504c3c5126b3"
      },
      "execution_count": null,
      "outputs": [
        {
          "output_type": "execute_result",
          "data": {
            "text/plain": [
              "38     10.0\n",
              "702    10.0\n",
              "882     6.0\n",
              "742     7.0\n",
              "195    10.0\n",
              "       ... \n",
              "937    10.0\n",
              "16     10.0\n",
              "749     5.0\n",
              "20     10.0\n",
              "572     6.0\n",
              "Name: Q250, Length: 213, dtype: float64"
            ]
          },
          "metadata": {},
          "execution_count": 73
        }
      ]
    },
    {
      "cell_type": "code",
      "source": [
        "accuracy_score(y_pred_test,y_test)"
      ],
      "metadata": {
        "id": "f86lzlgnRjrd",
        "colab": {
          "base_uri": "https://localhost:8080/"
        },
        "outputId": "de377b4b-55d5-45c1-8466-af2c422b492c"
      },
      "execution_count": null,
      "outputs": [
        {
          "output_type": "execute_result",
          "data": {
            "text/plain": [
              "0.48826291079812206"
            ]
          },
          "metadata": {},
          "execution_count": 74
        }
      ]
    }
  ]
}